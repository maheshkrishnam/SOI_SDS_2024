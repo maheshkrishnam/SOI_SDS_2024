{
  "cells": [
    {
      "cell_type": "markdown",
      "metadata": {
        "id": "Y7Zx9wuPyd_B"
      },
      "source": [
        "## Importing Libraries used"
      ]
    },
    {
      "cell_type": "code",
      "execution_count": 1,
      "metadata": {
        "colab": {
          "base_uri": "https://localhost:8080/"
        },
        "id": "y3NT6JDWzY1S",
        "outputId": "ca13e041-79be-4589-a1a7-3fb3bcd82aba"
      },
      "outputs": [
        {
          "output_type": "stream",
          "name": "stdout",
          "text": [
            "\u001b[2K     \u001b[90m━━━━━━━━━━━━━━━━━━━━━━━━━━━━━━━━━━━━━━━━\u001b[0m \u001b[32m868.8/868.8 kB\u001b[0m \u001b[31m6.8 MB/s\u001b[0m eta \u001b[36m0:00:00\u001b[0m\n",
            "\u001b[2K     \u001b[90m━━━━━━━━━━━━━━━━━━━━━━━━━━━━━━━━━━━━━━━━\u001b[0m \u001b[32m21.3/21.3 MB\u001b[0m \u001b[31m47.6 MB/s\u001b[0m eta \u001b[36m0:00:00\u001b[0m\n",
            "\u001b[?25h"
          ]
        }
      ],
      "source": [
        "!pip install -q torchmetrics"
      ]
    },
    {
      "cell_type": "code",
      "execution_count": 2,
      "metadata": {
        "id": "dZR0GzQ-yhbk"
      },
      "outputs": [],
      "source": [
        "import os\n",
        "import numpy as np\n",
        "import pandas as pd\n",
        "import matplotlib.pyplot as plt\n",
        "import seaborn as sns\n",
        "from typing import Tuple, Dict, List\n",
        "\n",
        "import torch\n",
        "from torch import nn\n",
        "from torch.utils.data import Dataset, DataLoader, Subset\n",
        "from torchvision import transforms, datasets\n",
        "\n",
        "from timeit import default_timer as timer\n",
        "from tqdm.auto import tqdm\n",
        "from torchmetrics import Accuracy\n",
        "\n",
        "from sklearn.model_selection import train_test_split\n",
        "from sklearn.metrics import confusion_matrix\n",
        "\n",
        "import requests\n",
        "import zipfile\n",
        "from pathlib import Path\n",
        "import random\n",
        "from PIL import Image\n",
        "from collections import Counter\n"
      ]
    },
    {
      "cell_type": "code",
      "execution_count": 2,
      "metadata": {
        "id": "6-EJqDbHyhe5"
      },
      "outputs": [],
      "source": []
    },
    {
      "cell_type": "markdown",
      "metadata": {
        "id": "pYD-pY2EyXHX"
      },
      "source": [
        "## Downloading Dataset from GitHub"
      ]
    },
    {
      "cell_type": "code",
      "execution_count": 3,
      "metadata": {
        "colab": {
          "base_uri": "https://localhost:8080/"
        },
        "id": "mTKaBf0Bxy_Y",
        "outputId": "31fdef12-1458-4b86-8b59-8eb68710f50c"
      },
      "outputs": [
        {
          "output_type": "stream",
          "name": "stdout",
          "text": [
            "data/dataset not found, creating data/dataset\n",
            "Downloading dataset\n",
            "Unzipping dataset\n"
          ]
        }
      ],
      "source": [
        "data_path = Path('data')\n",
        "image_path = data_path/'dataset'\n",
        "zip_image_path = data_path/'dataset.zip'\n",
        "\n",
        "if image_path.is_dir():\n",
        "  print(f'{image_path} already exist... \\nSkipping download')\n",
        "else:\n",
        "  print(f'{image_path} not found, creating {image_path}')\n",
        "  image_path.mkdir(parents=True, exist_ok=True)\n",
        "\n",
        "  with open(zip_image_path, 'wb') as f:\n",
        "    request = requests.get('https://github.com/maheshkrishnam/SOI_SDS_2024/raw/main/train_data_with_classes.zip')\n",
        "    print('Downloading dataset')\n",
        "    f.write(request.content)\n",
        "\n",
        "  with zipfile.ZipFile(zip_image_path, 'r') as zip_ref:\n",
        "    print('Unzipping dataset')\n",
        "    zip_ref.extractall(image_path)\n"
      ]
    },
    {
      "cell_type": "markdown",
      "metadata": {
        "id": "hyfks2Ja2xOr"
      },
      "source": [
        "## Understanding and Visualizing the dataset"
      ]
    },
    {
      "cell_type": "markdown",
      "metadata": {
        "id": "AZdwj1qH7HTT"
      },
      "source": [
        "### Understating the structure of dataset"
      ]
    },
    {
      "cell_type": "code",
      "execution_count": 4,
      "metadata": {
        "id": "1EpEmMHcxzEz"
      },
      "outputs": [],
      "source": [
        "def walk_through_dir(image_path):\n",
        "  for dirpath, dirnames, filenames in os.walk(image_path):\n",
        "    if len(filenames) == 0:\n",
        "      print(f'{dirpath} have directories {dirnames}')\n",
        "    elif len(dirnames) == 0:\n",
        "      print(f'{dirpath} having {len(filenames)} files')\n",
        "    else :\n",
        "      print(f'{dirpath} have directories {dirnames} having {len(filenames)} files')\n",
        "\n"
      ]
    },
    {
      "cell_type": "code",
      "execution_count": 5,
      "metadata": {
        "colab": {
          "base_uri": "https://localhost:8080/"
        },
        "id": "0bR7P8ZsxzHK",
        "outputId": "e4282db1-b6a5-4dc5-f633-1e3881386a1b"
      },
      "outputs": [
        {
          "output_type": "stream",
          "name": "stdout",
          "text": [
            "data/dataset have directories ['dark dune', 'spider', 'swiss cheese', 'slope streak', 'other', 'crater', 'impact ejecta', 'bright dune']\n",
            "data/dataset/dark dune having 216 files\n",
            "data/dataset/spider having 66 files\n",
            "data/dataset/swiss cheese having 223 files\n",
            "data/dataset/slope streak having 335 files\n",
            "data/dataset/other having 3651 files\n",
            "data/dataset/crater having 1062 files\n",
            "data/dataset/impact ejecta having 51 files\n",
            "data/dataset/bright dune having 597 files\n"
          ]
        }
      ],
      "source": [
        "walk_through_dir(image_path=image_path)"
      ]
    },
    {
      "cell_type": "code",
      "execution_count": 6,
      "metadata": {
        "colab": {
          "base_uri": "https://localhost:8080/"
        },
        "id": "MUqYsIEzxzKC",
        "outputId": "ab14cf27-4fa4-44a2-eaf8-d7f1488fc7d7"
      },
      "outputs": [
        {
          "output_type": "execute_result",
          "data": {
            "text/plain": [
              "PosixPath('data/dataset')"
            ]
          },
          "metadata": {},
          "execution_count": 6
        }
      ],
      "source": [
        "dataset_dir = image_path\n",
        "\n",
        "dataset_dir"
      ]
    },
    {
      "cell_type": "markdown",
      "metadata": {
        "id": "GaKdhfUB7BlX"
      },
      "source": [
        "### Visualizing images"
      ]
    },
    {
      "cell_type": "markdown",
      "metadata": {
        "id": "s-0Stvz07c68"
      },
      "source": [
        "#### Using PIL library"
      ]
    },
    {
      "cell_type": "code",
      "execution_count": 7,
      "metadata": {
        "colab": {
          "base_uri": "https://localhost:8080/"
        },
        "id": "o9_OuCuTxzMA",
        "outputId": "0a849125-67ca-4524-b9d1-2555f9b0dc29"
      },
      "outputs": [
        {
          "output_type": "stream",
          "name": "stdout",
          "text": [
            "Image Class : other\n",
            "Image shape : (227, 227) | Image width : 227 | Image height : 227\n",
            "Image filename : /content/data/dataset/other/1956.jpg\n",
            "Image : <PIL.JpegImagePlugin.JpegImageFile image mode=L size=227x227 at 0x7EC1EEDC3040>\n"
          ]
        },
        {
          "output_type": "execute_result",
          "data": {
            "text/plain": [
              "<PIL.JpegImagePlugin.JpegImageFile image mode=L size=227x227>"
            ],
            "image/png": "[encoded data removed]"
          },
          "metadata": {},
          "execution_count": 7
        }
      ],
      "source": [
        "RANDOM_SEED = 0\n",
        "random.seed(RANDOM_SEED)\n",
        "\n",
        "pattern = '*/*.jpg'\n",
        "image_path_list = list(image_path.glob(pattern))\n",
        "\n",
        "random_image_path = random.choice(image_path_list)\n",
        "\n",
        "image_class = random_image_path.parent.stem\n",
        "\n",
        "img = Image.open(random_image_path)\n",
        "print(f'Image Class : {image_class}')\n",
        "print(f'Image shape : {img.size} | Image width : {img.width} | Image height : {img.height}')\n",
        "print(f'Image filename : {img.filename}')\n",
        "print(f'Image : {img}')\n",
        "img\n"
      ]
    },
    {
      "cell_type": "markdown",
      "metadata": {
        "id": "y8ptKGOW-DaO"
      },
      "source": [
        "#### Using Matplot"
      ]
    },
    {
      "cell_type": "code",
      "execution_count": 8,
      "metadata": {
        "colab": {
          "base_uri": "https://localhost:8080/"
        },
        "id": "K0sKP2F3xzO5",
        "outputId": "a1b085f1-23e4-4698-cb22-6e44dda8bdf8"
      },
      "outputs": [
        {
          "output_type": "display_data",
          "data": {
            "text/plain": [
              "<Figure size 500x400 with 1 Axes>"
            ],
            "image/png": "[encoded data removed]"
          },
          "metadata": {}
        }
      ],
      "source": [
        "# preprocessing requires PIL library\n",
        "plt.figure(figsize=(5,4))\n",
        "plt.imshow(img, cmap='gray')\n",
        "plt.title(image_class)\n",
        "plt.axis('off')\n",
        "plt.show()"
      ]
    },
    {
      "cell_type": "markdown",
      "metadata": {
        "id": "84nb55MqBDPS"
      },
      "source": [
        "## Loading dataset using ImageFolder"
      ]
    },
    {
      "cell_type": "markdown",
      "metadata": {
        "id": "6Fd7KOSVCgJw"
      },
      "source": [
        "### Creating transforms"
      ]
    },
    {
      "cell_type": "code",
      "execution_count": 9,
      "metadata": {
        "colab": {
          "base_uri": "https://localhost:8080/"
        },
        "id": "oqlU2p-zxzUy",
        "outputId": "a891cd22-603d-4f7c-f9ff-5d5402bcc701"
      },
      "outputs": [
        {
          "output_type": "execute_result",
          "data": {
            "text/plain": [
              "Compose(\n",
              "    Resize(size=(28, 28), interpolation=bilinear, max_size=None, antialias=True)\n",
              "    ToTensor()\n",
              ")"
            ]
          },
          "metadata": {},
          "execution_count": 9
        }
      ],
      "source": [
        "transform = transforms.Compose([\n",
        "    transforms.Resize(size=(28, 28)),\n",
        "    transforms.ToTensor()\n",
        "])\n",
        "\n",
        "transform"
      ]
    },
    {
      "cell_type": "markdown",
      "source": [
        "### Converting Dataset using prebuild ImageFolder"
      ],
      "metadata": {
        "id": "cUnv77kn_Rtm"
      }
    },
    {
      "cell_type": "code",
      "source": [
        "whole_dataset = datasets.ImageFolder(\n",
        "  root=dataset_dir,\n",
        "  transform=transform,\n",
        "  target_transform=None\n",
        ")\n",
        "\n",
        "whole_dataset"
      ],
      "metadata": {
        "colab": {
          "base_uri": "https://localhost:8080/"
        },
        "id": "AjT5fuV7BwFc",
        "outputId": "69f5e60d-5250-431b-fc53-7899c4ff92a6"
      },
      "execution_count": 10,
      "outputs": [
        {
          "output_type": "execute_result",
          "data": {
            "text/plain": [
              "Dataset ImageFolder\n",
              "    Number of datapoints: 6201\n",
              "    Root location: data/dataset\n",
              "    StandardTransform\n",
              "Transform: Compose(\n",
              "               Resize(size=(28, 28), interpolation=bilinear, max_size=None, antialias=True)\n",
              "               ToTensor()\n",
              "           )"
            ]
          },
          "metadata": {},
          "execution_count": 10
        }
      ]
    },
    {
      "cell_type": "code",
      "source": [
        "whole_dataset[0]"
      ],
      "metadata": {
        "colab": {
          "base_uri": "https://localhost:8080/"
        },
        "id": "L1MJVflrDK1m",
        "outputId": "cd7b90bd-16a1-4928-849d-f43c23a3c0c1"
      },
      "execution_count": 11,
      "outputs": [
        {
          "output_type": "execute_result",
          "data": {
            "text/plain": [
              "(tensor([[[0.0000, 0.0039, 0.2745,  ..., 0.6588, 0.6510, 0.6314],\n",
              "          [0.0000, 0.0039, 0.1529,  ..., 0.6588, 0.6392, 0.6549],\n",
              "          [0.0000, 0.0000, 0.0706,  ..., 0.6510, 0.6471, 0.6510],\n",
              "          ...,\n",
              "          [0.0000, 0.0000, 0.0000,  ..., 0.6196, 0.6431, 0.6667],\n",
              "          [0.0000, 0.0000, 0.0000,  ..., 0.6627, 0.6157, 0.6314],\n",
              "          [0.0000, 0.0000, 0.0000,  ..., 0.6235, 0.5961, 0.6353]],\n",
              " \n",
              "         [[0.0000, 0.0039, 0.2745,  ..., 0.6588, 0.6510, 0.6314],\n",
              "          [0.0000, 0.0039, 0.1529,  ..., 0.6588, 0.6392, 0.6549],\n",
              "          [0.0000, 0.0000, 0.0706,  ..., 0.6510, 0.6471, 0.6510],\n",
              "          ...,\n",
              "          [0.0000, 0.0000, 0.0000,  ..., 0.6196, 0.6431, 0.6667],\n",
              "          [0.0000, 0.0000, 0.0000,  ..., 0.6627, 0.6157, 0.6314],\n",
              "          [0.0000, 0.0000, 0.0000,  ..., 0.6235, 0.5961, 0.6353]],\n",
              " \n",
              "         [[0.0000, 0.0039, 0.2745,  ..., 0.6588, 0.6510, 0.6314],\n",
              "          [0.0000, 0.0039, 0.1529,  ..., 0.6588, 0.6392, 0.6549],\n",
              "          [0.0000, 0.0000, 0.0706,  ..., 0.6510, 0.6471, 0.6510],\n",
              "          ...,\n",
              "          [0.0000, 0.0000, 0.0000,  ..., 0.6196, 0.6431, 0.6667],\n",
              "          [0.0000, 0.0000, 0.0000,  ..., 0.6627, 0.6157, 0.6314],\n",
              "          [0.0000, 0.0000, 0.0000,  ..., 0.6235, 0.5961, 0.6353]]]),\n",
              " 0)"
            ]
          },
          "metadata": {},
          "execution_count": 11
        }
      ]
    },
    {
      "cell_type": "markdown",
      "source": [
        "### Storing classes with their index"
      ],
      "metadata": {
        "id": "nk6d098e_oNQ"
      }
    },
    {
      "cell_type": "code",
      "source": [
        "class_name_idx = whole_dataset.class_to_idx\n",
        "class_name = whole_dataset.classes\n",
        "\n",
        "class_name_idx, class_name"
      ],
      "metadata": {
        "colab": {
          "base_uri": "https://localhost:8080/"
        },
        "id": "QqiCrpNDDHeW",
        "outputId": "9b4c4a29-f307-4edb-ade1-ab12edcf8a2d"
      },
      "execution_count": 12,
      "outputs": [
        {
          "output_type": "execute_result",
          "data": {
            "text/plain": [
              "({'bright dune': 0,\n",
              "  'crater': 1,\n",
              "  'dark dune': 2,\n",
              "  'impact ejecta': 3,\n",
              "  'other': 4,\n",
              "  'slope streak': 5,\n",
              "  'spider': 6,\n",
              "  'swiss cheese': 7},\n",
              " ['bright dune',\n",
              "  'crater',\n",
              "  'dark dune',\n",
              "  'impact ejecta',\n",
              "  'other',\n",
              "  'slope streak',\n",
              "  'spider',\n",
              "  'swiss cheese'])"
            ]
          },
          "metadata": {},
          "execution_count": 12
        }
      ]
    },
    {
      "cell_type": "markdown",
      "source": [
        "### Train Validation Split"
      ],
      "metadata": {
        "id": "LqkDtCXc_wzf"
      }
    },
    {
      "cell_type": "code",
      "execution_count": 13,
      "metadata": {
        "colab": {
          "base_uri": "https://localhost:8080/"
        },
        "id": "P2GlaX5_xzav",
        "outputId": "59ad136a-d67a-4ccd-868a-96bedf3616d1"
      },
      "outputs": [
        {
          "output_type": "execute_result",
          "data": {
            "text/plain": [
              "(4960, 1241)"
            ]
          },
          "metadata": {},
          "execution_count": 13
        }
      ],
      "source": [
        "train_dataset, val_dataset = train_test_split(whole_dataset, test_size=0.2, random_state=RANDOM_SEED)\n",
        "\n",
        "len(train_dataset), len(val_dataset)"
      ]
    },
    {
      "cell_type": "markdown",
      "source": [
        "### Plotting images"
      ],
      "metadata": {
        "id": "rgeMOjoB_0W_"
      }
    },
    {
      "cell_type": "code",
      "execution_count": 14,
      "metadata": {
        "colab": {
          "base_uri": "https://localhost:8080/",
          "height": 427
        },
        "id": "4qAHHU3DEQwe",
        "outputId": "18ff98b3-ea4c-4bb6-a47c-01194ee2b467"
      },
      "outputs": [
        {
          "output_type": "stream",
          "name": "stdout",
          "text": [
            "Image shape : torch.Size([3, 28, 28])\n",
            "Image datatype : torch.float32\n"
          ]
        },
        {
          "output_type": "display_data",
          "data": {
            "text/plain": [
              "<Figure size 500x400 with 1 Axes>"
            ],
            "image/png": "[encoded data removed]"
          },
          "metadata": {}
        }
      ],
      "source": [
        "plt.figure(figsize=(5,4))\n",
        "plt.imshow(train_dataset[0][0].permute(1,2,0))\n",
        "plt.title(train_dataset[0][1])\n",
        "print(f'Image shape : {train_dataset[0][0].shape}')\n",
        "print(f'Image datatype : {train_dataset[0][0].dtype}')\n",
        "plt.show()\n"
      ]
    },
    {
      "cell_type": "markdown",
      "source": [
        "### Assigning Weight to each Class"
      ],
      "metadata": {
        "id": "_N5kORKEtvug"
      }
    },
    {
      "cell_type": "code",
      "source": [
        "all_labels = [label for _, label in whole_dataset]\n",
        "class_counts = Counter(all_labels)\n",
        "\n",
        "total_count = len(all_labels)\n",
        "class_weights = {cls: total_count / count for cls, count in class_counts.items()}\n",
        "print(class_counts, class_weights)\n",
        "\n",
        "sample_weights = [class_weights[label] for _, label in train_dataset]\n",
        "val_sample_weights = [class_weights[label] for _, label in val_dataset]\n",
        "\n",
        "sample_weights = torch.tensor(sample_weights, dtype=torch.float)\n",
        "val_sample_weights = torch.tensor(val_sample_weights, dtype=torch.float)\n",
        "\n",
        "len(sample_weights), len(val_sample_weights), sample_weights, val_sample_weights"
      ],
      "metadata": {
        "colab": {
          "base_uri": "https://localhost:8080/"
        },
        "id": "rSSYmh_HtvSf",
        "outputId": "08c0b2c9-a08c-4230-ffa5-ac78e0fe1aad"
      },
      "execution_count": 15,
      "outputs": [
        {
          "output_type": "stream",
          "name": "stdout",
          "text": [
            "Counter({4: 3651, 1: 1062, 0: 597, 5: 335, 7: 223, 2: 216, 6: 66, 3: 51}) {0: 10.386934673366834, 1: 5.838983050847458, 2: 28.708333333333332, 3: 121.58823529411765, 4: 1.6984387838948234, 5: 18.51044776119403, 6: 93.95454545454545, 7: 27.807174887892376}\n"
          ]
        },
        {
          "output_type": "execute_result",
          "data": {
            "text/plain": [
              "(4960,\n",
              " 1241,\n",
              " tensor([1.6984, 1.6984, 1.6984,  ..., 5.8390, 1.6984, 1.6984]),\n",
              " tensor([10.3869,  1.6984,  1.6984,  ...,  1.6984,  1.6984,  1.6984]))"
            ]
          },
          "metadata": {},
          "execution_count": 15
        }
      ]
    },
    {
      "cell_type": "markdown",
      "source": [
        "#### Creating Sampler"
      ],
      "metadata": {
        "id": "J_wPqcLN_-Jq"
      }
    },
    {
      "cell_type": "code",
      "source": [
        "sampler = torch.utils.data.WeightedRandomSampler(\n",
        "    weights=sample_weights,\n",
        "    num_samples=len(sample_weights),\n",
        "    replacement=True\n",
        ")\n",
        "\n",
        "val_sampler = torch.utils.data.WeightedRandomSampler(\n",
        "    weights=val_sample_weights,\n",
        "    num_samples=len(val_sample_weights),\n",
        "    replacement=True\n",
        ")\n",
        "\n",
        "sampler, val_sampler"
      ],
      "metadata": {
        "colab": {
          "base_uri": "https://localhost:8080/"
        },
        "id": "S-2db7Z-umaz",
        "outputId": "4706b3b1-5f3e-49a0-93e3-8485cbfea476"
      },
      "execution_count": 16,
      "outputs": [
        {
          "output_type": "execute_result",
          "data": {
            "text/plain": [
              "(<torch.utils.data.sampler.WeightedRandomSampler at 0x7ec1e5d44cd0>,\n",
              " <torch.utils.data.sampler.WeightedRandomSampler at 0x7ec1e5d44820>)"
            ]
          },
          "metadata": {},
          "execution_count": 16
        }
      ]
    },
    {
      "cell_type": "markdown",
      "metadata": {
        "id": "uPrJc34BHMLl"
      },
      "source": [
        "### Converting Dataset in DataLoader"
      ]
    },
    {
      "cell_type": "code",
      "execution_count": 17,
      "metadata": {
        "id": "f2NW1EyOEQyv"
      },
      "outputs": [],
      "source": [
        "BATCH_SIZE = 32\n",
        "NUM_WORKERS = os.cpu_count()\n",
        "\n",
        "train_dataloader = DataLoader(\n",
        "    dataset=train_dataset,\n",
        "    batch_size=BATCH_SIZE,\n",
        "    num_workers=NUM_WORKERS,\n",
        "    sampler=sampler\n",
        ")\n",
        "\n",
        "val_dataloader = DataLoader(\n",
        "    dataset=val_dataset,\n",
        "    batch_size=1,\n",
        "    num_workers=NUM_WORKERS,\n",
        "    sampler=val_sampler\n",
        ")\n"
      ]
    },
    {
      "cell_type": "code",
      "execution_count": 18,
      "metadata": {
        "colab": {
          "base_uri": "https://localhost:8080/"
        },
        "id": "baWntj3PW_Wq",
        "outputId": "a52d95ba-2724-4c00-9a58-838ceb18fb90"
      },
      "outputs": [
        {
          "output_type": "execute_result",
          "data": {
            "text/plain": [
              "(torch.Size([32, 3, 28, 28]), torch.Size([32]))"
            ]
          },
          "metadata": {},
          "execution_count": 18
        }
      ],
      "source": [
        "image, label = next(iter(train_dataloader))\n",
        "image.shape, label.shape"
      ]
    },
    {
      "cell_type": "markdown",
      "source": [
        "## Model"
      ],
      "metadata": {
        "id": "unuHs5w2AFrb"
      }
    },
    {
      "cell_type": "markdown",
      "source": [
        "### Defining Model Class"
      ],
      "metadata": {
        "id": "rkqYSfmHAIFh"
      }
    },
    {
      "cell_type": "code",
      "execution_count": 19,
      "metadata": {
        "id": "a33GNcNMW_ms"
      },
      "outputs": [],
      "source": [
        "class Model(nn.Module):\n",
        "  def __init__(self, input_shape, hidden_units, output_shape):\n",
        "    super().__init__()\n",
        "    self.block_1 = nn.Sequential(\n",
        "      nn.Conv2d(in_channels=input_shape, out_channels=hidden_units, kernel_size=3, stride=1, padding=1),\n",
        "      nn.ReLU(),\n",
        "      nn.BatchNorm2d(hidden_units),\n",
        "      nn.Conv2d(in_channels=hidden_units, out_channels=hidden_units, kernel_size=3, stride=1, padding=1),\n",
        "      nn.ReLU(),\n",
        "      nn.MaxPool2d(kernel_size=2, stride=2, padding=0),\n",
        "      nn.BatchNorm2d(hidden_units),\n",
        "      nn.Dropout(0.4)\n",
        "    )\n",
        "    self.block_2 = nn.Sequential(\n",
        "      nn.Conv2d(in_channels=hidden_units, out_channels=2*hidden_units, kernel_size=3, stride=1, padding=1),\n",
        "      nn.ReLU(),\n",
        "      nn.BatchNorm2d(2*hidden_units),\n",
        "      nn.Conv2d(in_channels=2*hidden_units, out_channels=2*hidden_units, kernel_size=3, stride=1, padding=1),\n",
        "      nn.ReLU(),\n",
        "      nn.MaxPool2d(kernel_size=2, stride=2, padding=0),\n",
        "      nn.BatchNorm2d(2*hidden_units),\n",
        "      nn.Dropout(0.4)\n",
        "    )\n",
        "    self.block_3 = nn.Sequential(\n",
        "      nn.Conv2d(in_channels=2*hidden_units, out_channels=2*hidden_units, kernel_size=3, stride=1, padding=1),\n",
        "      nn.ReLU(),\n",
        "      nn.BatchNorm2d(2*hidden_units),\n",
        "      nn.Conv2d(in_channels=2*hidden_units, out_channels=2*hidden_units, kernel_size=3, stride=1, padding=1),\n",
        "      nn.ReLU(),\n",
        "      nn.MaxPool2d(kernel_size=2, stride=2, padding=0),\n",
        "      nn.BatchNorm2d(2*hidden_units),\n",
        "      nn.Dropout(0.4)\n",
        "    )\n",
        "    self.classifier = nn.Sequential(\n",
        "      nn.Flatten(),\n",
        "      nn.Linear(in_features=2*hidden_units*3*3, out_features=256),\n",
        "      nn.ReLU(),\n",
        "      nn.Dropout(0.4),\n",
        "      nn.Linear(in_features=256, out_features=output_shape)\n",
        "    )\n",
        "\n",
        "  def forward(self, x: torch.Tensor):\n",
        "    # print(x.shape)\n",
        "    x = self.block_1(x)\n",
        "    # print(x.shape)\n",
        "    x = self.block_2(x)\n",
        "    # print(x.shape)\n",
        "    x = self.block_3(x)\n",
        "    # print(x.shape)\n",
        "    x = self.classifier(x)\n",
        "    # print(x.shape)\n",
        "    return x\n"
      ]
    },
    {
      "cell_type": "markdown",
      "source": [
        "### Device agnostic code"
      ],
      "metadata": {
        "id": "h9a8vsk9ANB1"
      }
    },
    {
      "cell_type": "code",
      "source": [
        "device = 'cuda' if torch.cuda.is_available() else 'cpu'\n",
        "device"
      ],
      "metadata": {
        "colab": {
          "base_uri": "https://localhost:8080/",
          "height": 36
        },
        "id": "dkthhfzTJ1o-",
        "outputId": "df775696-0931-4532-e096-235581798733"
      },
      "execution_count": 20,
      "outputs": [
        {
          "output_type": "execute_result",
          "data": {
            "text/plain": [
              "'cuda'"
            ],
            "application/vnd.google.colaboratory.intrinsic+json": {
              "type": "string"
            }
          },
          "metadata": {},
          "execution_count": 20
        }
      ]
    },
    {
      "cell_type": "markdown",
      "source": [
        "### Making model out of the model class"
      ],
      "metadata": {
        "id": "Y8I3jyZCAPyn"
      }
    },
    {
      "cell_type": "code",
      "source": [
        "model = Model(\n",
        "    input_shape=3,\n",
        "    hidden_units=64,\n",
        "    output_shape=8\n",
        ").to(device)\n",
        "\n",
        "model"
      ],
      "metadata": {
        "colab": {
          "base_uri": "https://localhost:8080/"
        },
        "id": "fT_G0UMZJ1lc",
        "outputId": "f2a60b6f-bbdc-4d45-ba4a-b786e687157e"
      },
      "execution_count": 21,
      "outputs": [
        {
          "output_type": "execute_result",
          "data": {
            "text/plain": [
              "Model(\n",
              "  (block_1): Sequential(\n",
              "    (0): Conv2d(3, 64, kernel_size=(3, 3), stride=(1, 1), padding=(1, 1))\n",
              "    (1): ReLU()\n",
              "    (2): BatchNorm2d(64, eps=1e-05, momentum=0.1, affine=True, track_running_stats=True)\n",
              "    (3): Conv2d(64, 64, kernel_size=(3, 3), stride=(1, 1), padding=(1, 1))\n",
              "    (4): ReLU()\n",
              "    (5): MaxPool2d(kernel_size=2, stride=2, padding=0, dilation=1, ceil_mode=False)\n",
              "    (6): BatchNorm2d(64, eps=1e-05, momentum=0.1, affine=True, track_running_stats=True)\n",
              "    (7): Dropout(p=0.4, inplace=False)\n",
              "  )\n",
              "  (block_2): Sequential(\n",
              "    (0): Conv2d(64, 128, kernel_size=(3, 3), stride=(1, 1), padding=(1, 1))\n",
              "    (1): ReLU()\n",
              "    (2): BatchNorm2d(128, eps=1e-05, momentum=0.1, affine=True, track_running_stats=True)\n",
              "    (3): Conv2d(128, 128, kernel_size=(3, 3), stride=(1, 1), padding=(1, 1))\n",
              "    (4): ReLU()\n",
              "    (5): MaxPool2d(kernel_size=2, stride=2, padding=0, dilation=1, ceil_mode=False)\n",
              "    (6): BatchNorm2d(128, eps=1e-05, momentum=0.1, affine=True, track_running_stats=True)\n",
              "    (7): Dropout(p=0.4, inplace=False)\n",
              "  )\n",
              "  (block_3): Sequential(\n",
              "    (0): Conv2d(128, 128, kernel_size=(3, 3), stride=(1, 1), padding=(1, 1))\n",
              "    (1): ReLU()\n",
              "    (2): BatchNorm2d(128, eps=1e-05, momentum=0.1, affine=True, track_running_stats=True)\n",
              "    (3): Conv2d(128, 128, kernel_size=(3, 3), stride=(1, 1), padding=(1, 1))\n",
              "    (4): ReLU()\n",
              "    (5): MaxPool2d(kernel_size=2, stride=2, padding=0, dilation=1, ceil_mode=False)\n",
              "    (6): BatchNorm2d(128, eps=1e-05, momentum=0.1, affine=True, track_running_stats=True)\n",
              "    (7): Dropout(p=0.4, inplace=False)\n",
              "  )\n",
              "  (classifier): Sequential(\n",
              "    (0): Flatten(start_dim=1, end_dim=-1)\n",
              "    (1): Linear(in_features=1152, out_features=256, bias=True)\n",
              "    (2): ReLU()\n",
              "    (3): Dropout(p=0.4, inplace=False)\n",
              "    (4): Linear(in_features=256, out_features=8, bias=True)\n",
              "  )\n",
              ")"
            ]
          },
          "metadata": {},
          "execution_count": 21
        }
      ]
    },
    {
      "cell_type": "markdown",
      "source": [
        "### Early Stopping"
      ],
      "metadata": {
        "id": "hjc9937ghJ5X"
      }
    },
    {
      "cell_type": "code",
      "source": [
        "class EarlyStopping:\n",
        "  def __init__(self, patience=5, min_delta=0):\n",
        "    self.patience = patience\n",
        "    self.min_delta = min_delta\n",
        "    self.counter = 0\n",
        "    self.best_loss = None\n",
        "    self.early_stop = False\n",
        "\n",
        "  def __call__(self, loss):\n",
        "    if self.best_loss is None:\n",
        "      self.best_loss = loss\n",
        "    elif self.best_loss - loss > self.min_delta:\n",
        "      self.best_loss = loss\n",
        "      self.counter = 0\n",
        "    elif self.best_loss - loss < self.min_delta:\n",
        "      self.counter += 1\n",
        "      if self.counter >= self.patience:\n",
        "        self.early_stop = True"
      ],
      "metadata": {
        "id": "hwR_lsWzhJot"
      },
      "execution_count": 22,
      "outputs": []
    },
    {
      "cell_type": "markdown",
      "source": [
        "### Setting up the loss function, optimizer, accuracy metric, LR scheduler and earlystopping"
      ],
      "metadata": {
        "id": "Als4IBYGAT4D"
      }
    },
    {
      "cell_type": "code",
      "source": [
        "loss_fn = nn.CrossEntropyLoss().to(device)\n",
        "optimizer = torch.optim.Adam(\n",
        "    params=model.parameters(),\n",
        "    lr=0.003\n",
        ")\n",
        "accuracy_fn = Accuracy(task='multiclass', num_classes=8).to(device)\n",
        "scheduler = torch.optim.lr_scheduler.StepLR(\n",
        "    optimizer=optimizer,\n",
        "    step_size=10,\n",
        "    gamma=0.2\n",
        ")\n",
        "\n",
        "early_stopping = EarlyStopping(patience=5, min_delta=0.01)\n",
        "\n",
        "loss_fn, optimizer, accuracy_fn, scheduler, early_stopping"
      ],
      "metadata": {
        "colab": {
          "base_uri": "https://localhost:8080/"
        },
        "id": "93JTbv2YJ1jQ",
        "outputId": "75b40dc5-fca3-43b0-c2d8-3f2404a6678e"
      },
      "execution_count": 23,
      "outputs": [
        {
          "output_type": "execute_result",
          "data": {
            "text/plain": [
              "(CrossEntropyLoss(),\n",
              " Adam (\n",
              " Parameter Group 0\n",
              "     amsgrad: False\n",
              "     betas: (0.9, 0.999)\n",
              "     capturable: False\n",
              "     differentiable: False\n",
              "     eps: 1e-08\n",
              "     foreach: None\n",
              "     fused: None\n",
              "     initial_lr: 0.003\n",
              "     lr: 0.003\n",
              "     maximize: False\n",
              "     weight_decay: 0\n",
              " ),\n",
              " MulticlassAccuracy(),\n",
              " <torch.optim.lr_scheduler.StepLR at 0x7ec1e5cffdf0>,\n",
              " <__main__.EarlyStopping at 0x7ec1e5cfe860>)"
            ]
          },
          "metadata": {},
          "execution_count": 23
        }
      ]
    },
    {
      "cell_type": "markdown",
      "source": [
        "### Training and Testing loop"
      ],
      "metadata": {
        "id": "h2eSStEMAb0z"
      }
    },
    {
      "cell_type": "code",
      "source": [
        "EPOCHS = 50\n",
        "\n",
        "start_time = timer()\n",
        "train_loss_hist = []\n",
        "train_acc_hist = []\n",
        "val_loss_hist = []\n",
        "val_acc_hist = []\n",
        "\n",
        "for epoch in tqdm(range(EPOCHS)):\n",
        "  print(f'\\nEPOCH : {epoch+1} \\n----------')\n",
        "\n",
        "  model.train()\n",
        "  train_loss, train_acc = 0, 0\n",
        "  for batch, (X, y) in enumerate(train_dataloader):\n",
        "    X, y = X.to(device), y.to(device)\n",
        "\n",
        "    y_logits = model(X)\n",
        "    y_pred = torch.softmax(y_logits, dim=1).argmax(dim=1)\n",
        "\n",
        "    loss = loss_fn(y_logits, y)\n",
        "    acc = accuracy_fn(y_pred, y)\n",
        "\n",
        "    optimizer.zero_grad()\n",
        "    loss.backward()\n",
        "    optimizer.step()\n",
        "\n",
        "    train_loss += loss.item()\n",
        "    train_acc += acc.item()\n",
        "\n",
        "    if batch % 50 == 0:\n",
        "      print(f'Looked at {(batch * len(X))/len(train_dataloader.dataset):.2f} samples')\n",
        "\n",
        "  # scheduler.step()\n",
        "\n",
        "  train_loss /= len(train_dataloader)\n",
        "  train_acc /= len(train_dataloader)\n",
        "\n",
        "  train_loss_hist.append(train_loss)\n",
        "  train_acc_hist.append(train_acc)\n",
        "\n",
        "  print(f'Train Loss : {train_loss:.5f} | Train Accuracy : {train_acc:.3f}')\n",
        "\n",
        "  model.eval()\n",
        "  val_loss, val_acc = 0, 0\n",
        "  with torch.inference_mode():\n",
        "    for X, y in val_dataloader:\n",
        "      X, y = X.to(device), y.to(device)\n",
        "\n",
        "      val_logits = model(X)\n",
        "      val_pred = torch.softmax(val_logits, dim=1).argmax(dim=1)\n",
        "\n",
        "      val_loss += loss_fn(val_logits, y)\n",
        "      val_acc += accuracy_fn(val_pred, y)\n",
        "\n",
        "    val_loss /= len(val_dataloader)\n",
        "    val_acc /= len(val_dataloader)\n",
        "    val_loss_hist.append(val_loss.item())\n",
        "    val_acc_hist.append(val_acc.item())\n",
        "\n",
        "    print(f'Val Loss : {val_loss:.5f} | Val Accuracy : {val_acc:.3f}')\n",
        "\n",
        "  # early_stopping(val_loss)\n",
        "  # if early_stopping.early_stop:\n",
        "  #   print(\"Early stopping\")\n",
        "  #   break\n",
        "\n",
        "end_time = timer()\n",
        "total_time = end_time - start_time\n",
        "print(f'Total Time : {total_time:.3f} seconds\\n')\n",
        "\n",
        "print(f\"Training Losses : {train_loss_hist}\\n\")\n",
        "print(f\"Training Accuracies : {train_acc_hist}\\n\")\n",
        "print(f\"Validation Losses : {val_loss_hist}\\n\")\n",
        "print(f\"Validation Accuracies : {val_acc_hist}\")\n",
        "\n"
      ],
      "metadata": {
        "colab": {
          "base_uri": "https://localhost:8080/",
          "height": 1000,
          "referenced_widgets": [
            "6f5aeaa6cbf24df5a9507deedfbe4d07",
            "dd62e69798fe4a15b952798a6aefa6e7",
            "c472d7b1a8da43a2b613a90172dc1df1",
            "bf9880ff2fce4df1bf71d3453a3087f4",
            "bcd199ad703240ea8bf942602366cba9",
            "ad4341c9ff6c45218b6c56b496a2358b",
            "a9f5c7c7be2d40bc80c24338a8f258f6",
            "4e6502cc92dd4ff29845c0b089ec9f4b",
            "1d8ae6916a8d4ac59940f10c50df1127",
            "8b12230d414547b99806d4136757df30",
            "0a9d818f66814c1295d22191bc584b3f"
          ]
        },
        "id": "jaxXHtb4J1gr",
        "outputId": "c323fb85-262c-48f7-94d4-64c4f13acc0f"
      },
      "execution_count": 24,
      "outputs": [
        {
          "output_type": "display_data",
          "data": {
            "text/plain": [
              "  0%|          | 0/50 [00:00<?, ?it/s]"
            ],
            "application/vnd.jupyter.widget-view+json": {
              "version_major": 2,
              "version_minor": 0,
              "model_id": "6f5aeaa6cbf24df5a9507deedfbe4d07"
            }
          },
          "metadata": {}
        },
        {
          "output_type": "stream",
          "name": "stdout",
          "text": [
            "\n",
            "EPOCH : 1 \n",
            "----------\n",
            "Looked at 0.00 samples\n",
            "Looked at 0.32 samples\n",
            "Looked at 0.65 samples\n",
            "Looked at 0.97 samples\n",
            "Train Loss : 1.90917 | Train Accuracy : 0.317\n",
            "Val Loss : 2.01178 | Val Accuracy : 0.334\n",
            "\n",
            "EPOCH : 2 \n",
            "----------\n",
            "Looked at 0.00 samples\n",
            "Looked at 0.32 samples\n",
            "Looked at 0.65 samples\n",
            "Looked at 0.97 samples\n",
            "Train Loss : 1.35807 | Train Accuracy : 0.516\n",
            "Val Loss : 1.61693 | Val Accuracy : 0.480\n",
            "\n",
            "EPOCH : 3 \n",
            "----------\n",
            "Looked at 0.00 samples\n",
            "Looked at 0.32 samples\n",
            "Looked at 0.65 samples\n",
            "Looked at 0.97 samples\n",
            "Train Loss : 1.13643 | Train Accuracy : 0.595\n",
            "Val Loss : 1.19524 | Val Accuracy : 0.564\n",
            "\n",
            "EPOCH : 4 \n",
            "----------\n",
            "Looked at 0.00 samples\n",
            "Looked at 0.32 samples\n",
            "Looked at 0.65 samples\n",
            "Looked at 0.97 samples\n",
            "Train Loss : 0.92013 | Train Accuracy : 0.684\n",
            "Val Loss : 1.53216 | Val Accuracy : 0.562\n",
            "\n",
            "EPOCH : 5 \n",
            "----------\n",
            "Looked at 0.00 samples\n",
            "Looked at 0.32 samples\n",
            "Looked at 0.65 samples\n",
            "Looked at 0.97 samples\n",
            "Train Loss : 0.79793 | Train Accuracy : 0.721\n",
            "Val Loss : 1.11818 | Val Accuracy : 0.674\n",
            "\n",
            "EPOCH : 6 \n",
            "----------\n",
            "Looked at 0.00 samples\n",
            "Looked at 0.32 samples\n",
            "Looked at 0.65 samples\n",
            "Looked at 0.97 samples\n",
            "Train Loss : 0.66387 | Train Accuracy : 0.773\n",
            "Val Loss : 1.33843 | Val Accuracy : 0.598\n",
            "\n",
            "EPOCH : 7 \n",
            "----------\n",
            "Looked at 0.00 samples\n",
            "Looked at 0.32 samples\n",
            "Looked at 0.65 samples\n",
            "Looked at 0.97 samples\n",
            "Train Loss : 0.59579 | Train Accuracy : 0.795\n",
            "Val Loss : 1.02178 | Val Accuracy : 0.664\n",
            "\n",
            "EPOCH : 8 \n",
            "----------\n",
            "Looked at 0.00 samples\n",
            "Looked at 0.32 samples\n",
            "Looked at 0.65 samples\n",
            "Looked at 0.97 samples\n",
            "Train Loss : 0.54193 | Train Accuracy : 0.821\n",
            "Val Loss : 1.58055 | Val Accuracy : 0.574\n",
            "\n",
            "EPOCH : 9 \n",
            "----------\n",
            "Looked at 0.00 samples\n",
            "Looked at 0.32 samples\n",
            "Looked at 0.65 samples\n",
            "Looked at 0.97 samples\n",
            "Train Loss : 0.45927 | Train Accuracy : 0.841\n",
            "Val Loss : 2.49161 | Val Accuracy : 0.421\n",
            "\n",
            "EPOCH : 10 \n",
            "----------\n",
            "Looked at 0.00 samples\n",
            "Looked at 0.32 samples\n",
            "Looked at 0.65 samples\n",
            "Looked at 0.97 samples\n",
            "Train Loss : 0.43463 | Train Accuracy : 0.851\n",
            "Val Loss : 1.62079 | Val Accuracy : 0.641\n",
            "\n",
            "EPOCH : 11 \n",
            "----------\n",
            "Looked at 0.00 samples\n",
            "Looked at 0.32 samples\n",
            "Looked at 0.65 samples\n",
            "Looked at 0.97 samples\n",
            "Train Loss : 0.39138 | Train Accuracy : 0.870\n",
            "Val Loss : 1.86847 | Val Accuracy : 0.630\n",
            "\n",
            "EPOCH : 12 \n",
            "----------\n",
            "Looked at 0.00 samples\n",
            "Looked at 0.32 samples\n",
            "Looked at 0.65 samples\n",
            "Looked at 0.97 samples\n",
            "Train Loss : 0.38893 | Train Accuracy : 0.867\n",
            "Val Loss : 1.31220 | Val Accuracy : 0.670\n",
            "\n",
            "EPOCH : 13 \n",
            "----------\n",
            "Looked at 0.00 samples\n",
            "Looked at 0.32 samples\n",
            "Looked at 0.65 samples\n",
            "Looked at 0.97 samples\n",
            "Train Loss : 0.36685 | Train Accuracy : 0.873\n",
            "Val Loss : 1.54773 | Val Accuracy : 0.622\n",
            "\n",
            "EPOCH : 14 \n",
            "----------\n",
            "Looked at 0.00 samples\n",
            "Looked at 0.32 samples\n",
            "Looked at 0.65 samples\n",
            "Looked at 0.97 samples\n",
            "Train Loss : 0.31579 | Train Accuracy : 0.895\n",
            "Val Loss : 1.23551 | Val Accuracy : 0.676\n",
            "\n",
            "EPOCH : 15 \n",
            "----------\n",
            "Looked at 0.00 samples\n",
            "Looked at 0.32 samples\n",
            "Looked at 0.65 samples\n",
            "Looked at 0.97 samples\n",
            "Train Loss : 0.32029 | Train Accuracy : 0.891\n",
            "Val Loss : 1.13577 | Val Accuracy : 0.737\n",
            "\n",
            "EPOCH : 16 \n",
            "----------\n",
            "Looked at 0.00 samples\n",
            "Looked at 0.32 samples\n",
            "Looked at 0.65 samples\n",
            "Looked at 0.97 samples\n",
            "Train Loss : 0.29828 | Train Accuracy : 0.892\n",
            "Val Loss : 1.81745 | Val Accuracy : 0.643\n",
            "\n",
            "EPOCH : 17 \n",
            "----------\n",
            "Looked at 0.00 samples\n",
            "Looked at 0.32 samples\n",
            "Looked at 0.65 samples\n",
            "Looked at 0.97 samples\n",
            "Train Loss : 0.27228 | Train Accuracy : 0.909\n",
            "Val Loss : 1.69135 | Val Accuracy : 0.645\n",
            "\n",
            "EPOCH : 18 \n",
            "----------\n",
            "Looked at 0.00 samples\n",
            "Looked at 0.32 samples\n",
            "Looked at 0.65 samples\n",
            "Looked at 0.97 samples\n",
            "Train Loss : 0.28811 | Train Accuracy : 0.903\n",
            "Val Loss : 1.45700 | Val Accuracy : 0.703\n",
            "\n",
            "EPOCH : 19 \n",
            "----------\n",
            "Looked at 0.00 samples\n",
            "Looked at 0.32 samples\n",
            "Looked at 0.65 samples\n",
            "Looked at 0.97 samples\n",
            "Train Loss : 0.28603 | Train Accuracy : 0.903\n",
            "Val Loss : 1.34968 | Val Accuracy : 0.728\n",
            "\n",
            "EPOCH : 20 \n",
            "----------\n",
            "Looked at 0.00 samples\n",
            "Looked at 0.32 samples\n",
            "Looked at 0.65 samples\n",
            "Looked at 0.97 samples\n",
            "Train Loss : 0.24559 | Train Accuracy : 0.912\n",
            "Val Loss : 2.62574 | Val Accuracy : 0.528\n",
            "\n",
            "EPOCH : 21 \n",
            "----------\n",
            "Looked at 0.00 samples\n",
            "Looked at 0.32 samples\n",
            "Looked at 0.65 samples\n",
            "Looked at 0.97 samples\n",
            "Train Loss : 0.24645 | Train Accuracy : 0.916\n",
            "Val Loss : 2.50846 | Val Accuracy : 0.554\n",
            "\n",
            "EPOCH : 22 \n",
            "----------\n",
            "Looked at 0.00 samples\n",
            "Looked at 0.32 samples\n",
            "Looked at 0.65 samples\n",
            "Looked at 0.97 samples\n",
            "Train Loss : 0.25124 | Train Accuracy : 0.917\n",
            "Val Loss : 1.62565 | Val Accuracy : 0.724\n",
            "\n",
            "EPOCH : 23 \n",
            "----------\n",
            "Looked at 0.00 samples\n",
            "Looked at 0.32 samples\n",
            "Looked at 0.65 samples\n",
            "Looked at 0.97 samples\n",
            "Train Loss : 0.23135 | Train Accuracy : 0.925\n",
            "Val Loss : 1.03416 | Val Accuracy : 0.787\n",
            "\n",
            "EPOCH : 24 \n",
            "----------\n",
            "Looked at 0.00 samples\n",
            "Looked at 0.32 samples\n",
            "Looked at 0.65 samples\n",
            "Looked at 0.97 samples\n",
            "Train Loss : 0.22493 | Train Accuracy : 0.923\n",
            "Val Loss : 2.23606 | Val Accuracy : 0.645\n",
            "\n",
            "EPOCH : 25 \n",
            "----------\n",
            "Looked at 0.00 samples\n",
            "Looked at 0.32 samples\n",
            "Looked at 0.65 samples\n",
            "Looked at 0.97 samples\n",
            "Train Loss : 0.20907 | Train Accuracy : 0.935\n",
            "Val Loss : 1.49807 | Val Accuracy : 0.701\n",
            "\n",
            "EPOCH : 26 \n",
            "----------\n",
            "Looked at 0.00 samples\n",
            "Looked at 0.32 samples\n",
            "Looked at 0.65 samples\n",
            "Looked at 0.97 samples\n",
            "Train Loss : 0.20742 | Train Accuracy : 0.931\n",
            "Val Loss : 1.09898 | Val Accuracy : 0.746\n",
            "\n",
            "EPOCH : 27 \n",
            "----------\n",
            "Looked at 0.00 samples\n",
            "Looked at 0.32 samples\n",
            "Looked at 0.65 samples\n",
            "Looked at 0.97 samples\n",
            "Train Loss : 0.20838 | Train Accuracy : 0.930\n",
            "Val Loss : 1.39587 | Val Accuracy : 0.695\n",
            "\n",
            "EPOCH : 28 \n",
            "----------\n",
            "Looked at 0.00 samples\n",
            "Looked at 0.32 samples\n",
            "Looked at 0.65 samples\n",
            "Looked at 0.97 samples\n",
            "Train Loss : 0.19500 | Train Accuracy : 0.931\n",
            "Val Loss : 1.40957 | Val Accuracy : 0.699\n",
            "\n",
            "EPOCH : 29 \n",
            "----------\n",
            "Looked at 0.00 samples\n",
            "Looked at 0.32 samples\n",
            "Looked at 0.65 samples\n",
            "Looked at 0.97 samples\n",
            "Train Loss : 0.18803 | Train Accuracy : 0.939\n",
            "Val Loss : 1.26686 | Val Accuracy : 0.795\n",
            "\n",
            "EPOCH : 30 \n",
            "----------\n",
            "Looked at 0.00 samples\n",
            "Looked at 0.32 samples\n",
            "Looked at 0.65 samples\n",
            "Looked at 0.97 samples\n",
            "Train Loss : 0.18439 | Train Accuracy : 0.939\n",
            "Val Loss : 1.17037 | Val Accuracy : 0.784\n",
            "\n",
            "EPOCH : 31 \n",
            "----------\n",
            "Looked at 0.00 samples\n",
            "Looked at 0.32 samples\n",
            "Looked at 0.65 samples\n",
            "Looked at 0.97 samples\n",
            "Train Loss : 0.16772 | Train Accuracy : 0.940\n",
            "Val Loss : 1.86814 | Val Accuracy : 0.696\n",
            "\n",
            "EPOCH : 32 \n",
            "----------\n",
            "Looked at 0.00 samples\n",
            "Looked at 0.32 samples\n",
            "Looked at 0.65 samples\n",
            "Looked at 0.97 samples\n",
            "Train Loss : 0.17702 | Train Accuracy : 0.941\n",
            "Val Loss : 1.65341 | Val Accuracy : 0.753\n",
            "\n",
            "EPOCH : 33 \n",
            "----------\n",
            "Looked at 0.00 samples\n",
            "Looked at 0.32 samples\n",
            "Looked at 0.65 samples\n",
            "Looked at 0.97 samples\n",
            "Train Loss : 0.17638 | Train Accuracy : 0.942\n",
            "Val Loss : 1.80420 | Val Accuracy : 0.708\n",
            "\n",
            "EPOCH : 34 \n",
            "----------\n",
            "Looked at 0.00 samples\n",
            "Looked at 0.32 samples\n",
            "Looked at 0.65 samples\n",
            "Looked at 0.97 samples\n",
            "Train Loss : 0.19591 | Train Accuracy : 0.937\n",
            "Val Loss : 1.48305 | Val Accuracy : 0.768\n",
            "\n",
            "EPOCH : 35 \n",
            "----------\n",
            "Looked at 0.00 samples\n",
            "Looked at 0.32 samples\n",
            "Looked at 0.65 samples\n",
            "Looked at 0.97 samples\n",
            "Train Loss : 0.15685 | Train Accuracy : 0.944\n",
            "Val Loss : 1.50945 | Val Accuracy : 0.732\n",
            "\n",
            "EPOCH : 36 \n",
            "----------\n",
            "Looked at 0.00 samples\n",
            "Looked at 0.32 samples\n",
            "Looked at 0.65 samples\n",
            "Looked at 0.97 samples\n",
            "Train Loss : 0.14778 | Train Accuracy : 0.944\n",
            "Val Loss : 1.33069 | Val Accuracy : 0.766\n",
            "\n",
            "EPOCH : 37 \n",
            "----------\n",
            "Looked at 0.00 samples\n",
            "Looked at 0.32 samples\n",
            "Looked at 0.65 samples\n",
            "Looked at 0.97 samples\n",
            "Train Loss : 0.14094 | Train Accuracy : 0.952\n",
            "Val Loss : 2.87445 | Val Accuracy : 0.642\n",
            "\n",
            "EPOCH : 38 \n",
            "----------\n",
            "Looked at 0.00 samples\n",
            "Looked at 0.32 samples\n",
            "Looked at 0.65 samples\n",
            "Looked at 0.97 samples\n",
            "Train Loss : 0.15040 | Train Accuracy : 0.949\n",
            "Val Loss : 1.32749 | Val Accuracy : 0.761\n",
            "\n",
            "EPOCH : 39 \n",
            "----------\n",
            "Looked at 0.00 samples\n",
            "Looked at 0.32 samples\n",
            "Looked at 0.65 samples\n",
            "Looked at 0.97 samples\n",
            "Train Loss : 0.15815 | Train Accuracy : 0.951\n",
            "Val Loss : 2.25930 | Val Accuracy : 0.623\n",
            "\n",
            "EPOCH : 40 \n",
            "----------\n",
            "Looked at 0.00 samples\n",
            "Looked at 0.32 samples\n",
            "Looked at 0.65 samples\n",
            "Looked at 0.97 samples\n",
            "Train Loss : 0.15429 | Train Accuracy : 0.947\n",
            "Val Loss : 1.63114 | Val Accuracy : 0.673\n",
            "\n",
            "EPOCH : 41 \n",
            "----------\n",
            "Looked at 0.00 samples\n",
            "Looked at 0.32 samples\n",
            "Looked at 0.65 samples\n",
            "Looked at 0.97 samples\n",
            "Train Loss : 0.12951 | Train Accuracy : 0.955\n",
            "Val Loss : 1.98499 | Val Accuracy : 0.720\n",
            "\n",
            "EPOCH : 42 \n",
            "----------\n",
            "Looked at 0.00 samples\n",
            "Looked at 0.32 samples\n",
            "Looked at 0.65 samples\n",
            "Looked at 0.97 samples\n",
            "Train Loss : 0.12000 | Train Accuracy : 0.957\n",
            "Val Loss : 1.34175 | Val Accuracy : 0.737\n",
            "\n",
            "EPOCH : 43 \n",
            "----------\n",
            "Looked at 0.00 samples\n",
            "Looked at 0.32 samples\n",
            "Looked at 0.65 samples\n",
            "Looked at 0.97 samples\n",
            "Train Loss : 0.17105 | Train Accuracy : 0.945\n",
            "Val Loss : 1.48421 | Val Accuracy : 0.708\n",
            "\n",
            "EPOCH : 44 \n",
            "----------\n",
            "Looked at 0.00 samples\n",
            "Looked at 0.32 samples\n",
            "Looked at 0.65 samples\n",
            "Looked at 0.97 samples\n",
            "Train Loss : 0.13240 | Train Accuracy : 0.956\n",
            "Val Loss : 1.70144 | Val Accuracy : 0.676\n",
            "\n",
            "EPOCH : 45 \n",
            "----------\n",
            "Looked at 0.00 samples\n",
            "Looked at 0.32 samples\n",
            "Looked at 0.65 samples\n",
            "Looked at 0.97 samples\n",
            "Train Loss : 0.13773 | Train Accuracy : 0.952\n",
            "Val Loss : 1.33872 | Val Accuracy : 0.770\n",
            "\n",
            "EPOCH : 46 \n",
            "----------\n",
            "Looked at 0.00 samples\n",
            "Looked at 0.32 samples\n",
            "Looked at 0.65 samples\n",
            "Looked at 0.97 samples\n",
            "Train Loss : 0.12446 | Train Accuracy : 0.953\n",
            "Val Loss : 1.49921 | Val Accuracy : 0.751\n",
            "\n",
            "EPOCH : 47 \n",
            "----------\n",
            "Looked at 0.00 samples\n",
            "Looked at 0.32 samples\n",
            "Looked at 0.65 samples\n",
            "Looked at 0.97 samples\n",
            "Train Loss : 0.11592 | Train Accuracy : 0.960\n",
            "Val Loss : 1.80264 | Val Accuracy : 0.716\n",
            "\n",
            "EPOCH : 48 \n",
            "----------\n",
            "Looked at 0.00 samples\n",
            "Looked at 0.32 samples\n",
            "Looked at 0.65 samples\n",
            "Looked at 0.97 samples\n",
            "Train Loss : 0.15610 | Train Accuracy : 0.951\n",
            "Val Loss : 1.42912 | Val Accuracy : 0.723\n",
            "\n",
            "EPOCH : 49 \n",
            "----------\n",
            "Looked at 0.00 samples\n",
            "Looked at 0.32 samples\n",
            "Looked at 0.65 samples\n",
            "Looked at 0.97 samples\n",
            "Train Loss : 0.12670 | Train Accuracy : 0.956\n",
            "Val Loss : 1.53336 | Val Accuracy : 0.731\n",
            "\n",
            "EPOCH : 50 \n",
            "----------\n",
            "Looked at 0.00 samples\n",
            "Looked at 0.32 samples\n",
            "Looked at 0.65 samples\n",
            "Looked at 0.97 samples\n",
            "Train Loss : 0.12756 | Train Accuracy : 0.958\n",
            "Val Loss : 1.35157 | Val Accuracy : 0.709\n",
            "Total Time : 371.362 seconds\n",
            "\n",
            "Training Losses : [1.9091715289700415, 1.3580683762027372, 1.1364275109383368, 0.9201303497437507, 0.7979343010533241, 0.6638713031045852, 0.5957862327175756, 0.5419346332550049, 0.459270766185176, 0.4346295228408229, 0.3913771094814424, 0.38893063063583067, 0.3668484496974176, 0.3157909815830569, 0.32029231058493735, 0.2982759337992437, 0.27227516049338923, 0.2881109499162243, 0.2860320881249443, 0.24558610739486833, 0.24644578525856617, 0.25123859607884963, 0.23135437625310112, 0.22492656853170165, 0.20906753037725725, 0.20741569393825146, 0.20837744271322603, 0.19499833773701422, 0.18803316947493343, 0.18438920566151218, 0.16772033409966577, 0.17702144389791835, 0.17638407324951502, 0.19590839952711137, 0.1568531119985686, 0.14777850457316927, 0.14093660576749714, 0.15040218239620087, 0.15814644633041275, 0.15429477323928187, 0.12951116235325894, 0.1199993455707426, 0.1710528924159946, 0.1323975939649127, 0.13773096746674948, 0.1244597452099345, 0.1159183457741634, 0.15610096472045107, 0.1267007335359531, 0.1275632537105271]\n",
            "\n",
            "Training Accuracies : [0.31693548387096776, 0.5157258064516129, 0.5951612903225807, 0.6844758064516129, 0.7207661290322581, 0.7727822580645162, 0.7951612903225806, 0.8207661290322581, 0.8413306451612903, 0.851008064516129, 0.8701612903225806, 0.8671370967741936, 0.8733870967741936, 0.8949596774193549, 0.8909274193548387, 0.8921370967741935, 0.9088709677419354, 0.9034274193548387, 0.9034274193548387, 0.9118951612903226, 0.9161290322580645, 0.916733870967742, 0.925, 0.9233870967741935, 0.9348790322580646, 0.9314516129032258, 0.9296370967741936, 0.9314516129032258, 0.9391129032258064, 0.9393145161290323, 0.9403225806451613, 0.9407258064516129, 0.9415322580645161, 0.9372983870967742, 0.9439516129032258, 0.9443548387096774, 0.9520161290322581, 0.9487903225806451, 0.9514112903225806, 0.9467741935483871, 0.9552419354838709, 0.9566532258064516, 0.9453629032258064, 0.9558467741935484, 0.9520161290322581, 0.9526209677419355, 0.9602822580645162, 0.9514112903225806, 0.9564516129032258, 0.9580645161290322]\n",
            "\n",
            "Validation Losses : [2.011775255203247, 1.616926908493042, 1.1952366828918457, 1.5321587324142456, 1.1181775331497192, 1.3384308815002441, 1.0217809677124023, 1.5805543661117554, 2.4916131496429443, 1.6207869052886963, 1.868472933769226, 1.3121951818466187, 1.5477256774902344, 1.2355133295059204, 1.135767936706543, 1.817445158958435, 1.6913468837738037, 1.4569987058639526, 1.349679946899414, 2.625739812850952, 2.508458137512207, 1.6256530284881592, 1.0341624021530151, 2.2360565662384033, 1.4980735778808594, 1.0989750623703003, 1.3958725929260254, 1.4095700979232788, 1.2668555974960327, 1.1703664064407349, 1.868141770362854, 1.65341317653656, 1.804195523262024, 1.4830516576766968, 1.5094491243362427, 1.3306910991668701, 2.8744537830352783, 1.3274915218353271, 2.2592976093292236, 1.6311428546905518, 1.9849872589111328, 1.341752529144287, 1.4842134714126587, 1.7014410495758057, 1.3387166261672974, 1.499206304550171, 1.802636981010437, 1.4291164875030518, 1.533364176750183, 1.3515710830688477]\n",
            "\n",
            "Validation Accuracies : [0.3344077467918396, 0.48025786876678467, 0.5640612244606018, 0.5616438388824463, 0.6736502647399902, 0.5979049205780029, 0.6639806628227234, 0.5737308859825134, 0.42143431305885315, 0.6414182186126709, 0.6301369667053223, 0.6704270839691162, 0.6220789551734924, 0.6760677099227905, 0.7373086214065552, 0.6430298089981079, 0.6454471945762634, 0.703464925289154, 0.7284448146820068, 0.5278001427650452, 0.5535858273506165, 0.723609983921051, 0.787268340587616, 0.6446413993835449, 0.7010475397109985, 0.7461724281311035, 0.6954069137573242, 0.6994359493255615, 0.7953263521194458, 0.7840451002120972, 0.6962127089500427, 0.7526188492774963, 0.7082997560501099, 0.7679290771484375, 0.7324737906455994, 0.765511691570282, 0.6422240138053894, 0.7614826560020447, 0.6228847503662109, 0.6728444695472717, 0.7195810079574585, 0.7373086214065552, 0.7082997560501099, 0.6760677099227905, 0.770346462726593, 0.7510072588920593, 0.7155519723892212, 0.7228041887283325, 0.7308622002601624, 0.7091055512428284]\n"
          ]
        },
        {
          "output_type": "error",
          "ename": "AttributeError",
          "evalue": "'list' object has no attribute 'max'",
          "traceback": [
            "\u001b[0;31m---------------------------------------------------------------------------\u001b[0m",
            "\u001b[0;31mAttributeError\u001b[0m                            Traceback (most recent call last)",
            "\u001b[0;32m<ipython-input-24-91323a6412d9>\u001b[0m in \u001b[0;36m<cell line: 76>\u001b[0;34m()\u001b[0m\n\u001b[1;32m     74\u001b[0m \u001b[0mprint\u001b[0m\u001b[0;34m(\u001b[0m\u001b[0;34mf\"Validation Accuracies : {val_acc_hist}\"\u001b[0m\u001b[0;34m)\u001b[0m\u001b[0;34m\u001b[0m\u001b[0;34m\u001b[0m\u001b[0m\n\u001b[1;32m     75\u001b[0m \u001b[0;34m\u001b[0m\u001b[0m\n\u001b[0;32m---> 76\u001b[0;31m \u001b[0mprint\u001b[0m\u001b[0;34m(\u001b[0m\u001b[0;34mf'Best Train Accuracy : {train_acc_hist.max():.3f}'\u001b[0m\u001b[0;34m)\u001b[0m\u001b[0;34m\u001b[0m\u001b[0;34m\u001b[0m\u001b[0m\n\u001b[0m\u001b[1;32m     77\u001b[0m \u001b[0mprint\u001b[0m\u001b[0;34m(\u001b[0m\u001b[0;34mf'Best Val Accuracy : {val_acc_hist.max():.3f}'\u001b[0m\u001b[0;34m)\u001b[0m\u001b[0;34m\u001b[0m\u001b[0;34m\u001b[0m\u001b[0m\n",
            "\u001b[0;31mAttributeError\u001b[0m: 'list' object has no attribute 'max'"
          ]
        }
      ]
    },
    {
      "cell_type": "code",
      "source": [
        "print(f'Best Train Accuracy : {max(train_acc_hist):.3f}')\n",
        "print(f'Best Val Accuracy : {max(val_acc_hist):.3f}')"
      ],
      "metadata": {
        "colab": {
          "base_uri": "https://localhost:8080/"
        },
        "id": "aG3H-xr79YVT",
        "outputId": "2ea9ba9c-d081-45e4-a0d5-37f56bb7dbdb"
      },
      "execution_count": 28,
      "outputs": [
        {
          "output_type": "stream",
          "name": "stdout",
          "text": [
            "Best Train Accuracy : 0.960\n",
            "Best Val Accuracy : 0.795\n"
          ]
        }
      ]
    },
    {
      "cell_type": "markdown",
      "source": [
        "## Evaluation"
      ],
      "metadata": {
        "id": "Bgsik3gwnNHM"
      }
    },
    {
      "cell_type": "markdown",
      "source": [
        "### Evaluation function"
      ],
      "metadata": {
        "id": "O69fTrTPnj-c"
      }
    },
    {
      "cell_type": "code",
      "source": [
        "def eval_model(\n",
        "    model: torch.nn.Module,\n",
        "    data_loader: torch.utils.data.DataLoader,\n",
        "    loss_fn: torch.nn.Module,\n",
        "    accuracy_fn\n",
        "):\n",
        "  start_time = timer()\n",
        "\n",
        "  loss, acc = 0, 0\n",
        "\n",
        "  model.eval()\n",
        "  with torch.inference_mode():\n",
        "    for X, y in data_loader:\n",
        "      X, y = X.to(device), y.to(device)\n",
        "      y_logits = model(X)\n",
        "\n",
        "      loss += loss_fn(y_logits, y)\n",
        "      acc += accuracy_fn(y_logits.argmax(dim=1), y)\n",
        "\n",
        "    loss /= len(data_loader)\n",
        "    acc /= len(data_loader)\n",
        "\n",
        "  end_time = timer()\n",
        "\n",
        "  return {\n",
        "      'model_name': model.__class__.__name__,\n",
        "      'model_acc': acc.item(),\n",
        "      'model_loss': loss.item(),\n",
        "      'model_eval_time': end_time-start_time\n",
        "  }"
      ],
      "metadata": {
        "id": "rNCtl0VwnPHx"
      },
      "execution_count": 29,
      "outputs": []
    },
    {
      "cell_type": "code",
      "source": [
        "model_dict = eval_model(\n",
        "    model=model,\n",
        "    data_loader=val_dataloader,\n",
        "    loss_fn=loss_fn,\n",
        "    accuracy_fn=accuracy_fn\n",
        ")\n",
        "\n",
        "model_dict"
      ],
      "metadata": {
        "colab": {
          "base_uri": "https://localhost:8080/"
        },
        "id": "w2TEhhCanoaS",
        "outputId": "eaedb63b-6f6c-42ff-e72d-6755cfaccf3e"
      },
      "execution_count": 30,
      "outputs": [
        {
          "output_type": "execute_result",
          "data": {
            "text/plain": [
              "{'model_name': 'Model',\n",
              " 'model_acc': 0.7099113464355469,\n",
              " 'model_loss': 1.282763123512268,\n",
              " 'model_eval_time': 5.094738901000028}"
            ]
          },
          "metadata": {},
          "execution_count": 30
        }
      ]
    },
    {
      "cell_type": "markdown",
      "source": [
        "### Prediction"
      ],
      "metadata": {
        "id": "2PG6n1wmnwxm"
      }
    },
    {
      "cell_type": "code",
      "source": [
        "y_pred = []\n",
        "y_true = []\n",
        "acc = 0\n",
        "model.eval();\n",
        "with torch.inference_mode():\n",
        "  for X, y in val_dataloader:\n",
        "    X, y = X.to(device), y.to(device)\n",
        "    y_logits = model(X)\n",
        "    y_pred_curr = torch.softmax(y_logits, dim=1).argmax(dim=1)\n",
        "    acc += accuracy_fn(y_pred_curr, y)\n",
        "    y_pred.append(y_pred_curr.item())\n",
        "    y_true.append(y.item())\n",
        "  acc /= len(val_dataloader)\n"
      ],
      "metadata": {
        "id": "9Z-eq4BPnyZn"
      },
      "execution_count": 31,
      "outputs": []
    },
    {
      "cell_type": "code",
      "source": [
        "print(f'Predictions : {y_pred}')\n",
        "print(f'Actual : {y_true}')\n",
        "print(f'Length of Predictions : {len(y_pred)}')\n",
        "print(f'Length of Actual Values : {len(y_true)}')\n",
        "print(f'Accuracy : {acc:.3f}')"
      ],
      "metadata": {
        "colab": {
          "base_uri": "https://localhost:8080/"
        },
        "id": "MkVKEWRKsTuy",
        "outputId": "dacc941f-982e-4cbf-a795-96d1012b5174"
      },
      "execution_count": 32,
      "outputs": [
        {
          "output_type": "stream",
          "name": "stdout",
          "text": [
            "Predictions : [4, 5, 5, 1, 2, 0, 5, 5, 1, 1, 5, 0, 0, 4, 4, 0, 1, 6, 4, 6, 1, 0, 4, 4, 0, 1, 0, 1, 1, 6, 2, 0, 0, 4, 0, 6, 6, 6, 5, 5, 0, 4, 0, 0, 2, 4, 4, 1, 7, 4, 4, 0, 5, 4, 5, 0, 1, 3, 4, 5, 3, 6, 4, 7, 7, 1, 4, 1, 5, 5, 3, 4, 4, 4, 4, 1, 4, 5, 2, 1, 2, 4, 3, 1, 4, 1, 0, 6, 1, 6, 5, 1, 0, 3, 7, 4, 4, 0, 1, 6, 0, 6, 5, 4, 2, 0, 4, 2, 4, 4, 4, 6, 2, 3, 0, 7, 4, 0, 7, 0, 4, 0, 6, 0, 5, 2, 4, 3, 5, 4, 0, 3, 5, 2, 0, 2, 0, 1, 6, 0, 5, 4, 3, 4, 7, 7, 1, 5, 4, 2, 5, 5, 2, 5, 5, 4, 1, 1, 7, 6, 2, 1, 4, 2, 5, 4, 3, 5, 7, 0, 1, 3, 2, 5, 1, 4, 0, 4, 6, 2, 4, 1, 4, 1, 0, 1, 6, 2, 4, 5, 1, 4, 6, 2, 6, 1, 2, 1, 5, 5, 5, 3, 5, 4, 4, 0, 4, 6, 4, 4, 6, 1, 4, 5, 2, 5, 4, 0, 0, 2, 2, 3, 4, 4, 4, 2, 4, 7, 4, 4, 2, 2, 6, 0, 0, 4, 0, 5, 0, 5, 2, 4, 5, 5, 4, 4, 6, 1, 4, 3, 0, 4, 3, 1, 5, 4, 4, 4, 4, 0, 7, 7, 4, 4, 4, 4, 2, 6, 1, 7, 5, 3, 4, 0, 0, 1, 7, 4, 2, 4, 6, 4, 0, 2, 2, 4, 5, 5, 4, 0, 0, 5, 0, 0, 0, 0, 4, 4, 0, 7, 2, 4, 5, 0, 5, 5, 1, 4, 3, 4, 2, 4, 1, 4, 2, 2, 4, 3, 6, 6, 5, 3, 1, 5, 4, 0, 5, 6, 4, 2, 4, 5, 7, 7, 7, 6, 1, 3, 2, 2, 3, 4, 3, 7, 4, 4, 3, 4, 4, 7, 0, 0, 3, 2, 4, 2, 4, 5, 1, 3, 2, 2, 4, 4, 4, 4, 0, 4, 6, 6, 1, 5, 1, 4, 4, 2, 3, 4, 4, 3, 6, 5, 4, 1, 4, 2, 4, 1, 7, 4, 4, 5, 0, 1, 0, 6, 3, 6, 4, 4, 4, 0, 6, 7, 4, 0, 1, 3, 4, 5, 2, 3, 1, 5, 4, 4, 4, 6, 2, 0, 5, 4, 6, 2, 0, 1, 4, 4, 4, 2, 2, 2, 5, 0, 3, 4, 2, 4, 2, 6, 1, 5, 2, 6, 1, 0, 6, 0, 4, 7, 6, 6, 4, 3, 7, 4, 4, 5, 5, 4, 4, 4, 4, 1, 7, 6, 5, 1, 6, 4, 1, 5, 4, 7, 4, 4, 5, 0, 4, 6, 2, 4, 6, 0, 2, 2, 6, 6, 5, 3, 3, 5, 5, 0, 5, 4, 0, 4, 7, 4, 4, 0, 0, 4, 5, 2, 1, 6, 4, 0, 0, 4, 0, 2, 0, 5, 4, 4, 0, 2, 6, 6, 0, 3, 6, 1, 3, 1, 5, 2, 4, 6, 2, 3, 7, 0, 1, 1, 4, 2, 0, 4, 1, 5, 5, 3, 5, 0, 4, 2, 7, 4, 4, 6, 7, 3, 7, 0, 7, 4, 7, 1, 1, 4, 0, 3, 4, 4, 2, 4, 4, 4, 4, 1, 4, 0, 2, 0, 2, 1, 1, 0, 4, 4, 7, 4, 4, 0, 4, 0, 2, 7, 2, 5, 5, 4, 1, 4, 4, 7, 0, 0, 5, 7, 4, 0, 4, 5, 0, 4, 4, 3, 4, 5, 0, 2, 4, 4, 7, 6, 4, 1, 0, 0, 1, 5, 5, 4, 5, 7, 7, 7, 5, 1, 4, 1, 4, 1, 6, 1, 7, 6, 6, 4, 0, 6, 2, 4, 2, 4, 5, 7, 4, 0, 7, 2, 1, 2, 3, 4, 5, 0, 1, 7, 4, 5, 4, 5, 2, 5, 6, 2, 3, 4, 0, 6, 7, 7, 0, 5, 7, 3, 4, 4, 7, 0, 1, 7, 7, 0, 6, 0, 5, 4, 4, 5, 0, 2, 6, 4, 0, 2, 4, 4, 4, 5, 6, 5, 1, 0, 2, 0, 4, 4, 1, 1, 1, 1, 1, 5, 0, 1, 7, 4, 4, 4, 4, 7, 7, 6, 0, 6, 2, 4, 6, 2, 6, 0, 4, 5, 4, 4, 6, 5, 7, 4, 0, 4, 3, 4, 7, 6, 4, 0, 4, 2, 4, 4, 4, 2, 1, 4, 6, 4, 5, 4, 2, 4, 0, 2, 2, 6, 1, 0, 0, 0, 4, 5, 4, 4, 4, 4, 0, 0, 4, 6, 0, 5, 5, 4, 2, 5, 6, 5, 5, 4, 5, 1, 1, 5, 1, 0, 4, 4, 4, 3, 4, 5, 0, 3, 4, 1, 1, 1, 6, 3, 4, 1, 4, 5, 4, 1, 4, 2, 4, 0, 0, 5, 2, 0, 4, 5, 6, 0, 1, 4, 1, 0, 2, 5, 4, 0, 5, 6, 7, 1, 0, 3, 4, 0, 5, 4, 5, 4, 5, 2, 5, 6, 4, 7, 4, 1, 4, 4, 3, 5, 2, 7, 3, 4, 5, 4, 3, 4, 0, 0, 1, 4, 2, 7, 5, 6, 4, 5, 5, 0, 0, 4, 0, 4, 4, 2, 4, 6, 5, 4, 3, 7, 7, 7, 0, 4, 4, 1, 0, 4, 2, 4, 0, 6, 5, 2, 1, 3, 1, 4, 7, 4, 7, 6, 5, 0, 0, 4, 7, 3, 4, 0, 5, 1, 4, 1, 1, 4, 1, 7, 0, 4, 4, 6, 3, 4, 6, 5, 1, 4, 4, 0, 2, 5, 2, 2, 4, 2, 4, 7, 4, 4, 4, 0, 1, 2, 0, 4, 4, 1, 1, 2, 2, 4, 1, 0, 3, 5, 7, 4, 0, 7, 6, 5, 3, 2, 1, 0, 7, 0, 5, 4, 4, 4, 5, 4, 4, 1, 0, 2, 5, 4, 2, 4, 1, 4, 4, 4, 2, 6, 1, 1, 4, 0, 4, 4, 5, 5, 4, 0, 0, 4, 5, 4, 5, 4, 2, 0, 1, 6, 1, 6, 4, 4, 2, 3, 1, 1, 6, 2, 0, 7, 6, 6, 7, 4, 6, 2, 5, 4, 4, 5, 4, 0, 0, 5, 5, 4, 0, 0, 4, 5, 7, 6, 5, 4, 4, 4, 1, 7, 6, 2, 7, 4, 7, 4, 0, 0, 1, 0, 5, 3, 6, 1, 7, 4, 2, 1, 6, 0, 0, 5, 7, 2, 4, 2, 0, 4, 3, 1, 4, 7, 4, 1, 4, 4, 4, 4, 4, 0, 1, 1, 2, 4, 5, 4, 4, 6, 4, 5, 6, 2, 5, 6, 7, 2, 7, 6, 0, 7, 4, 4, 4, 7, 5, 4, 1, 4, 7, 3, 4, 5, 5, 5, 7, 0, 7, 2, 2, 3, 1, 0, 4, 1, 2, 5, 5, 1, 4, 4, 5, 4, 4, 4, 4, 0, 4, 0, 7, 4, 7, 0, 4, 4, 6, 4, 2, 5, 1, 6, 4, 2, 5, 3, 5, 3, 0, 4, 7, 2, 1, 4, 2, 5, 2, 5, 2, 6, 4, 4, 5, 6, 7, 4, 5, 6, 3, 1, 4, 3, 0, 5, 7, 2, 0, 4, 4, 5, 4, 7, 2, 0, 5, 2, 0, 2, 7, 1, 4, 2, 6, 4, 5, 7, 4, 3, 0, 2, 3, 4, 3, 1, 1, 5, 7]\n",
            "Actual : [3, 5, 5, 1, 3, 0, 6, 6, 1, 1, 5, 0, 0, 4, 3, 0, 4, 6, 4, 0, 7, 0, 7, 7, 0, 1, 0, 4, 1, 6, 2, 0, 0, 5, 0, 6, 6, 6, 5, 5, 0, 4, 1, 0, 2, 4, 3, 1, 7, 4, 6, 0, 1, 4, 5, 0, 1, 3, 4, 5, 3, 6, 4, 7, 7, 1, 4, 1, 5, 4, 3, 4, 4, 2, 5, 1, 7, 5, 2, 1, 2, 4, 2, 1, 2, 1, 0, 6, 1, 6, 5, 7, 0, 3, 7, 4, 4, 0, 1, 6, 0, 6, 5, 2, 2, 0, 7, 2, 7, 4, 3, 6, 2, 3, 0, 7, 2, 0, 7, 0, 4, 0, 6, 0, 5, 2, 5, 3, 5, 3, 0, 3, 7, 2, 0, 3, 0, 1, 6, 0, 5, 3, 3, 4, 7, 7, 1, 7, 7, 2, 6, 6, 2, 5, 5, 4, 1, 1, 7, 6, 1, 1, 4, 2, 5, 2, 2, 7, 7, 0, 1, 3, 3, 6, 1, 2, 0, 6, 6, 2, 4, 1, 4, 1, 0, 1, 6, 4, 3, 5, 1, 4, 6, 1, 6, 1, 0, 1, 5, 5, 7, 3, 5, 2, 7, 0, 5, 6, 3, 3, 6, 1, 2, 6, 2, 5, 3, 0, 0, 2, 2, 3, 4, 2, 4, 2, 6, 7, 5, 1, 3, 2, 6, 0, 0, 7, 0, 5, 0, 6, 3, 3, 6, 6, 4, 6, 6, 4, 2, 3, 0, 4, 3, 1, 5, 5, 2, 4, 2, 0, 7, 7, 4, 2, 4, 4, 5, 6, 1, 7, 7, 3, 4, 0, 0, 1, 7, 4, 2, 4, 6, 7, 0, 2, 3, 3, 6, 6, 5, 0, 0, 5, 0, 0, 0, 0, 2, 6, 0, 7, 2, 6, 5, 0, 5, 5, 1, 7, 3, 5, 2, 4, 1, 3, 2, 3, 4, 3, 6, 6, 4, 3, 1, 6, 3, 0, 5, 6, 3, 4, 3, 7, 7, 7, 7, 6, 1, 3, 0, 2, 3, 3, 3, 7, 3, 2, 3, 7, 3, 7, 0, 0, 3, 3, 4, 2, 1, 7, 1, 3, 2, 2, 2, 4, 7, 2, 0, 4, 6, 6, 7, 5, 4, 4, 3, 2, 3, 4, 1, 4, 6, 6, 4, 1, 2, 2, 3, 1, 7, 7, 4, 6, 0, 1, 0, 6, 3, 6, 4, 7, 4, 0, 6, 7, 3, 0, 1, 3, 7, 6, 2, 3, 1, 5, 2, 4, 5, 0, 2, 0, 0, 5, 6, 2, 0, 1, 2, 4, 7, 2, 2, 2, 5, 0, 3, 4, 2, 4, 2, 6, 1, 5, 5, 6, 1, 0, 6, 0, 0, 7, 6, 6, 7, 3, 7, 7, 4, 5, 7, 5, 0, 3, 7, 1, 7, 6, 5, 1, 6, 3, 1, 6, 3, 7, 3, 4, 4, 0, 4, 6, 5, 5, 6, 0, 2, 2, 6, 6, 6, 3, 3, 5, 4, 0, 5, 3, 0, 3, 7, 4, 3, 0, 0, 4, 5, 5, 1, 6, 3, 0, 0, 4, 0, 2, 0, 7, 3, 3, 0, 2, 6, 6, 0, 3, 6, 1, 2, 1, 5, 2, 7, 6, 5, 3, 7, 0, 1, 1, 4, 5, 0, 3, 1, 4, 5, 2, 5, 0, 4, 2, 7, 4, 4, 6, 7, 3, 7, 0, 7, 7, 7, 1, 1, 5, 0, 3, 3, 4, 2, 2, 3, 7, 2, 1, 7, 0, 5, 0, 2, 1, 4, 0, 4, 4, 7, 2, 4, 0, 4, 0, 2, 7, 2, 5, 6, 4, 1, 4, 3, 7, 0, 0, 6, 7, 4, 0, 7, 5, 0, 4, 2, 3, 4, 5, 0, 2, 4, 3, 7, 6, 4, 1, 0, 0, 1, 0, 6, 4, 4, 7, 7, 7, 5, 1, 0, 1, 3, 1, 6, 1, 7, 6, 6, 7, 0, 6, 3, 2, 3, 3, 6, 7, 4, 0, 7, 3, 1, 0, 3, 1, 5, 0, 1, 7, 4, 5, 4, 5, 2, 5, 6, 3, 3, 7, 0, 0, 7, 7, 0, 6, 7, 3, 2, 6, 7, 0, 4, 7, 7, 0, 6, 0, 5, 3, 2, 5, 0, 2, 6, 4, 0, 2, 4, 3, 1, 6, 6, 5, 1, 0, 2, 0, 2, 3, 1, 1, 1, 0, 1, 5, 0, 1, 7, 3, 4, 4, 2, 7, 4, 6, 0, 6, 3, 2, 6, 2, 6, 0, 2, 5, 4, 3, 0, 5, 4, 7, 0, 7, 3, 4, 7, 6, 2, 0, 5, 2, 2, 4, 7, 3, 1, 5, 6, 4, 6, 4, 2, 4, 0, 2, 2, 6, 1, 0, 0, 0, 2, 5, 4, 3, 4, 7, 0, 0, 4, 6, 0, 6, 5, 2, 2, 5, 6, 0, 5, 4, 6, 1, 1, 5, 1, 0, 2, 7, 4, 2, 5, 5, 0, 3, 4, 1, 1, 1, 6, 3, 5, 1, 4, 6, 7, 1, 4, 2, 1, 0, 0, 5, 2, 0, 1, 5, 6, 0, 1, 1, 1, 0, 2, 6, 4, 0, 5, 6, 7, 1, 0, 3, 7, 0, 5, 5, 5, 5, 5, 5, 6, 0, 3, 7, 4, 1, 7, 3, 3, 5, 2, 7, 3, 2, 5, 4, 3, 4, 0, 0, 4, 4, 2, 7, 5, 6, 7, 6, 6, 0, 0, 4, 0, 3, 4, 2, 2, 6, 5, 3, 3, 7, 7, 7, 0, 2, 7, 1, 0, 2, 2, 4, 0, 6, 5, 3, 7, 3, 1, 4, 7, 2, 7, 6, 6, 0, 0, 4, 7, 3, 0, 0, 5, 4, 4, 1, 1, 2, 1, 7, 0, 3, 3, 6, 3, 3, 6, 6, 1, 4, 2, 0, 2, 5, 2, 3, 4, 2, 5, 7, 2, 3, 4, 0, 1, 3, 0, 4, 7, 7, 1, 3, 2, 5, 1, 0, 3, 4, 7, 4, 0, 7, 6, 6, 3, 2, 1, 0, 7, 0, 6, 3, 2, 4, 5, 3, 4, 1, 0, 2, 5, 3, 2, 4, 1, 0, 3, 6, 2, 6, 1, 1, 4, 0, 4, 3, 6, 5, 4, 0, 0, 5, 6, 7, 5, 4, 2, 0, 1, 6, 1, 6, 4, 4, 2, 3, 1, 1, 6, 3, 0, 7, 6, 6, 7, 3, 6, 2, 5, 2, 3, 5, 3, 0, 0, 5, 5, 4, 0, 0, 2, 5, 7, 6, 6, 4, 1, 4, 1, 7, 6, 2, 7, 4, 7, 4, 0, 0, 1, 0, 6, 3, 6, 1, 7, 4, 3, 1, 6, 0, 0, 5, 7, 2, 4, 2, 0, 3, 3, 1, 4, 7, 4, 1, 4, 0, 7, 3, 5, 0, 1, 1, 2, 4, 5, 4, 3, 6, 3, 5, 6, 2, 6, 6, 7, 2, 7, 6, 0, 7, 5, 5, 7, 7, 6, 4, 0, 1, 7, 3, 4, 4, 5, 5, 4, 0, 7, 4, 2, 3, 1, 0, 7, 1, 0, 7, 5, 1, 4, 4, 1, 3, 7, 3, 1, 0, 4, 0, 7, 7, 7, 0, 1, 6, 0, 3, 2, 5, 1, 6, 4, 2, 5, 3, 5, 3, 0, 4, 7, 2, 1, 4, 2, 5, 2, 5, 2, 6, 4, 5, 4, 6, 7, 4, 5, 6, 3, 1, 1, 3, 0, 5, 7, 2, 0, 3, 4, 5, 7, 7, 2, 0, 5, 2, 0, 2, 7, 1, 3, 5, 6, 4, 5, 7, 1, 3, 0, 2, 3, 7, 3, 1, 1, 5, 7]\n",
            "Length of Predictions : 1241\n",
            "Length of Actual Values : 1241\n",
            "Accuracy : 0.717\n"
          ]
        }
      ]
    },
    {
      "cell_type": "markdown",
      "source": [
        "#### Plotting Prediction vs Actual"
      ],
      "metadata": {
        "id": "_QYnNh7Fo2ZM"
      }
    },
    {
      "cell_type": "code",
      "source": [
        "fig = plt.figure(figsize=(10, 8))\n",
        "\n",
        "for i in range(16):\n",
        "  plt.subplot(4, 4, i+1)\n",
        "  random_idx = random.randint(0, len(val_dataloader))\n",
        "  val_iter = iter(val_dataloader)\n",
        "  for j in range(random_idx):\n",
        "    X, y = next(val_iter)\n",
        "  plt.imshow(X.squeeze().permute(1, 2, 0).detach().cpu(), cmap='gray')\n",
        "  if(y != y_pred[random_idx]):\n",
        "    plt.title(f'Actual : {class_name[y]} | Pred : {class_name[y_pred[random_idx]]}', c='r', fontsize=7)\n",
        "  else:\n",
        "    plt.title(f'Actual : {class_name[y]} | Pred : {class_name[y_pred[random_idx]]}', c='g', fontsize=7)\n",
        "  plt.axis('off')\n",
        "plt.show()"
      ],
      "metadata": {
        "colab": {
          "base_uri": "https://localhost:8080/",
          "height": 669
        },
        "id": "MY4YgQ6Bo5Sf",
        "outputId": "98dbd603-94fc-418e-8e9e-1456b5c33c9f"
      },
      "execution_count": 33,
      "outputs": [
        {
          "output_type": "display_data",
          "data": {
            "text/plain": [
              "<Figure size 1000x800 with 16 Axes>"
            ],
            "image/png": "[encoded data removed]"
          },
          "metadata": {}
        }
      ]
    },
    {
      "cell_type": "markdown",
      "source": [
        "## Plotting Accuracy and Loss of train and val"
      ],
      "metadata": {
        "id": "KcWkp43FAgIC"
      }
    },
    {
      "cell_type": "code",
      "source": [
        "plt.figure(figsize=(12,5))\n",
        "plt.subplot(1,2,1)\n",
        "plt.plot(train_loss_hist, label='Training Loss')\n",
        "plt.plot(val_loss_hist, label='Validation Loss')\n",
        "plt.title('Training and Validation Loss')\n",
        "plt.xlabel('Epochs')\n",
        "plt.ylabel('Loss')\n",
        "plt.legend()\n",
        "\n",
        "plt.subplot(1,2,2)\n",
        "plt.plot(train_acc_hist, label='Training Accuracy')\n",
        "plt.plot(val_acc_hist, label='Validation Accuracy')\n",
        "plt.title('Training and Validation Accuracy')\n",
        "plt.xlabel('Epochs')\n",
        "plt.ylabel('Accuracy')\n",
        "plt.legend()\n",
        "plt.show()"
      ],
      "metadata": {
        "id": "fVaGaVW9KKWi",
        "colab": {
          "base_uri": "https://localhost:8080/",
          "height": 487
        },
        "outputId": "d99bf5bc-e800-418b-97c3-ec8618b1686f"
      },
      "execution_count": 34,
      "outputs": [
        {
          "output_type": "display_data",
          "data": {
            "text/plain": [
              "<Figure size 1200x500 with 2 Axes>"
            ],
            "image/png": "[encoded data removed]"
          },
          "metadata": {}
        }
      ]
    },
    {
      "cell_type": "markdown",
      "source": [
        "### Plotting Confusion Matrix"
      ],
      "metadata": {
        "id": "wyshE71pvLpE"
      }
    },
    {
      "cell_type": "code",
      "source": [
        "cf_matrix = confusion_matrix(y_true, y_pred)\n",
        "num_classes_cf = cf_matrix.shape[0]\n",
        "num_classes_names = len(class_name)\n",
        "df_cm = pd.DataFrame(cf_matrix / np.sum(cf_matrix, axis=1)[:, None], index = [i for i in class_name], columns = [i for i in class_name])\n",
        "plt.figure(figsize = (12,7))\n",
        "sns.heatmap(df_cm, annot=True)\n",
        "plt.xlabel('Predicted Label', fontsize=14)\n",
        "plt.ylabel('True Label', fontsize=14)\n",
        "plt.show()"
      ],
      "metadata": {
        "id": "njtgOOS6vS_J"
      },
      "execution_count": 35,
      "outputs": []
    }
  ],
  "metadata": {
    "colab": {
      "provenance": [],
      "gpuType": "T4"
    },
    "kernelspec": {
      "display_name": "Python 3",
      "name": "python3"
    },
    "language_info": {
      "codemirror_mode": {
        "name": "ipython",
        "version": 3
      },
      "file_extension": ".py",
      "mimetype": "text/x-python",
      "name": "python",
      "nbconvert_exporter": "python",
      "pygments_lexer": "ipython3",
      "version": "3.7.6"
    },
    "accelerator": "GPU",
    "widgets": {
      "application/vnd.jupyter.widget-state+json": {
        "6f5aeaa6cbf24df5a9507deedfbe4d07": {
          "model_module": "@jupyter-widgets/controls",
          "model_name": "HBoxModel",
          "model_module_version": "1.5.0",
          "state": {
            "_dom_classes": [],
            "_model_module": "@jupyter-widgets/controls",
            "_model_module_version": "1.5.0",
            "_model_name": "HBoxModel",
            "_view_count": null,
            "_view_module": "@jupyter-widgets/controls",
            "_view_module_version": "1.5.0",
            "_view_name": "HBoxView",
            "box_style": "",
            "children": [
              "IPY_MODEL_dd62e69798fe4a15b952798a6aefa6e7",
              "IPY_MODEL_c472d7b1a8da43a2b613a90172dc1df1",
              "IPY_MODEL_bf9880ff2fce4df1bf71d3453a3087f4"
            ],
            "layout": "IPY_MODEL_bcd199ad703240ea8bf942602366cba9"
          }
        },
        "dd62e69798fe4a15b952798a6aefa6e7": {
          "model_module": "@jupyter-widgets/controls",
          "model_name": "HTMLModel",
          "model_module_version": "1.5.0",
          "state": {
            "_dom_classes": [],
            "_model_module": "@jupyter-widgets/controls",
            "_model_module_version": "1.5.0",
            "_model_name": "HTMLModel",
            "_view_count": null,
            "_view_module": "@jupyter-widgets/controls",
            "_view_module_version": "1.5.0",
            "_view_name": "HTMLView",
            "description": "",
            "description_tooltip": null,
            "layout": "IPY_MODEL_ad4341c9ff6c45218b6c56b496a2358b",
            "placeholder": "​",
            "style": "IPY_MODEL_a9f5c7c7be2d40bc80c24338a8f258f6",
            "value": "100%"
          }
        },
        "c472d7b1a8da43a2b613a90172dc1df1": {
          "model_module": "@jupyter-widgets/controls",
          "model_name": "FloatProgressModel",
          "model_module_version": "1.5.0",
          "state": {
            "_dom_classes": [],
            "_model_module": "@jupyter-widgets/controls",
            "_model_module_version": "1.5.0",
            "_model_name": "FloatProgressModel",
            "_view_count": null,
            "_view_module": "@jupyter-widgets/controls",
            "_view_module_version": "1.5.0",
            "_view_name": "ProgressView",
            "bar_style": "success",
            "description": "",
            "description_tooltip": null,
            "layout": "IPY_MODEL_4e6502cc92dd4ff29845c0b089ec9f4b",
            "max": 50,
            "min": 0,
            "orientation": "horizontal",
            "style": "IPY_MODEL_1d8ae6916a8d4ac59940f10c50df1127",
            "value": 50
          }
        },
        "bf9880ff2fce4df1bf71d3453a3087f4": {
          "model_module": "@jupyter-widgets/controls",
          "model_name": "HTMLModel",
          "model_module_version": "1.5.0",
          "state": {
            "_dom_classes": [],
            "_model_module": "@jupyter-widgets/controls",
            "_model_module_version": "1.5.0",
            "_model_name": "HTMLModel",
            "_view_count": null,
            "_view_module": "@jupyter-widgets/controls",
            "_view_module_version": "1.5.0",
            "_view_name": "HTMLView",
            "description": "",
            "description_tooltip": null,
            "layout": "IPY_MODEL_8b12230d414547b99806d4136757df30",
            "placeholder": "​",
            "style": "IPY_MODEL_0a9d818f66814c1295d22191bc584b3f",
            "value": " 50/50 [06:11&lt;00:00,  7.82s/it]"
          }
        },
        "bcd199ad703240ea8bf942602366cba9": {
          "model_module": "@jupyter-widgets/base",
          "model_name": "LayoutModel",
          "model_module_version": "1.2.0",
          "state": {
            "_model_module": "@jupyter-widgets/base",
            "_model_module_version": "1.2.0",
            "_model_name": "LayoutModel",
            "_view_count": null,
            "_view_module": "@jupyter-widgets/base",
            "_view_module_version": "1.2.0",
            "_view_name": "LayoutView",
            "align_content": null,
            "align_items": null,
            "align_self": null,
            "border": null,
            "bottom": null,
            "display": null,
            "flex": null,
            "flex_flow": null,
            "grid_area": null,
            "grid_auto_columns": null,
            "grid_auto_flow": null,
            "grid_auto_rows": null,
            "grid_column": null,
            "grid_gap": null,
            "grid_row": null,
            "grid_template_areas": null,
            "grid_template_columns": null,
            "grid_template_rows": null,
            "height": null,
            "justify_content": null,
            "justify_items": null,
            "left": null,
            "margin": null,
            "max_height": null,
            "max_width": null,
            "min_height": null,
            "min_width": null,
            "object_fit": null,
            "object_position": null,
            "order": null,
            "overflow": null,
            "overflow_x": null,
            "overflow_y": null,
            "padding": null,
            "right": null,
            "top": null,
            "visibility": null,
            "width": null
          }
        },
        "ad4341c9ff6c45218b6c56b496a2358b": {
          "model_module": "@jupyter-widgets/base",
          "model_name": "LayoutModel",
          "model_module_version": "1.2.0",
          "state": {
            "_model_module": "@jupyter-widgets/base",
            "_model_module_version": "1.2.0",
            "_model_name": "LayoutModel",
            "_view_count": null,
            "_view_module": "@jupyter-widgets/base",
            "_view_module_version": "1.2.0",
            "_view_name": "LayoutView",
            "align_content": null,
            "align_items": null,
            "align_self": null,
            "border": null,
            "bottom": null,
            "display": null,
            "flex": null,
            "flex_flow": null,
            "grid_area": null,
            "grid_auto_columns": null,
            "grid_auto_flow": null,
            "grid_auto_rows": null,
            "grid_column": null,
            "grid_gap": null,
            "grid_row": null,
            "grid_template_areas": null,
            "grid_template_columns": null,
            "grid_template_rows": null,
            "height": null,
            "justify_content": null,
            "justify_items": null,
            "left": null,
            "margin": null,
            "max_height": null,
            "max_width": null,
            "min_height": null,
            "min_width": null,
            "object_fit": null,
            "object_position": null,
            "order": null,
            "overflow": null,
            "overflow_x": null,
            "overflow_y": null,
            "padding": null,
            "right": null,
            "top": null,
            "visibility": null,
            "width": null
          }
        },
        "a9f5c7c7be2d40bc80c24338a8f258f6": {
          "model_module": "@jupyter-widgets/controls",
          "model_name": "DescriptionStyleModel",
          "model_module_version": "1.5.0",
          "state": {
            "_model_module": "@jupyter-widgets/controls",
            "_model_module_version": "1.5.0",
            "_model_name": "DescriptionStyleModel",
            "_view_count": null,
            "_view_module": "@jupyter-widgets/base",
            "_view_module_version": "1.2.0",
            "_view_name": "StyleView",
            "description_width": ""
          }
        },
        "4e6502cc92dd4ff29845c0b089ec9f4b": {
          "model_module": "@jupyter-widgets/base",
          "model_name": "LayoutModel",
          "model_module_version": "1.2.0",
          "state": {
            "_model_module": "@jupyter-widgets/base",
            "_model_module_version": "1.2.0",
            "_model_name": "LayoutModel",
            "_view_count": null,
            "_view_module": "@jupyter-widgets/base",
            "_view_module_version": "1.2.0",
            "_view_name": "LayoutView",
            "align_content": null,
            "align_items": null,
            "align_self": null,
            "border": null,
            "bottom": null,
            "display": null,
            "flex": null,
            "flex_flow": null,
            "grid_area": null,
            "grid_auto_columns": null,
            "grid_auto_flow": null,
            "grid_auto_rows": null,
            "grid_column": null,
            "grid_gap": null,
            "grid_row": null,
            "grid_template_areas": null,
            "grid_template_columns": null,
            "grid_template_rows": null,
            "height": null,
            "justify_content": null,
            "justify_items": null,
            "left": null,
            "margin": null,
            "max_height": null,
            "max_width": null,
            "min_height": null,
            "min_width": null,
            "object_fit": null,
            "object_position": null,
            "order": null,
            "overflow": null,
            "overflow_x": null,
            "overflow_y": null,
            "padding": null,
            "right": null,
            "top": null,
            "visibility": null,
            "width": null
          }
        },
        "1d8ae6916a8d4ac59940f10c50df1127": {
          "model_module": "@jupyter-widgets/controls",
          "model_name": "ProgressStyleModel",
          "model_module_version": "1.5.0",
          "state": {
            "_model_module": "@jupyter-widgets/controls",
            "_model_module_version": "1.5.0",
            "_model_name": "ProgressStyleModel",
            "_view_count": null,
            "_view_module": "@jupyter-widgets/base",
            "_view_module_version": "1.2.0",
            "_view_name": "StyleView",
            "bar_color": null,
            "description_width": ""
          }
        },
        "8b12230d414547b99806d4136757df30": {
          "model_module": "@jupyter-widgets/base",
          "model_name": "LayoutModel",
          "model_module_version": "1.2.0",
          "state": {
            "_model_module": "@jupyter-widgets/base",
            "_model_module_version": "1.2.0",
            "_model_name": "LayoutModel",
            "_view_count": null,
            "_view_module": "@jupyter-widgets/base",
            "_view_module_version": "1.2.0",
            "_view_name": "LayoutView",
            "align_content": null,
            "align_items": null,
            "align_self": null,
            "border": null,
            "bottom": null,
            "display": null,
            "flex": null,
            "flex_flow": null,
            "grid_area": null,
            "grid_auto_columns": null,
            "grid_auto_flow": null,
            "grid_auto_rows": null,
            "grid_column": null,
            "grid_gap": null,
            "grid_row": null,
            "grid_template_areas": null,
            "grid_template_columns": null,
            "grid_template_rows": null,
            "height": null,
            "justify_content": null,
            "justify_items": null,
            "left": null,
            "margin": null,
            "max_height": null,
            "max_width": null,
            "min_height": null,
            "min_width": null,
            "object_fit": null,
            "object_position": null,
            "order": null,
            "overflow": null,
            "overflow_x": null,
            "overflow_y": null,
            "padding": null,
            "right": null,
            "top": null,
            "visibility": null,
            "width": null
          }
        },
        "0a9d818f66814c1295d22191bc584b3f": {
          "model_module": "@jupyter-widgets/controls",
          "model_name": "DescriptionStyleModel",
          "model_module_version": "1.5.0",
          "state": {
            "_model_module": "@jupyter-widgets/controls",
            "_model_module_version": "1.5.0",
            "_model_name": "DescriptionStyleModel",
            "_view_count": null,
            "_view_module": "@jupyter-widgets/base",
            "_view_module_version": "1.2.0",
            "_view_name": "StyleView",
            "description_width": ""
          }
        }
      }
    }
  },
  "nbformat": 4,
  "nbformat_minor": 0
}