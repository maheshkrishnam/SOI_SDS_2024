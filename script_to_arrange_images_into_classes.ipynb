{
  "nbformat": 4,
  "nbformat_minor": 0,
  "metadata": {
    "colab": {
      "provenance": []
    },
    "kernelspec": {
      "name": "python3",
      "display_name": "Python 3"
    },
    "language_info": {
      "name": "python"
    }
  },
  "cells": [
    {
      "cell_type": "markdown",
      "source": [
        "### Connecting to google drive"
      ],
      "metadata": {
        "id": "GO9BKk9YFH8U"
      }
    },
    {
      "cell_type": "code",
      "source": [
        "from google.colab import drive\n",
        "drive.mount('/content/drive')"
      ],
      "metadata": {
        "colab": {
          "base_uri": "https://localhost:8080/"
        },
        "id": "cF_4f3838IfK",
        "outputId": "91c0d25d-9d02-49f2-ed8a-d70f8071c0b7"
      },
      "execution_count": 1,
      "outputs": [
        {
          "output_type": "stream",
          "name": "stdout",
          "text": [
            "Mounted at /content/drive\n"
          ]
        }
      ]
    },
    {
      "cell_type": "markdown",
      "source": [
        "### Importing libraries used"
      ],
      "metadata": {
        "id": "jOqEAiDzFM4X"
      }
    },
    {
      "cell_type": "code",
      "source": [
        "import os\n",
        "import shutil\n",
        "import pandas as pd"
      ],
      "metadata": {
        "id": "ym_K1eA1FGmC"
      },
      "execution_count": null,
      "outputs": []
    },
    {
      "cell_type": "markdown",
      "source": [
        "### Arranging the data according to their Classes"
      ],
      "metadata": {
        "id": "HnOAkGkuFP-w"
      }
    },
    {
      "cell_type": "code",
      "execution_count": 2,
      "metadata": {
        "id": "8Zczkz0Y7kni"
      },
      "outputs": [],
      "source": [
        "# Paths\n",
        "csv_file = '/content/drive/MyDrive/SOI Space Data Science/train.csv'\n",
        "image_dir = '/content/drive/MyDrive/SOI Space Data Science/train_dataset'\n",
        "output_dir = 'output_images'\n",
        "\n",
        "# Create output directory if it doesn't exist\n",
        "os.makedirs(output_dir, exist_ok=True)\n",
        "\n",
        "# Read the CSV file\n",
        "df = pd.read_csv(csv_file)\n",
        "\n",
        "# Iterate through the DataFrame\n",
        "for index, row in df.iterrows():\n",
        "    image_name = row['File Name']\n",
        "    class_name = row['Class']\n",
        "\n",
        "    # Create class directory if it doesn't exist\n",
        "    class_dir = os.path.join(output_dir, str(class_name))\n",
        "    os.makedirs(class_dir, exist_ok=True)\n",
        "\n",
        "    # Path to the original image\n",
        "    src_image_path = os.path.join(image_dir, image_name)\n",
        "\n",
        "    # Path to the destination\n",
        "    dest_image_path = os.path.join(class_dir, image_name)\n",
        "\n",
        "    # Copy or move the image to the class directory\n",
        "    shutil.copy(src_image_path, dest_image_path)\n",
        "    # If you want to move instead of copy, use:\n",
        "    # shutil.move(src_image_path, dest_image_path)\n"
      ]
    },
    {
      "cell_type": "markdown",
      "source": [
        "### Saving generated Folder to Drive"
      ],
      "metadata": {
        "id": "r1qSrKp3FVhh"
      }
    },
    {
      "cell_type": "code",
      "source": [
        "# Source directory (your organized images)\n",
        "source_dir = '/content/output_images'\n",
        "\n",
        "# Destination directory on Google Drive\n",
        "destination_dir = '/content/drive/MyDrive/SOI Space Data Science/output_image'\n",
        "\n",
        "# Copy the folder to Google Drive\n",
        "shutil.copytree(source_dir, destination_dir)\n"
      ],
      "metadata": {
        "colab": {
          "base_uri": "https://localhost:8080/",
          "height": 36
        },
        "id": "xCD3qSx6E-t_",
        "outputId": "2f687daf-5c0a-4850-9814-6466c9fe1226"
      },
      "execution_count": 7,
      "outputs": [
        {
          "output_type": "execute_result",
          "data": {
            "text/plain": [
              "'/content/drive/MyDrive/SOI Space Data Science/output_image'"
            ],
            "application/vnd.google.colaboratory.intrinsic+json": {
              "type": "string"
            }
          },
          "metadata": {},
          "execution_count": 7
        }
      ]
    },
    {
      "cell_type": "markdown",
      "source": [
        "### Downloading the Data to local device"
      ],
      "metadata": {
        "id": "blloIbX8FbI3"
      }
    },
    {
      "cell_type": "code",
      "source": [
        "# Source directory (your organized images)\n",
        "source_dir = '/content/output_images'\n",
        "\n",
        "# Destination zip file\n",
        "shutil.make_archive('/content/output_image', 'zip', source_dir)\n",
        "\n",
        "# Download the zip file\n",
        "from google.colab import files\n",
        "files.download('/content/output_image.zip')\n"
      ],
      "metadata": {
        "colab": {
          "base_uri": "https://localhost:8080/",
          "height": 17
        },
        "id": "R5bUkiPTE-kR",
        "outputId": "a6468be9-1336-4d2b-fbbe-ea24a481fa71"
      },
      "execution_count": 4,
      "outputs": [
        {
          "output_type": "display_data",
          "data": {
            "text/plain": [
              "<IPython.core.display.Javascript object>"
            ],
            "application/javascript": [
              "\n",
              "    async function download(id, filename, size) {\n",
              "      if (!google.colab.kernel.accessAllowed) {\n",
              "        return;\n",
              "      }\n",
              "      const div = document.createElement('div');\n",
              "      const label = document.createElement('label');\n",
              "      label.textContent = `Downloading \"${filename}\": `;\n",
              "      div.appendChild(label);\n",
              "      const progress = document.createElement('progress');\n",
              "      progress.max = size;\n",
              "      div.appendChild(progress);\n",
              "      document.body.appendChild(div);\n",
              "\n",
              "      const buffers = [];\n",
              "      let downloaded = 0;\n",
              "\n",
              "      const channel = await google.colab.kernel.comms.open(id);\n",
              "      // Send a message to notify the kernel that we're ready.\n",
              "      channel.send({})\n",
              "\n",
              "      for await (const message of channel.messages) {\n",
              "        // Send a message to notify the kernel that we're ready.\n",
              "        channel.send({})\n",
              "        if (message.buffers) {\n",
              "          for (const buffer of message.buffers) {\n",
              "            buffers.push(buffer);\n",
              "            downloaded += buffer.byteLength;\n",
              "            progress.value = downloaded;\n",
              "          }\n",
              "        }\n",
              "      }\n",
              "      const blob = new Blob(buffers, {type: 'application/binary'});\n",
              "      const a = document.createElement('a');\n",
              "      a.href = window.URL.createObjectURL(blob);\n",
              "      a.download = filename;\n",
              "      div.appendChild(a);\n",
              "      a.click();\n",
              "      div.remove();\n",
              "    }\n",
              "  "
            ]
          },
          "metadata": {}
        },
        {
          "output_type": "display_data",
          "data": {
            "text/plain": [
              "<IPython.core.display.Javascript object>"
            ],
            "application/javascript": [
              "download(\"download_88ebc0f9-12ca-4f02-9de0-4043678f7ca1\", \"output_image.zip\", 83199819)"
            ]
          },
          "metadata": {}
        }
      ]
    },
    {
      "cell_type": "markdown",
      "source": [
        "### Checking if Data is correct or not\n",
        "- other            3651\n",
        "- crater           1062\n",
        "- bright dune       597\n",
        "- slope streak      335\n",
        "- swiss cheese      223\n",
        "- dark dune         216\n",
        "- spider             66\n",
        "- impact ejecta      51"
      ],
      "metadata": {
        "id": "BRMH59VvJTyY"
      }
    },
    {
      "cell_type": "code",
      "source": [
        "image_path = '/content/drive/MyDrive/SOI Space Data Science/output_image'\n",
        "\n",
        "for dirpath, dirnames, filenames in os.walk(image_path):\n",
        "  if len(filenames) == 0:\n",
        "    print(f'{dirpath} have directories {dirnames}')\n",
        "  elif len(dirnames) == 0:\n",
        "    print(f'{dirpath} having {len(filenames)} files')\n",
        "  else :\n",
        "    print(f'{dirpath} have directories {dirnames} having {len(filenames)} files')"
      ],
      "metadata": {
        "colab": {
          "base_uri": "https://localhost:8080/"
        },
        "id": "z2TilComJYqD",
        "outputId": "613552b8-e4ea-4efe-9323-33f2aa3aba7c"
      },
      "execution_count": 8,
      "outputs": [
        {
          "output_type": "stream",
          "name": "stdout",
          "text": [
            "/content/drive/MyDrive/SOI Space Data Science/output_image have directories ['bright dune', 'other', 'spider', 'crater', 'swiss cheese', 'impact ejecta', 'slope streak', 'dark dune']\n",
            "/content/drive/MyDrive/SOI Space Data Science/output_image/bright dune having 597 files\n",
            "/content/drive/MyDrive/SOI Space Data Science/output_image/other having 3651 files\n",
            "/content/drive/MyDrive/SOI Space Data Science/output_image/spider having 66 files\n",
            "/content/drive/MyDrive/SOI Space Data Science/output_image/crater having 1062 files\n",
            "/content/drive/MyDrive/SOI Space Data Science/output_image/swiss cheese having 223 files\n",
            "/content/drive/MyDrive/SOI Space Data Science/output_image/impact ejecta having 51 files\n",
            "/content/drive/MyDrive/SOI Space Data Science/output_image/slope streak having 335 files\n",
            "/content/drive/MyDrive/SOI Space Data Science/output_image/dark dune having 216 files\n"
          ]
        }
      ]
    }
  ]
}