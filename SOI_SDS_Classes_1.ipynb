{
  "cells": [
    {
      "cell_type": "markdown",
      "metadata": {
        "id": "Y7Zx9wuPyd_B"
      },
      "source": [
        "## Importing Libraries used"
      ]
    },
    {
      "cell_type": "code",
      "execution_count": 1,
      "metadata": {
        "colab": {
          "base_uri": "https://localhost:8080/"
        },
        "id": "y3NT6JDWzY1S",
        "outputId": "1872b210-ab03-46e9-b8c1-17605e2859a5"
      },
      "outputs": [
        {
          "output_type": "stream",
          "name": "stdout",
          "text": [
            "\u001b[2K     \u001b[90m━━━━━━━━━━━━━━━━━━━━━━━━━━━━━━━━━━━━━━━━\u001b[0m \u001b[32m868.8/868.8 kB\u001b[0m \u001b[31m7.8 MB/s\u001b[0m eta \u001b[36m0:00:00\u001b[0m\n",
            "\u001b[2K     \u001b[90m━━━━━━━━━━━━━━━━━━━━━━━━━━━━━━━━━━━━━━━━\u001b[0m \u001b[32m21.3/21.3 MB\u001b[0m \u001b[31m44.9 MB/s\u001b[0m eta \u001b[36m0:00:00\u001b[0m\n",
            "\u001b[?25h"
          ]
        }
      ],
      "source": [
        "!pip install -q torchmetrics"
      ]
    },
    {
      "cell_type": "code",
      "execution_count": 2,
      "metadata": {
        "id": "dZR0GzQ-yhbk"
      },
      "outputs": [],
      "source": [
        "import os\n",
        "import numpy as np\n",
        "import pandas as pd\n",
        "import matplotlib.pyplot as plt\n",
        "import seaborn as sns\n",
        "from typing import Tuple, Dict, List\n",
        "\n",
        "import torch\n",
        "from torch import nn\n",
        "from torch.utils.data import Dataset, DataLoader\n",
        "from torchvision import transforms, datasets\n",
        "\n",
        "from timeit import default_timer as timer\n",
        "from tqdm.auto import tqdm\n",
        "from torchmetrics import Accuracy\n",
        "from torch.utils.data import Subset\n",
        "\n",
        "from sklearn.model_selection import train_test_split\n",
        "\n",
        "import requests\n",
        "import zipfile\n",
        "from pathlib import Path\n",
        "import random\n",
        "from PIL import Image\n",
        "from collections import Counter\n"
      ]
    },
    {
      "cell_type": "code",
      "execution_count": 2,
      "metadata": {
        "id": "6-EJqDbHyhe5"
      },
      "outputs": [],
      "source": []
    },
    {
      "cell_type": "markdown",
      "metadata": {
        "id": "pYD-pY2EyXHX"
      },
      "source": [
        "## Downloading Dataset from GitHub"
      ]
    },
    {
      "cell_type": "code",
      "execution_count": 3,
      "metadata": {
        "colab": {
          "base_uri": "https://localhost:8080/"
        },
        "id": "mTKaBf0Bxy_Y",
        "outputId": "b1159a6f-dce5-4c56-9565-bb57c9866d39"
      },
      "outputs": [
        {
          "output_type": "stream",
          "name": "stdout",
          "text": [
            "data/dataset not found, creating data/dataset\n",
            "Downloading dataset\n",
            "Unzipping dataset\n"
          ]
        }
      ],
      "source": [
        "data_path = Path('data')\n",
        "image_path = data_path/'dataset'\n",
        "zip_image_path = data_path/'dataset.zip'\n",
        "\n",
        "if image_path.is_dir():\n",
        "  print(f'{image_path} already exist... \\nSkipping download')\n",
        "else:\n",
        "  print(f'{image_path} not found, creating {image_path}')\n",
        "  image_path.mkdir(parents=True, exist_ok=True)\n",
        "\n",
        "  with open(zip_image_path, 'wb') as f:\n",
        "    request = requests.get('https://github.com/maheshkrishnam/SOI_SDS_2024/raw/main/train_data_with_classes.zip')\n",
        "    print('Downloading dataset')\n",
        "    f.write(request.content)\n",
        "\n",
        "  with zipfile.ZipFile(zip_image_path, 'r') as zip_ref:\n",
        "    print('Unzipping dataset')\n",
        "    zip_ref.extractall(image_path)\n"
      ]
    },
    {
      "cell_type": "markdown",
      "metadata": {
        "id": "hyfks2Ja2xOr"
      },
      "source": [
        "## Understanding and Visualizing the dataset"
      ]
    },
    {
      "cell_type": "markdown",
      "metadata": {
        "id": "AZdwj1qH7HTT"
      },
      "source": [
        "### Understating the structure of dataset"
      ]
    },
    {
      "cell_type": "code",
      "execution_count": 4,
      "metadata": {
        "id": "1EpEmMHcxzEz"
      },
      "outputs": [],
      "source": [
        "def walk_through_dir(image_path):\n",
        "  for dirpath, dirnames, filenames in os.walk(image_path):\n",
        "    if len(filenames) == 0:\n",
        "      print(f'{dirpath} have directories {dirnames}')\n",
        "    elif len(dirnames) == 0:\n",
        "      print(f'{dirpath} having {len(filenames)} files')\n",
        "    else :\n",
        "      print(f'{dirpath} have directories {dirnames} having {len(filenames)} files')\n",
        "\n"
      ]
    },
    {
      "cell_type": "code",
      "execution_count": 5,
      "metadata": {
        "colab": {
          "base_uri": "https://localhost:8080/"
        },
        "id": "0bR7P8ZsxzHK",
        "outputId": "2d7122ff-b80f-429b-fa62-502b40cb87e8"
      },
      "outputs": [
        {
          "output_type": "stream",
          "name": "stdout",
          "text": [
            "data/dataset have directories ['crater', 'bright dune', 'swiss cheese', 'impact ejecta', 'dark dune', 'spider', 'other', 'slope streak']\n",
            "data/dataset/crater having 1062 files\n",
            "data/dataset/bright dune having 597 files\n",
            "data/dataset/swiss cheese having 223 files\n",
            "data/dataset/impact ejecta having 51 files\n",
            "data/dataset/dark dune having 216 files\n",
            "data/dataset/spider having 66 files\n",
            "data/dataset/other having 3651 files\n",
            "data/dataset/slope streak having 335 files\n"
          ]
        }
      ],
      "source": [
        "walk_through_dir(image_path=image_path)"
      ]
    },
    {
      "cell_type": "code",
      "execution_count": 6,
      "metadata": {
        "colab": {
          "base_uri": "https://localhost:8080/"
        },
        "id": "MUqYsIEzxzKC",
        "outputId": "c0c4434d-3feb-4afe-e283-adb396ca2680"
      },
      "outputs": [
        {
          "output_type": "execute_result",
          "data": {
            "text/plain": [
              "PosixPath('data/dataset')"
            ]
          },
          "metadata": {},
          "execution_count": 6
        }
      ],
      "source": [
        "dataset_dir = image_path\n",
        "\n",
        "dataset_dir"
      ]
    },
    {
      "cell_type": "markdown",
      "metadata": {
        "id": "GaKdhfUB7BlX"
      },
      "source": [
        "### Visualizing images"
      ]
    },
    {
      "cell_type": "markdown",
      "metadata": {
        "id": "s-0Stvz07c68"
      },
      "source": [
        "#### Using PIL library"
      ]
    },
    {
      "cell_type": "code",
      "execution_count": 7,
      "metadata": {
        "colab": {
          "base_uri": "https://localhost:8080/",
          "height": 313
        },
        "id": "o9_OuCuTxzMA",
        "outputId": "d47615ed-4a52-4c64-a147-991c18b82eb3"
      },
      "outputs": [
        {
          "output_type": "stream",
          "name": "stdout",
          "text": [
            "Image Class : other\n",
            "Image shape : (227, 227) | Image width : 227 | Image height : 227\n",
            "Image filename : /content/data/dataset/other/3730.jpg\n",
            "Image : <PIL.JpegImagePlugin.JpegImageFile image mode=L size=227x227 at 0x7EDF4028EDA0>\n"
          ]
        },
        {
          "output_type": "execute_result",
          "data": {
            "text/plain": [
              "<PIL.JpegImagePlugin.JpegImageFile image mode=L size=227x227>"
            ],
            "image/png": "[encoded data removed]"
          },
          "metadata": {},
          "execution_count": 7
        }
      ],
      "source": [
        "RANDOM_SEED = 0\n",
        "random.seed(RANDOM_SEED)\n",
        "\n",
        "pattern = '*/*.jpg'\n",
        "image_path_list = list(image_path.glob(pattern))\n",
        "\n",
        "random_image_path = random.choice(image_path_list)\n",
        "\n",
        "image_class = random_image_path.parent.stem\n",
        "\n",
        "img = Image.open(random_image_path)\n",
        "print(f'Image Class : {image_class}')\n",
        "print(f'Image shape : {img.size} | Image width : {img.width} | Image height : {img.height}')\n",
        "print(f'Image filename : {img.filename}')\n",
        "print(f'Image : {img}')\n",
        "img\n"
      ]
    },
    {
      "cell_type": "markdown",
      "metadata": {
        "id": "y8ptKGOW-DaO"
      },
      "source": [
        "#### Using Matplot"
      ]
    },
    {
      "cell_type": "code",
      "execution_count": 8,
      "metadata": {
        "colab": {
          "base_uri": "https://localhost:8080/",
          "height": 367
        },
        "id": "K0sKP2F3xzO5",
        "outputId": "365697c4-659c-4a9c-ca31-11665ee267f4"
      },
      "outputs": [
        {
          "output_type": "display_data",
          "data": {
            "text/plain": [
              "<Figure size 500x400 with 1 Axes>"
            ],
            "image/png": "[encoded data removed]"
          },
          "metadata": {}
        }
      ],
      "source": [
        "# preprocessing requires PIL library\n",
        "plt.figure(figsize=(5,4))\n",
        "plt.imshow(img, cmap='gray')\n",
        "plt.title(image_class)\n",
        "plt.axis('off')\n",
        "plt.show()"
      ]
    },
    {
      "cell_type": "markdown",
      "metadata": {
        "id": "84nb55MqBDPS"
      },
      "source": [
        "## Loading dataset using ImageFolder"
      ]
    },
    {
      "cell_type": "markdown",
      "metadata": {
        "id": "6Fd7KOSVCgJw"
      },
      "source": [
        "#### Creating transforms"
      ]
    },
    {
      "cell_type": "code",
      "execution_count": 9,
      "metadata": {
        "colab": {
          "base_uri": "https://localhost:8080/"
        },
        "id": "oqlU2p-zxzUy",
        "outputId": "1c7caac5-4113-4aca-e81c-dc52e69cec19"
      },
      "outputs": [
        {
          "output_type": "execute_result",
          "data": {
            "text/plain": [
              "Compose(\n",
              "    Resize(size=(28, 28), interpolation=bilinear, max_size=None, antialias=True)\n",
              "    ToTensor()\n",
              ")"
            ]
          },
          "metadata": {},
          "execution_count": 9
        }
      ],
      "source": [
        "transform = transforms.Compose([\n",
        "    transforms.Resize(size=(28, 28)),\n",
        "    transforms.ToTensor()\n",
        "])\n",
        "\n",
        "transform"
      ]
    },
    {
      "cell_type": "code",
      "source": [
        "whole_dataset = datasets.ImageFolder(\n",
        "  root=dataset_dir,\n",
        "  transform=transform,\n",
        "  target_transform=None\n",
        ")\n",
        "\n",
        "whole_dataset"
      ],
      "metadata": {
        "colab": {
          "base_uri": "https://localhost:8080/"
        },
        "id": "AjT5fuV7BwFc",
        "outputId": "7615273e-ba12-420a-d6e7-8899e92b82cf"
      },
      "execution_count": 10,
      "outputs": [
        {
          "output_type": "execute_result",
          "data": {
            "text/plain": [
              "Dataset ImageFolder\n",
              "    Number of datapoints: 6201\n",
              "    Root location: data/dataset\n",
              "    StandardTransform\n",
              "Transform: Compose(\n",
              "               Resize(size=(28, 28), interpolation=bilinear, max_size=None, antialias=True)\n",
              "               ToTensor()\n",
              "           )"
            ]
          },
          "metadata": {},
          "execution_count": 10
        }
      ]
    },
    {
      "cell_type": "code",
      "source": [
        "whole_dataset[0]"
      ],
      "metadata": {
        "colab": {
          "base_uri": "https://localhost:8080/"
        },
        "id": "L1MJVflrDK1m",
        "outputId": "121a8d32-6286-4525-af6a-d8293700ccf7"
      },
      "execution_count": 11,
      "outputs": [
        {
          "output_type": "execute_result",
          "data": {
            "text/plain": [
              "(tensor([[[0.0000, 0.0039, 0.2745,  ..., 0.6588, 0.6510, 0.6314],\n",
              "          [0.0000, 0.0039, 0.1529,  ..., 0.6588, 0.6392, 0.6549],\n",
              "          [0.0000, 0.0000, 0.0706,  ..., 0.6510, 0.6471, 0.6510],\n",
              "          ...,\n",
              "          [0.0000, 0.0000, 0.0000,  ..., 0.6196, 0.6431, 0.6667],\n",
              "          [0.0000, 0.0000, 0.0000,  ..., 0.6627, 0.6157, 0.6314],\n",
              "          [0.0000, 0.0000, 0.0000,  ..., 0.6235, 0.5961, 0.6353]],\n",
              " \n",
              "         [[0.0000, 0.0039, 0.2745,  ..., 0.6588, 0.6510, 0.6314],\n",
              "          [0.0000, 0.0039, 0.1529,  ..., 0.6588, 0.6392, 0.6549],\n",
              "          [0.0000, 0.0000, 0.0706,  ..., 0.6510, 0.6471, 0.6510],\n",
              "          ...,\n",
              "          [0.0000, 0.0000, 0.0000,  ..., 0.6196, 0.6431, 0.6667],\n",
              "          [0.0000, 0.0000, 0.0000,  ..., 0.6627, 0.6157, 0.6314],\n",
              "          [0.0000, 0.0000, 0.0000,  ..., 0.6235, 0.5961, 0.6353]],\n",
              " \n",
              "         [[0.0000, 0.0039, 0.2745,  ..., 0.6588, 0.6510, 0.6314],\n",
              "          [0.0000, 0.0039, 0.1529,  ..., 0.6588, 0.6392, 0.6549],\n",
              "          [0.0000, 0.0000, 0.0706,  ..., 0.6510, 0.6471, 0.6510],\n",
              "          ...,\n",
              "          [0.0000, 0.0000, 0.0000,  ..., 0.6196, 0.6431, 0.6667],\n",
              "          [0.0000, 0.0000, 0.0000,  ..., 0.6627, 0.6157, 0.6314],\n",
              "          [0.0000, 0.0000, 0.0000,  ..., 0.6235, 0.5961, 0.6353]]]),\n",
              " 0)"
            ]
          },
          "metadata": {},
          "execution_count": 11
        }
      ]
    },
    {
      "cell_type": "code",
      "source": [
        "whole_dataset.class_to_idx"
      ],
      "metadata": {
        "colab": {
          "base_uri": "https://localhost:8080/"
        },
        "id": "QqiCrpNDDHeW",
        "outputId": "df7ed708-728c-4946-a70c-375d6319aa7b"
      },
      "execution_count": 12,
      "outputs": [
        {
          "output_type": "execute_result",
          "data": {
            "text/plain": [
              "{'bright dune': 0,\n",
              " 'crater': 1,\n",
              " 'dark dune': 2,\n",
              " 'impact ejecta': 3,\n",
              " 'other': 4,\n",
              " 'slope streak': 5,\n",
              " 'spider': 6,\n",
              " 'swiss cheese': 7}"
            ]
          },
          "metadata": {},
          "execution_count": 12
        }
      ]
    },
    {
      "cell_type": "code",
      "execution_count": 13,
      "metadata": {
        "colab": {
          "base_uri": "https://localhost:8080/"
        },
        "id": "P2GlaX5_xzav",
        "outputId": "a46c3d0f-ddae-47e7-8d5d-f8a87f16ecb8"
      },
      "outputs": [
        {
          "output_type": "execute_result",
          "data": {
            "text/plain": [
              "(4960, 1241)"
            ]
          },
          "metadata": {},
          "execution_count": 13
        }
      ],
      "source": [
        "train_dataset, val_dataset = train_test_split(whole_dataset, test_size=0.2, random_state=RANDOM_SEED)\n",
        "\n",
        "len(train_dataset), len(val_dataset)"
      ]
    },
    {
      "cell_type": "code",
      "execution_count": 14,
      "metadata": {
        "colab": {
          "base_uri": "https://localhost:8080/",
          "height": 426
        },
        "id": "4qAHHU3DEQwe",
        "outputId": "5c397342-34ec-4359-c9cc-1131006add04"
      },
      "outputs": [
        {
          "output_type": "stream",
          "name": "stdout",
          "text": [
            "Image shape : torch.Size([3, 28, 28])\n",
            "Image datatype : torch.float32\n"
          ]
        },
        {
          "output_type": "display_data",
          "data": {
            "text/plain": [
              "<Figure size 500x400 with 1 Axes>"
            ],
            "image/png": "[encoded data removed]"
          },
          "metadata": {}
        }
      ],
      "source": [
        "plt.figure(figsize=(5,4))\n",
        "plt.imshow(train_dataset[0][0].permute(1,2,0))\n",
        "plt.title(train_dataset[0][1])\n",
        "print(f'Image shape : {train_dataset[0][0].shape}')\n",
        "print(f'Image datatype : {train_dataset[0][0].dtype}')\n",
        "plt.show()\n"
      ]
    },
    {
      "cell_type": "markdown",
      "source": [
        "#### Weight Assigning"
      ],
      "metadata": {
        "id": "_N5kORKEtvug"
      }
    },
    {
      "cell_type": "code",
      "source": [
        "all_labels = [label for _, label in whole_dataset]\n",
        "class_counts = Counter(all_labels)\n",
        "\n",
        "total_count = len(all_labels)\n",
        "class_weights = {cls: total_count / count for cls, count in class_counts.items()}\n",
        "print(class_counts, class_weights)\n",
        "\n",
        "sample_weights = [class_weights[label] for _, label in train_dataset]\n",
        "val_sample_weights = [class_weights[label] for _, label in val_dataset]\n",
        "\n",
        "sample_weights = torch.tensor(sample_weights, dtype=torch.float)\n",
        "val_sample_weights = torch.tensor(val_sample_weights, dtype=torch.float)\n",
        "\n",
        "len(sample_weights), len(val_sample_weights), sample_weights, val_sample_weights"
      ],
      "metadata": {
        "colab": {
          "base_uri": "https://localhost:8080/"
        },
        "id": "rSSYmh_HtvSf",
        "outputId": "8f23191c-77d4-44c4-e529-9e3d13205cb4"
      },
      "execution_count": 47,
      "outputs": [
        {
          "output_type": "stream",
          "name": "stdout",
          "text": [
            "Counter({4: 3651, 1: 1062, 0: 597, 5: 335, 7: 223, 2: 216, 6: 66, 3: 51}) {0: 10.386934673366834, 1: 5.838983050847458, 2: 28.708333333333332, 3: 121.58823529411765, 4: 1.6984387838948234, 5: 18.51044776119403, 6: 93.95454545454545, 7: 27.807174887892376}\n"
          ]
        },
        {
          "output_type": "execute_result",
          "data": {
            "text/plain": [
              "(4960,\n",
              " 1241,\n",
              " tensor([1.6984, 1.6984, 1.6984,  ..., 5.8390, 1.6984, 1.6984]),\n",
              " tensor([10.3869,  1.6984,  1.6984,  ...,  1.6984,  1.6984,  1.6984]))"
            ]
          },
          "metadata": {},
          "execution_count": 47
        }
      ]
    },
    {
      "cell_type": "code",
      "source": [
        "sampler = torch.utils.data.WeightedRandomSampler(\n",
        "    weights=sample_weights,\n",
        "    num_samples=len(sample_weights),\n",
        "    replacement=True\n",
        ")\n",
        "\n",
        "val_sampler = torch.utils.data.WeightedRandomSampler(\n",
        "    weights=val_sample_weights,\n",
        "    num_samples=len(val_sample_weights),\n",
        "    replacement=True\n",
        ")\n",
        "\n",
        "sampler, val_sampler"
      ],
      "metadata": {
        "colab": {
          "base_uri": "https://localhost:8080/"
        },
        "id": "S-2db7Z-umaz",
        "outputId": "d991bb45-15f8-45c1-f74f-c32569533c2e"
      },
      "execution_count": 48,
      "outputs": [
        {
          "output_type": "execute_result",
          "data": {
            "text/plain": [
              "(<torch.utils.data.sampler.WeightedRandomSampler at 0x7ede474016c0>,\n",
              " <torch.utils.data.sampler.WeightedRandomSampler at 0x7ede47402830>)"
            ]
          },
          "metadata": {},
          "execution_count": 48
        }
      ]
    },
    {
      "cell_type": "markdown",
      "metadata": {
        "id": "uPrJc34BHMLl"
      },
      "source": [
        "#### Converting Dataset in DataLoader"
      ]
    },
    {
      "cell_type": "code",
      "execution_count": 49,
      "metadata": {
        "id": "f2NW1EyOEQyv"
      },
      "outputs": [],
      "source": [
        "BATCH_SIZE = 32\n",
        "NUM_WORKERS = os.cpu_count()\n",
        "\n",
        "train_dataloader = DataLoader(\n",
        "    dataset=train_dataset,\n",
        "    batch_size=BATCH_SIZE,\n",
        "    num_workers=NUM_WORKERS,\n",
        "    sampler=sampler\n",
        ")\n",
        "\n",
        "val_dataloader = DataLoader(\n",
        "    dataset=val_dataset,\n",
        "    batch_size=BATCH_SIZE,\n",
        "    num_workers=NUM_WORKERS,\n",
        "    sampler=val_sampler\n",
        ")\n"
      ]
    },
    {
      "cell_type": "code",
      "execution_count": 50,
      "metadata": {
        "colab": {
          "base_uri": "https://localhost:8080/"
        },
        "id": "baWntj3PW_Wq",
        "outputId": "c9cc444f-05ba-4b05-e59a-5a0d73a07f67"
      },
      "outputs": [
        {
          "output_type": "execute_result",
          "data": {
            "text/plain": [
              "(torch.Size([32, 3, 28, 28]), torch.Size([32]))"
            ]
          },
          "metadata": {},
          "execution_count": 50
        }
      ],
      "source": [
        "image, label = next(iter(train_dataloader))\n",
        "image.shape, label.shape"
      ]
    },
    {
      "cell_type": "code",
      "execution_count": 51,
      "metadata": {
        "id": "a33GNcNMW_ms"
      },
      "outputs": [],
      "source": [
        "class Model(nn.Module):\n",
        "  def __init__(self, input_shape, hidden_units, output_shape):\n",
        "    super().__init__()\n",
        "    self.block_1 = nn.Sequential(\n",
        "      nn.Conv2d(in_channels=input_shape,\n",
        "                out_channels=hidden_units,\n",
        "                kernel_size=3,\n",
        "                stride=1,\n",
        "                padding=1),\n",
        "      nn.ReLU(),\n",
        "      nn.BatchNorm2d(hidden_units),\n",
        "      nn.Conv2d(in_channels=hidden_units,\n",
        "                out_channels=hidden_units,\n",
        "                kernel_size=3,\n",
        "                stride=1,\n",
        "                padding=1),\n",
        "      nn.ReLU(),\n",
        "      nn.MaxPool2d(kernel_size=2,\n",
        "                  stride=1,\n",
        "                   padding=1),\n",
        "      nn.BatchNorm2d(hidden_units),\n",
        "      nn.Dropout(0.4)\n",
        "    )\n",
        "    self.block_2 = nn.Sequential(\n",
        "      nn.Conv2d(in_channels=hidden_units,\n",
        "                out_channels=2*hidden_units,\n",
        "                kernel_size=3,\n",
        "                stride=1,\n",
        "                padding=1),\n",
        "      nn.ReLU(),\n",
        "      nn.BatchNorm2d(2*hidden_units),\n",
        "      nn.Conv2d(in_channels=2*hidden_units,\n",
        "                out_channels=2*hidden_units,\n",
        "                kernel_size=3,\n",
        "                stride=1,\n",
        "                padding=1),\n",
        "      nn.ReLU(),\n",
        "      nn.MaxPool2d(kernel_size=2,\n",
        "                    stride=1,\n",
        "                   padding=1),\n",
        "      nn.BatchNorm2d(2*hidden_units),\n",
        "      nn.Dropout(0.4)\n",
        "    )\n",
        "    self.block_3 = nn.Sequential(\n",
        "      nn.Conv2d(in_channels=2*hidden_units,\n",
        "                out_channels=3*hidden_units,\n",
        "                kernel_size=3,\n",
        "                stride=1,\n",
        "                padding=1),\n",
        "      nn.ReLU(),\n",
        "      nn.BatchNorm2d(3*hidden_units),\n",
        "      nn.Conv2d(in_channels=3*hidden_units,\n",
        "                out_channels=3*hidden_units,\n",
        "                kernel_size=3,\n",
        "                stride=2,\n",
        "                padding=1),\n",
        "      nn.ReLU(),\n",
        "      nn.MaxPool2d(kernel_size=2,\n",
        "                  stride=2,\n",
        "                   padding=1),\n",
        "      nn.BatchNorm2d(3*hidden_units),\n",
        "      nn.Dropout(0.4)\n",
        "    )\n",
        "    self.classifier = nn.Sequential(\n",
        "      nn.Flatten(),\n",
        "      nn.Linear(in_features=3*hidden_units*8*8,\n",
        "                out_features=output_shape),\n",
        "      nn.Dropout(0.4),\n",
        "      nn.Linear(in_features=output_shape,\n",
        "                out_features=output_shape)\n",
        "    )\n",
        "\n",
        "  def forward(self, x: torch.Tensor):\n",
        "    # print(x.shape)\n",
        "    x = self.block_1(x)\n",
        "    # print(x.shape)\n",
        "    x = self.block_2(x)\n",
        "    # print(x.shape)\n",
        "    x = self.block_3(x)\n",
        "    # print(x.shape)\n",
        "    x = self.classifier(x)\n",
        "    # print(x.shape)\n",
        "    return x\n"
      ]
    },
    {
      "cell_type": "code",
      "source": [
        "device = 'cuda' if torch.cuda.is_available() else 'cpu'\n",
        "device"
      ],
      "metadata": {
        "colab": {
          "base_uri": "https://localhost:8080/",
          "height": 36
        },
        "id": "dkthhfzTJ1o-",
        "outputId": "9d19bc27-7c5b-40fe-fb9a-89c67fc1fc93"
      },
      "execution_count": 52,
      "outputs": [
        {
          "output_type": "execute_result",
          "data": {
            "text/plain": [
              "'cuda'"
            ],
            "application/vnd.google.colaboratory.intrinsic+json": {
              "type": "string"
            }
          },
          "metadata": {},
          "execution_count": 52
        }
      ]
    },
    {
      "cell_type": "code",
      "source": [
        "model = Model(\n",
        "    input_shape=3,\n",
        "    hidden_units=64,\n",
        "    output_shape=8\n",
        ").to(device)\n",
        "\n",
        "model"
      ],
      "metadata": {
        "colab": {
          "base_uri": "https://localhost:8080/"
        },
        "id": "fT_G0UMZJ1lc",
        "outputId": "f55b36c5-e768-441c-fd25-002c131dc5cb"
      },
      "execution_count": 53,
      "outputs": [
        {
          "output_type": "execute_result",
          "data": {
            "text/plain": [
              "Model(\n",
              "  (block_1): Sequential(\n",
              "    (0): Conv2d(3, 64, kernel_size=(3, 3), stride=(1, 1), padding=(1, 1))\n",
              "    (1): ReLU()\n",
              "    (2): BatchNorm2d(64, eps=1e-05, momentum=0.1, affine=True, track_running_stats=True)\n",
              "    (3): Conv2d(64, 64, kernel_size=(3, 3), stride=(1, 1), padding=(1, 1))\n",
              "    (4): ReLU()\n",
              "    (5): MaxPool2d(kernel_size=2, stride=1, padding=1, dilation=1, ceil_mode=False)\n",
              "    (6): BatchNorm2d(64, eps=1e-05, momentum=0.1, affine=True, track_running_stats=True)\n",
              "    (7): Dropout(p=0.4, inplace=False)\n",
              "  )\n",
              "  (block_2): Sequential(\n",
              "    (0): Conv2d(64, 128, kernel_size=(3, 3), stride=(1, 1), padding=(1, 1))\n",
              "    (1): ReLU()\n",
              "    (2): BatchNorm2d(128, eps=1e-05, momentum=0.1, affine=True, track_running_stats=True)\n",
              "    (3): Conv2d(128, 128, kernel_size=(3, 3), stride=(1, 1), padding=(1, 1))\n",
              "    (4): ReLU()\n",
              "    (5): MaxPool2d(kernel_size=2, stride=1, padding=1, dilation=1, ceil_mode=False)\n",
              "    (6): BatchNorm2d(128, eps=1e-05, momentum=0.1, affine=True, track_running_stats=True)\n",
              "    (7): Dropout(p=0.4, inplace=False)\n",
              "  )\n",
              "  (block_3): Sequential(\n",
              "    (0): Conv2d(128, 192, kernel_size=(3, 3), stride=(1, 1), padding=(1, 1))\n",
              "    (1): ReLU()\n",
              "    (2): BatchNorm2d(192, eps=1e-05, momentum=0.1, affine=True, track_running_stats=True)\n",
              "    (3): Conv2d(192, 192, kernel_size=(3, 3), stride=(2, 2), padding=(1, 1))\n",
              "    (4): ReLU()\n",
              "    (5): MaxPool2d(kernel_size=2, stride=2, padding=1, dilation=1, ceil_mode=False)\n",
              "    (6): BatchNorm2d(192, eps=1e-05, momentum=0.1, affine=True, track_running_stats=True)\n",
              "    (7): Dropout(p=0.4, inplace=False)\n",
              "  )\n",
              "  (classifier): Sequential(\n",
              "    (0): Flatten(start_dim=1, end_dim=-1)\n",
              "    (1): Linear(in_features=12288, out_features=8, bias=True)\n",
              "    (2): Dropout(p=0.4, inplace=False)\n",
              "    (3): Linear(in_features=8, out_features=8, bias=True)\n",
              "  )\n",
              ")"
            ]
          },
          "metadata": {},
          "execution_count": 53
        }
      ]
    },
    {
      "cell_type": "code",
      "source": [
        "loss_fn = nn.CrossEntropyLoss().to(device)\n",
        "optimizer = torch.optim.Adam(\n",
        "    params=model.parameters(),\n",
        "    lr=0.01,\n",
        "    weight_decay=1e-4\n",
        ")\n",
        "accuracy_fn = Accuracy(task='multiclass', num_classes=8).to(device)\n",
        "\n",
        "loss_fn, optimizer, accuracy_fn"
      ],
      "metadata": {
        "colab": {
          "base_uri": "https://localhost:8080/"
        },
        "id": "93JTbv2YJ1jQ",
        "outputId": "7e145bd8-f702-4b74-d94c-06bc8973f164"
      },
      "execution_count": 54,
      "outputs": [
        {
          "output_type": "execute_result",
          "data": {
            "text/plain": [
              "(CrossEntropyLoss(),\n",
              " Adam (\n",
              " Parameter Group 0\n",
              "     amsgrad: False\n",
              "     betas: (0.9, 0.999)\n",
              "     capturable: False\n",
              "     differentiable: False\n",
              "     eps: 1e-08\n",
              "     foreach: None\n",
              "     fused: None\n",
              "     lr: 0.01\n",
              "     maximize: False\n",
              "     weight_decay: 0.0001\n",
              " ),\n",
              " MulticlassAccuracy())"
            ]
          },
          "metadata": {},
          "execution_count": 54
        }
      ]
    },
    {
      "cell_type": "code",
      "source": [
        "EPOCHS = 50\n",
        "\n",
        "start_time = timer()\n",
        "train_loss_hist = []\n",
        "train_acc_hist = []\n",
        "val_loss_hist = []\n",
        "val_acc_hist = []\n",
        "\n",
        "for epoch in tqdm(range(EPOCHS)):\n",
        "  print(f'\\nEPOCH : {epoch+1} \\n----------')\n",
        "\n",
        "  model.train()\n",
        "  train_loss, train_acc = 0, 0\n",
        "  for batch, (X, y) in enumerate(train_dataloader):\n",
        "    X, y = X.to(device), y.to(device)\n",
        "\n",
        "    y_logits = model(X)\n",
        "    y_pred = torch.softmax(y_logits, dim=1).argmax(dim=1)\n",
        "\n",
        "    loss = loss_fn(y_logits, y)\n",
        "    acc = accuracy_fn(y_pred, y)\n",
        "\n",
        "    optimizer.zero_grad()\n",
        "    loss.backward()\n",
        "    optimizer.step()\n",
        "\n",
        "    train_loss += loss.item()\n",
        "    train_acc += acc.item()\n",
        "\n",
        "    if batch % 50 == 0:\n",
        "      print(f'Looked at {(batch * len(X))/len(train_dataloader.dataset):.2f} samples')\n",
        "\n",
        "  train_loss /= len(train_dataloader)\n",
        "  train_acc /= len(train_dataloader)\n",
        "\n",
        "  train_loss_hist.append(train_loss.round(3))\n",
        "  train_acc_hist.append(train_acc.round(3))\n",
        "\n",
        "  print(f'Train Loss : {train_loss:.5f} | Train Accuracy : {train_acc:.3f}')\n",
        "\n",
        "  model.eval()\n",
        "  val_loss, val_acc = 0, 0\n",
        "  with torch.inference_mode():\n",
        "    for X, y in val_dataloader:\n",
        "      X, y = X.to(device), y.to(device)\n",
        "\n",
        "      val_logits = model(X)\n",
        "      val_pred = torch.softmax(val_logits, dim=1).argmax(dim=1)\n",
        "\n",
        "      val_loss += loss_fn(val_logits, y)\n",
        "      val_acc += accuracy_fn(val_pred, y)\n",
        "\n",
        "    val_loss /= len(val_dataloader)\n",
        "    val_acc /= len(val_dataloader)\n",
        "    val_loss_hist.append(val_loss.item().round(3))\n",
        "    val_acc_hist.append(val_acc.item().round(3))\n",
        "\n",
        "    print(f'Val Loss : {val_loss:.5f} | Val Accuracy : {val_acc:.3f}')\n",
        "\n",
        "end_time = timer()\n",
        "total_time = end_time - start_time\n",
        "print(f'Total Time : {total_time:.3f} seconds\\n')\n",
        "\n",
        "print(f\"Training Losses : {train_loss_hist}\\n\")\n",
        "print(f\"Training Accuracies : {train_acc_hist}\\n\")\n",
        "print(f\"Validation Losses : {val_loss_hist}\\n\")\n",
        "print(f\"Validation Accuracies : {val_acc_hist}\")\n",
        "\n",
        "print(f'Best Train Accuracy : {train_acc_hist.max():.3f}')\n",
        "print(f'Best Val Accuracy : {val_acc_hist.max():.3f}')"
      ],
      "metadata": {
        "colab": {
          "base_uri": "https://localhost:8080/",
          "height": 1000,
          "referenced_widgets": [
            "75d0ff949f2f4f3aae319142a6a59063",
            "949be03666b542f1a4ac8cb1ff3b7408",
            "3d1dee673ecf42cca760044e99e404e3",
            "21ac3f82f1a74a1dab59edda3db351f3",
            "943b20edabc0463cb1b21b1fa9041964",
            "69a7aeb45f534910b4d07595a97ca8e9",
            "65a4df0165154bdfbe605557ef8b2ca9",
            "f18b105a0ab94be1838192d060f7faa9",
            "c7ac63f753eb439ab259ae52e778107c",
            "215d87c2c2cb426c8b4bc4f1aa69f1f5",
            "e4055f2323b44c109f69740b60dd2171"
          ]
        },
        "id": "jaxXHtb4J1gr",
        "outputId": "275bf440-f8b3-4bd3-d3ee-90e446a33c3c"
      },
      "execution_count": 55,
      "outputs": [
        {
          "output_type": "display_data",
          "data": {
            "text/plain": [
              "  0%|          | 0/50 [00:00<?, ?it/s]"
            ],
            "application/vnd.jupyter.widget-view+json": {
              "version_major": 2,
              "version_minor": 0,
              "model_id": "75d0ff949f2f4f3aae319142a6a59063"
            }
          },
          "metadata": {}
        },
        {
          "output_type": "stream",
          "name": "stdout",
          "text": [
            "\n",
            "EPOCH : 1 \n",
            "----------\n",
            "Looked at 0.00 samples\n",
            "Looked at 0.32 samples\n",
            "Looked at 0.65 samples\n",
            "Looked at 0.97 samples\n",
            "Train Loss : 3.61197 | Train Accuracy : 0.272\n",
            "Val Loss : 1.71152 | Val Accuracy : 0.350\n",
            "\n",
            "EPOCH : 2 \n",
            "----------\n",
            "Looked at 0.00 samples\n",
            "Looked at 0.32 samples\n",
            "Looked at 0.65 samples\n",
            "Looked at 0.97 samples\n",
            "Train Loss : 1.72852 | Train Accuracy : 0.371\n",
            "Val Loss : 1.79683 | Val Accuracy : 0.318\n",
            "\n",
            "EPOCH : 3 \n",
            "----------\n",
            "Looked at 0.00 samples\n",
            "Looked at 0.32 samples\n",
            "Looked at 0.65 samples\n",
            "Looked at 0.97 samples\n",
            "Train Loss : 1.64879 | Train Accuracy : 0.396\n",
            "Val Loss : 1.59666 | Val Accuracy : 0.434\n",
            "\n",
            "EPOCH : 4 \n",
            "----------\n",
            "Looked at 0.00 samples\n",
            "Looked at 0.32 samples\n",
            "Looked at 0.65 samples\n",
            "Looked at 0.97 samples\n",
            "Train Loss : 1.54108 | Train Accuracy : 0.445\n",
            "Val Loss : 1.71466 | Val Accuracy : 0.464\n",
            "\n",
            "EPOCH : 5 \n",
            "----------\n",
            "Looked at 0.00 samples\n",
            "Looked at 0.32 samples\n",
            "Looked at 0.65 samples\n",
            "Looked at 0.97 samples\n",
            "Train Loss : 1.39508 | Train Accuracy : 0.501\n",
            "Val Loss : 1.50896 | Val Accuracy : 0.442\n",
            "\n",
            "EPOCH : 6 \n",
            "----------\n",
            "Looked at 0.00 samples\n",
            "Looked at 0.32 samples\n",
            "Looked at 0.65 samples\n",
            "Looked at 0.97 samples\n",
            "Train Loss : 1.34046 | Train Accuracy : 0.511\n",
            "Val Loss : 1.63648 | Val Accuracy : 0.451\n",
            "\n",
            "EPOCH : 7 \n",
            "----------\n",
            "Looked at 0.00 samples\n",
            "Looked at 0.32 samples\n",
            "Looked at 0.65 samples\n",
            "Looked at 0.97 samples\n",
            "Train Loss : 1.19577 | Train Accuracy : 0.568\n",
            "Val Loss : 1.84515 | Val Accuracy : 0.352\n",
            "\n",
            "EPOCH : 8 \n",
            "----------\n",
            "Looked at 0.00 samples\n",
            "Looked at 0.32 samples\n",
            "Looked at 0.65 samples\n",
            "Looked at 0.97 samples\n",
            "Train Loss : 1.14549 | Train Accuracy : 0.574\n",
            "Val Loss : 2.11254 | Val Accuracy : 0.398\n",
            "\n",
            "EPOCH : 9 \n",
            "----------\n",
            "Looked at 0.00 samples\n",
            "Looked at 0.32 samples\n",
            "Looked at 0.65 samples\n",
            "Looked at 0.97 samples\n",
            "Train Loss : 1.08281 | Train Accuracy : 0.607\n",
            "Val Loss : 1.20236 | Val Accuracy : 0.586\n",
            "\n",
            "EPOCH : 10 \n",
            "----------\n",
            "Looked at 0.00 samples\n",
            "Looked at 0.32 samples\n",
            "Looked at 0.65 samples\n",
            "Looked at 0.97 samples\n",
            "Train Loss : 1.03798 | Train Accuracy : 0.617\n",
            "Val Loss : 1.54416 | Val Accuracy : 0.503\n",
            "\n",
            "EPOCH : 11 \n",
            "----------\n",
            "Looked at 0.00 samples\n",
            "Looked at 0.32 samples\n",
            "Looked at 0.65 samples\n",
            "Looked at 0.97 samples\n",
            "Train Loss : 1.02134 | Train Accuracy : 0.631\n",
            "Val Loss : 3.53094 | Val Accuracy : 0.305\n",
            "\n",
            "EPOCH : 12 \n",
            "----------\n",
            "Looked at 0.00 samples\n",
            "Looked at 0.32 samples\n",
            "Looked at 0.65 samples\n",
            "Looked at 0.97 samples\n",
            "Train Loss : 0.99446 | Train Accuracy : 0.636\n",
            "Val Loss : 1.41891 | Val Accuracy : 0.519\n",
            "\n",
            "EPOCH : 13 \n",
            "----------\n",
            "Looked at 0.00 samples\n",
            "Looked at 0.32 samples\n",
            "Looked at 0.65 samples\n",
            "Looked at 0.97 samples\n",
            "Train Loss : 0.94122 | Train Accuracy : 0.650\n",
            "Val Loss : 2.08171 | Val Accuracy : 0.451\n",
            "\n",
            "EPOCH : 14 \n",
            "----------\n",
            "Looked at 0.00 samples\n",
            "Looked at 0.32 samples\n",
            "Looked at 0.65 samples\n",
            "Looked at 0.97 samples\n",
            "Train Loss : 1.20544 | Train Accuracy : 0.569\n",
            "Val Loss : 1.49805 | Val Accuracy : 0.439\n",
            "\n",
            "EPOCH : 15 \n",
            "----------\n",
            "Looked at 0.00 samples\n",
            "Looked at 0.32 samples\n",
            "Looked at 0.65 samples\n",
            "Looked at 0.97 samples\n",
            "Train Loss : 1.16994 | Train Accuracy : 0.583\n",
            "Val Loss : 1.74349 | Val Accuracy : 0.450\n",
            "\n",
            "EPOCH : 16 \n",
            "----------\n",
            "Looked at 0.00 samples\n",
            "Looked at 0.32 samples\n",
            "Looked at 0.65 samples\n",
            "Looked at 0.97 samples\n",
            "Train Loss : 1.01348 | Train Accuracy : 0.639\n",
            "Val Loss : 1.51029 | Val Accuracy : 0.480\n",
            "\n",
            "EPOCH : 17 \n",
            "----------\n",
            "Looked at 0.00 samples\n",
            "Looked at 0.32 samples\n",
            "Looked at 0.65 samples\n",
            "Looked at 0.97 samples\n",
            "Train Loss : 0.97637 | Train Accuracy : 0.639\n",
            "Val Loss : 1.36457 | Val Accuracy : 0.636\n",
            "\n",
            "EPOCH : 18 \n",
            "----------\n",
            "Looked at 0.00 samples\n",
            "Looked at 0.32 samples\n",
            "Looked at 0.65 samples\n",
            "Looked at 0.97 samples\n",
            "Train Loss : 0.87832 | Train Accuracy : 0.678\n",
            "Val Loss : 1.45939 | Val Accuracy : 0.553\n",
            "\n",
            "EPOCH : 19 \n",
            "----------\n",
            "Looked at 0.00 samples\n",
            "Looked at 0.32 samples\n",
            "Looked at 0.65 samples\n",
            "Looked at 0.97 samples\n",
            "Train Loss : 0.92145 | Train Accuracy : 0.643\n",
            "Val Loss : 1.52587 | Val Accuracy : 0.573\n",
            "\n",
            "EPOCH : 20 \n",
            "----------\n",
            "Looked at 0.00 samples\n",
            "Looked at 0.32 samples\n",
            "Looked at 0.65 samples\n",
            "Looked at 0.97 samples\n",
            "Train Loss : 0.96860 | Train Accuracy : 0.644\n",
            "Val Loss : 1.32986 | Val Accuracy : 0.561\n",
            "\n",
            "EPOCH : 21 \n",
            "----------\n",
            "Looked at 0.00 samples\n",
            "Looked at 0.32 samples\n",
            "Looked at 0.65 samples\n",
            "Looked at 0.97 samples\n",
            "Train Loss : 0.90940 | Train Accuracy : 0.668\n",
            "Val Loss : 1.23337 | Val Accuracy : 0.646\n",
            "\n",
            "EPOCH : 22 \n",
            "----------\n",
            "Looked at 0.00 samples\n",
            "Looked at 0.32 samples\n",
            "Looked at 0.65 samples\n",
            "Looked at 0.97 samples\n",
            "Train Loss : 0.94565 | Train Accuracy : 0.659\n",
            "Val Loss : 1.21259 | Val Accuracy : 0.608\n",
            "\n",
            "EPOCH : 23 \n",
            "----------\n",
            "Looked at 0.00 samples\n",
            "Looked at 0.32 samples\n",
            "Looked at 0.65 samples\n",
            "Looked at 0.97 samples\n",
            "Train Loss : 0.95612 | Train Accuracy : 0.647\n",
            "Val Loss : 1.10692 | Val Accuracy : 0.594\n",
            "\n",
            "EPOCH : 24 \n",
            "----------\n",
            "Looked at 0.00 samples\n",
            "Looked at 0.32 samples\n",
            "Looked at 0.65 samples\n",
            "Looked at 0.97 samples\n",
            "Train Loss : 0.90492 | Train Accuracy : 0.663\n",
            "Val Loss : 1.46376 | Val Accuracy : 0.491\n",
            "\n",
            "EPOCH : 25 \n",
            "----------\n",
            "Looked at 0.00 samples\n",
            "Looked at 0.32 samples\n",
            "Looked at 0.65 samples\n",
            "Looked at 0.97 samples\n",
            "Train Loss : 0.92368 | Train Accuracy : 0.658\n",
            "Val Loss : 1.43044 | Val Accuracy : 0.537\n",
            "\n",
            "EPOCH : 26 \n",
            "----------\n",
            "Looked at 0.00 samples\n",
            "Looked at 0.32 samples\n",
            "Looked at 0.65 samples\n",
            "Looked at 0.97 samples\n",
            "Train Loss : 0.88877 | Train Accuracy : 0.670\n",
            "Val Loss : 1.49688 | Val Accuracy : 0.538\n",
            "\n",
            "EPOCH : 27 \n",
            "----------\n",
            "Looked at 0.00 samples\n",
            "Looked at 0.32 samples\n",
            "Looked at 0.65 samples\n",
            "Looked at 0.97 samples\n",
            "Train Loss : 0.91534 | Train Accuracy : 0.660\n",
            "Val Loss : 1.59391 | Val Accuracy : 0.455\n",
            "\n",
            "EPOCH : 28 \n",
            "----------\n",
            "Looked at 0.00 samples\n",
            "Looked at 0.32 samples\n",
            "Looked at 0.65 samples\n",
            "Looked at 0.97 samples\n",
            "Train Loss : 0.91097 | Train Accuracy : 0.668\n",
            "Val Loss : 1.85940 | Val Accuracy : 0.518\n",
            "\n",
            "EPOCH : 29 \n",
            "----------\n",
            "Looked at 0.00 samples\n",
            "Looked at 0.32 samples\n",
            "Looked at 0.65 samples\n",
            "Looked at 0.97 samples\n",
            "Train Loss : 0.97737 | Train Accuracy : 0.644\n",
            "Val Loss : 1.49199 | Val Accuracy : 0.560\n",
            "\n",
            "EPOCH : 30 \n",
            "----------\n",
            "Looked at 0.00 samples\n",
            "Looked at 0.32 samples\n",
            "Looked at 0.65 samples\n",
            "Looked at 0.97 samples\n",
            "Train Loss : 0.88893 | Train Accuracy : 0.675\n",
            "Val Loss : 1.29287 | Val Accuracy : 0.660\n",
            "\n",
            "EPOCH : 31 \n",
            "----------\n",
            "Looked at 0.00 samples\n",
            "Looked at 0.32 samples\n",
            "Looked at 0.65 samples\n",
            "Looked at 0.97 samples\n",
            "Train Loss : 0.86534 | Train Accuracy : 0.680\n",
            "Val Loss : 1.20600 | Val Accuracy : 0.683\n",
            "\n",
            "EPOCH : 32 \n",
            "----------\n",
            "Looked at 0.00 samples\n",
            "Looked at 0.32 samples\n",
            "Looked at 0.65 samples\n",
            "Looked at 0.97 samples\n",
            "Train Loss : 0.80837 | Train Accuracy : 0.694\n",
            "Val Loss : 1.60691 | Val Accuracy : 0.578\n",
            "\n",
            "EPOCH : 33 \n",
            "----------\n",
            "Looked at 0.00 samples\n",
            "Looked at 0.32 samples\n",
            "Looked at 0.65 samples\n",
            "Looked at 0.97 samples\n",
            "Train Loss : 0.85095 | Train Accuracy : 0.688\n",
            "Val Loss : 1.43059 | Val Accuracy : 0.582\n",
            "\n",
            "EPOCH : 34 \n",
            "----------\n",
            "Looked at 0.00 samples\n",
            "Looked at 0.32 samples\n",
            "Looked at 0.65 samples\n",
            "Looked at 0.97 samples\n",
            "Train Loss : 0.82215 | Train Accuracy : 0.699\n",
            "Val Loss : 1.27766 | Val Accuracy : 0.624\n",
            "\n",
            "EPOCH : 35 \n",
            "----------\n",
            "Looked at 0.00 samples\n",
            "Looked at 0.32 samples\n",
            "Looked at 0.65 samples\n",
            "Looked at 0.97 samples\n",
            "Train Loss : 0.83463 | Train Accuracy : 0.681\n",
            "Val Loss : 1.35419 | Val Accuracy : 0.600\n",
            "\n",
            "EPOCH : 36 \n",
            "----------\n",
            "Looked at 0.00 samples\n",
            "Looked at 0.32 samples\n",
            "Looked at 0.65 samples\n",
            "Looked at 0.97 samples\n",
            "Train Loss : 0.84612 | Train Accuracy : 0.680\n",
            "Val Loss : 2.05987 | Val Accuracy : 0.449\n",
            "\n",
            "EPOCH : 37 \n",
            "----------\n",
            "Looked at 0.00 samples\n",
            "Looked at 0.32 samples\n",
            "Looked at 0.65 samples\n",
            "Looked at 0.97 samples\n",
            "Train Loss : 0.79527 | Train Accuracy : 0.708\n",
            "Val Loss : 1.27131 | Val Accuracy : 0.636\n",
            "\n",
            "EPOCH : 38 \n",
            "----------\n",
            "Looked at 0.00 samples\n",
            "Looked at 0.32 samples\n",
            "Looked at 0.65 samples\n",
            "Looked at 0.97 samples\n",
            "Train Loss : 0.80847 | Train Accuracy : 0.698\n",
            "Val Loss : 1.42840 | Val Accuracy : 0.540\n",
            "\n",
            "EPOCH : 39 \n",
            "----------\n",
            "Looked at 0.00 samples\n",
            "Looked at 0.32 samples\n",
            "Looked at 0.65 samples\n",
            "Looked at 0.97 samples\n",
            "Train Loss : 0.78769 | Train Accuracy : 0.702\n",
            "Val Loss : 2.02554 | Val Accuracy : 0.463\n",
            "\n",
            "EPOCH : 40 \n",
            "----------\n",
            "Looked at 0.00 samples\n",
            "Looked at 0.32 samples\n",
            "Looked at 0.65 samples\n",
            "Looked at 0.97 samples\n",
            "Train Loss : 0.76553 | Train Accuracy : 0.716\n",
            "Val Loss : 1.31632 | Val Accuracy : 0.594\n",
            "\n",
            "EPOCH : 41 \n",
            "----------\n",
            "Looked at 0.00 samples\n",
            "Looked at 0.32 samples\n",
            "Looked at 0.65 samples\n",
            "Looked at 0.97 samples\n",
            "Train Loss : 0.77273 | Train Accuracy : 0.717\n",
            "Val Loss : 1.11084 | Val Accuracy : 0.690\n",
            "\n",
            "EPOCH : 42 \n",
            "----------\n",
            "Looked at 0.00 samples\n",
            "Looked at 0.32 samples\n",
            "Looked at 0.65 samples\n",
            "Looked at 0.97 samples\n",
            "Train Loss : 0.75208 | Train Accuracy : 0.721\n",
            "Val Loss : 1.19138 | Val Accuracy : 0.665\n",
            "\n",
            "EPOCH : 43 \n",
            "----------\n",
            "Looked at 0.00 samples\n",
            "Looked at 0.32 samples\n",
            "Looked at 0.65 samples\n",
            "Looked at 0.97 samples\n",
            "Train Loss : 0.76183 | Train Accuracy : 0.722\n",
            "Val Loss : 1.05291 | Val Accuracy : 0.691\n",
            "\n",
            "EPOCH : 44 \n",
            "----------\n",
            "Looked at 0.00 samples\n",
            "Looked at 0.32 samples\n",
            "Looked at 0.65 samples\n",
            "Looked at 0.97 samples\n",
            "Train Loss : 0.74626 | Train Accuracy : 0.720\n",
            "Val Loss : 1.32545 | Val Accuracy : 0.579\n",
            "\n",
            "EPOCH : 45 \n",
            "----------\n",
            "Looked at 0.00 samples\n",
            "Looked at 0.32 samples\n",
            "Looked at 0.65 samples\n",
            "Looked at 0.97 samples\n",
            "Train Loss : 0.73839 | Train Accuracy : 0.725\n",
            "Val Loss : 1.95240 | Val Accuracy : 0.520\n",
            "\n",
            "EPOCH : 46 \n",
            "----------\n",
            "Looked at 0.00 samples\n",
            "Looked at 0.32 samples\n",
            "Looked at 0.65 samples\n",
            "Looked at 0.97 samples\n",
            "Train Loss : 0.97145 | Train Accuracy : 0.650\n",
            "Val Loss : 1.66996 | Val Accuracy : 0.423\n",
            "\n",
            "EPOCH : 47 \n",
            "----------\n",
            "Looked at 0.00 samples\n",
            "Looked at 0.32 samples\n",
            "Looked at 0.65 samples\n",
            "Looked at 0.97 samples\n",
            "Train Loss : 0.90589 | Train Accuracy : 0.661\n",
            "Val Loss : 1.14756 | Val Accuracy : 0.694\n",
            "\n",
            "EPOCH : 48 \n",
            "----------\n",
            "Looked at 0.00 samples\n",
            "Looked at 0.32 samples\n",
            "Looked at 0.65 samples\n",
            "Looked at 0.97 samples\n",
            "Train Loss : 0.79527 | Train Accuracy : 0.710\n",
            "Val Loss : 1.61916 | Val Accuracy : 0.633\n",
            "\n",
            "EPOCH : 49 \n",
            "----------\n",
            "Looked at 0.00 samples\n",
            "Looked at 0.32 samples\n",
            "Looked at 0.65 samples\n",
            "Looked at 0.97 samples\n",
            "Train Loss : 0.76901 | Train Accuracy : 0.714\n",
            "Val Loss : 1.24048 | Val Accuracy : 0.643\n",
            "\n",
            "EPOCH : 50 \n",
            "----------\n",
            "Looked at 0.00 samples\n",
            "Looked at 0.32 samples\n",
            "Looked at 0.65 samples\n",
            "Looked at 0.97 samples\n",
            "Train Loss : 0.74898 | Train Accuracy : 0.724\n",
            "Val Loss : 2.17343 | Val Accuracy : 0.578\n",
            "Total Time : 240.907 seconds\n",
            "\n",
            "Training Losses : [3.6119669845027307, 1.7285150774063602, 1.648794085748734, 1.5410794200435762, 1.3950821926516872, 1.3404644908443575, 1.1957676018438033, 1.1454880156824665, 1.0828136640210306, 1.0379750578634201, 1.0213434673124744, 0.9944601624242722, 0.941216488615159, 1.2054383350956825, 1.1699431657791137, 1.013479991497532, 0.9763701131266932, 0.8783235924859201, 0.921449867948409, 0.9686018313131025, 0.909395500729161, 0.9456546033582379, 0.9561225733449382, 0.90491565773564, 0.923676440984972, 0.8887666971452775, 0.9153380938114658, 0.9109746756092194, 0.9773665049383717, 0.8889333484634276, 0.8653449916070507, 0.8083715719561423, 0.8509481085884956, 0.8221516788005829, 0.834628071708064, 0.8461248461277254, 0.7952682893122396, 0.8084678142301498, 0.787686989961132, 0.7655283656812484, 0.7727316048837477, 0.7520835426545912, 0.7618323026164886, 0.7462573987822378, 0.738386219932187, 0.9714546063253956, 0.9058932308227785, 0.7952733643593327, 0.7690100116114462, 0.7489793665947453]\n",
            "\n",
            "Training Accuracies : [0.27237903225806454, 0.3713709677419355, 0.3961693548387097, 0.4449596774193548, 0.5012096774193548, 0.511491935483871, 0.5675403225806451, 0.5737903225806451, 0.6066532258064516, 0.6167338709677419, 0.6314516129032258, 0.6362903225806451, 0.65, 0.56875, 0.5830645161290322, 0.6389112903225806, 0.6393145161290322, 0.6776209677419355, 0.6429435483870968, 0.6439516129032258, 0.6679435483870968, 0.6586693548387097, 0.646774193548387, 0.6627016129032258, 0.6576612903225807, 0.6697580645161291, 0.6598790322580645, 0.6675403225806451, 0.64375, 0.6752016129032258, 0.6796370967741936, 0.6935483870967742, 0.6879032258064516, 0.6987903225806451, 0.6810483870967742, 0.6798387096774193, 0.7084677419354839, 0.6981854838709678, 0.7022177419354839, 0.7157258064516129, 0.7169354838709677, 0.7213709677419354, 0.7219758064516129, 0.7203629032258064, 0.7245967741935484, 0.65, 0.6610887096774194, 0.7100806451612903, 0.713508064516129, 0.7235887096774194]\n",
            "\n",
            "Validation Losses : [1.7115249633789062, 1.796829104423523, 1.596657633781433, 1.7146577835083008, 1.5089577436447144, 1.6364753246307373, 1.8451509475708008, 2.112544536590576, 1.2023553848266602, 1.5441614389419556, 3.5309393405914307, 1.4189070463180542, 2.0817060470581055, 1.4980500936508179, 1.743485450744629, 1.510294795036316, 1.3645720481872559, 1.4593867063522339, 1.5258733034133911, 1.3298627138137817, 1.2333712577819824, 1.2125929594039917, 1.1069172620773315, 1.4637645483016968, 1.430444359779358, 1.4968798160552979, 1.5939122438430786, 1.8593969345092773, 1.4919888973236084, 1.2928720712661743, 1.2059999704360962, 1.6069128513336182, 1.430586814880371, 1.277658462524414, 1.3541887998580933, 2.0598695278167725, 1.2713106870651245, 1.4283955097198486, 2.0255379676818848, 1.3163176774978638, 1.1108356714248657, 1.1913777589797974, 1.0529102087020874, 1.3254468441009521, 1.9523967504501343, 1.6699557304382324, 1.1475613117218018, 1.6191611289978027, 1.240484595298767, 2.173429012298584]\n",
            "\n",
            "Validation Accuracies : [0.3501282036304474, 0.317724347114563, 0.43435898423194885, 0.46355772018432617, 0.4420192539691925, 0.45096153020858765, 0.35230767726898193, 0.3978525698184967, 0.5862179398536682, 0.5026922821998596, 0.30512818694114685, 0.5188140869140625, 0.4514102637767792, 0.43858975172042847, 0.4499359130859375, 0.47980767488479614, 0.6356731057167053, 0.5528205037117004, 0.5733012557029724, 0.5608333349227905, 0.6461217999458313, 0.6079807877540588, 0.593910276889801, 0.4911217987537384, 0.5367948412895203, 0.5375961661338806, 0.45461538434028625, 0.5175641179084778, 0.5598077178001404, 0.6600641012191772, 0.6832051277160645, 0.5776602625846863, 0.5818910598754883, 0.6235576868057251, 0.5995192527770996, 0.4494551122188568, 0.6361538171768188, 0.5399038195610046, 0.4631730616092682, 0.5941346287727356, 0.6899358630180359, 0.6653205156326294, 0.6908653974533081, 0.5790385007858276, 0.5204166769981384, 0.4234936237335205, 0.6939423084259033, 0.6329486966133118, 0.6425641179084778, 0.5782371759414673]\n"
          ]
        }
      ]
    },
    {
      "cell_type": "code",
      "source": [
        "plt.plot(train_loss_hist, label='Training Loss')\n",
        "plt.plot(val_loss_hist, label='Validation Loss')\n",
        "plt.title('Training and Validation Loss')\n",
        "plt.xlabel('Epochs')\n",
        "plt.ylabel('Loss')\n",
        "plt.legend()\n",
        "plt.show()"
      ],
      "metadata": {
        "id": "fVaGaVW9KKWi",
        "colab": {
          "base_uri": "https://localhost:8080/",
          "height": 472
        },
        "outputId": "57c48961-7368-4ea3-8478-ecb734d26b8a"
      },
      "execution_count": 56,
      "outputs": [
        {
          "output_type": "display_data",
          "data": {
            "text/plain": [
              "<Figure size 640x480 with 1 Axes>"
            ],
            "image/png": "[encoded data removed]"
          },
          "metadata": {}
        }
      ]
    },
    {
      "cell_type": "code",
      "source": [
        "plt.plot(train_acc_hist, label='Training Accuracy')\n",
        "plt.plot(val_acc_hist, label='Validation Accuracy')\n",
        "plt.title('Training and Validation Accuracy')\n",
        "plt.xlabel('Epochs')\n",
        "plt.ylabel('Accuracy')\n",
        "plt.legend()\n",
        "plt.show()"
      ],
      "metadata": {
        "id": "0m4cy5jl82E_",
        "outputId": "15a0931a-f40e-4008-cf7a-63d5604590d1",
        "colab": {
          "base_uri": "https://localhost:8080/",
          "height": 472
        }
      },
      "execution_count": 57,
      "outputs": [
        {
          "output_type": "display_data",
          "data": {
            "text/plain": [
              "<Figure size 640x480 with 1 Axes>"
            ],
            "image/png": "[encoded data removed]"
          },
          "metadata": {}
        }
      ]
    }
  ],
  "metadata": {
    "colab": {
      "provenance": [],
      "gpuType": "T4",
      "toc_visible": true
    },
    "kernelspec": {
      "display_name": "Python 3",
      "name": "python3"
    },
    "language_info": {
      "codemirror_mode": {
        "name": "ipython",
        "version": 3
      },
      "file_extension": ".py",
      "mimetype": "text/x-python",
      "name": "python",
      "nbconvert_exporter": "python",
      "pygments_lexer": "ipython3",
      "version": "3.7.6"
    },
    "accelerator": "GPU",
    "widgets": {
      "application/vnd.jupyter.widget-state+json": {
        "75d0ff949f2f4f3aae319142a6a59063": {
          "model_module": "@jupyter-widgets/controls",
          "model_name": "HBoxModel",
          "model_module_version": "1.5.0",
          "state": {
            "_dom_classes": [],
            "_model_module": "@jupyter-widgets/controls",
            "_model_module_version": "1.5.0",
            "_model_name": "HBoxModel",
            "_view_count": null,
            "_view_module": "@jupyter-widgets/controls",
            "_view_module_version": "1.5.0",
            "_view_name": "HBoxView",
            "box_style": "",
            "children": [
              "IPY_MODEL_949be03666b542f1a4ac8cb1ff3b7408",
              "IPY_MODEL_3d1dee673ecf42cca760044e99e404e3",
              "IPY_MODEL_21ac3f82f1a74a1dab59edda3db351f3"
            ],
            "layout": "IPY_MODEL_943b20edabc0463cb1b21b1fa9041964"
          }
        },
        "949be03666b542f1a4ac8cb1ff3b7408": {
          "model_module": "@jupyter-widgets/controls",
          "model_name": "HTMLModel",
          "model_module_version": "1.5.0",
          "state": {
            "_dom_classes": [],
            "_model_module": "@jupyter-widgets/controls",
            "_model_module_version": "1.5.0",
            "_model_name": "HTMLModel",
            "_view_count": null,
            "_view_module": "@jupyter-widgets/controls",
            "_view_module_version": "1.5.0",
            "_view_name": "HTMLView",
            "description": "",
            "description_tooltip": null,
            "layout": "IPY_MODEL_69a7aeb45f534910b4d07595a97ca8e9",
            "placeholder": "​",
            "style": "IPY_MODEL_65a4df0165154bdfbe605557ef8b2ca9",
            "value": "100%"
          }
        },
        "3d1dee673ecf42cca760044e99e404e3": {
          "model_module": "@jupyter-widgets/controls",
          "model_name": "FloatProgressModel",
          "model_module_version": "1.5.0",
          "state": {
            "_dom_classes": [],
            "_model_module": "@jupyter-widgets/controls",
            "_model_module_version": "1.5.0",
            "_model_name": "FloatProgressModel",
            "_view_count": null,
            "_view_module": "@jupyter-widgets/controls",
            "_view_module_version": "1.5.0",
            "_view_name": "ProgressView",
            "bar_style": "success",
            "description": "",
            "description_tooltip": null,
            "layout": "IPY_MODEL_f18b105a0ab94be1838192d060f7faa9",
            "max": 50,
            "min": 0,
            "orientation": "horizontal",
            "style": "IPY_MODEL_c7ac63f753eb439ab259ae52e778107c",
            "value": 50
          }
        },
        "21ac3f82f1a74a1dab59edda3db351f3": {
          "model_module": "@jupyter-widgets/controls",
          "model_name": "HTMLModel",
          "model_module_version": "1.5.0",
          "state": {
            "_dom_classes": [],
            "_model_module": "@jupyter-widgets/controls",
            "_model_module_version": "1.5.0",
            "_model_name": "HTMLModel",
            "_view_count": null,
            "_view_module": "@jupyter-widgets/controls",
            "_view_module_version": "1.5.0",
            "_view_name": "HTMLView",
            "description": "",
            "description_tooltip": null,
            "layout": "IPY_MODEL_215d87c2c2cb426c8b4bc4f1aa69f1f5",
            "placeholder": "​",
            "style": "IPY_MODEL_e4055f2323b44c109f69740b60dd2171",
            "value": " 50/50 [04:00&lt;00:00,  4.82s/it]"
          }
        },
        "943b20edabc0463cb1b21b1fa9041964": {
          "model_module": "@jupyter-widgets/base",
          "model_name": "LayoutModel",
          "model_module_version": "1.2.0",
          "state": {
            "_model_module": "@jupyter-widgets/base",
            "_model_module_version": "1.2.0",
            "_model_name": "LayoutModel",
            "_view_count": null,
            "_view_module": "@jupyter-widgets/base",
            "_view_module_version": "1.2.0",
            "_view_name": "LayoutView",
            "align_content": null,
            "align_items": null,
            "align_self": null,
            "border": null,
            "bottom": null,
            "display": null,
            "flex": null,
            "flex_flow": null,
            "grid_area": null,
            "grid_auto_columns": null,
            "grid_auto_flow": null,
            "grid_auto_rows": null,
            "grid_column": null,
            "grid_gap": null,
            "grid_row": null,
            "grid_template_areas": null,
            "grid_template_columns": null,
            "grid_template_rows": null,
            "height": null,
            "justify_content": null,
            "justify_items": null,
            "left": null,
            "margin": null,
            "max_height": null,
            "max_width": null,
            "min_height": null,
            "min_width": null,
            "object_fit": null,
            "object_position": null,
            "order": null,
            "overflow": null,
            "overflow_x": null,
            "overflow_y": null,
            "padding": null,
            "right": null,
            "top": null,
            "visibility": null,
            "width": null
          }
        },
        "69a7aeb45f534910b4d07595a97ca8e9": {
          "model_module": "@jupyter-widgets/base",
          "model_name": "LayoutModel",
          "model_module_version": "1.2.0",
          "state": {
            "_model_module": "@jupyter-widgets/base",
            "_model_module_version": "1.2.0",
            "_model_name": "LayoutModel",
            "_view_count": null,
            "_view_module": "@jupyter-widgets/base",
            "_view_module_version": "1.2.0",
            "_view_name": "LayoutView",
            "align_content": null,
            "align_items": null,
            "align_self": null,
            "border": null,
            "bottom": null,
            "display": null,
            "flex": null,
            "flex_flow": null,
            "grid_area": null,
            "grid_auto_columns": null,
            "grid_auto_flow": null,
            "grid_auto_rows": null,
            "grid_column": null,
            "grid_gap": null,
            "grid_row": null,
            "grid_template_areas": null,
            "grid_template_columns": null,
            "grid_template_rows": null,
            "height": null,
            "justify_content": null,
            "justify_items": null,
            "left": null,
            "margin": null,
            "max_height": null,
            "max_width": null,
            "min_height": null,
            "min_width": null,
            "object_fit": null,
            "object_position": null,
            "order": null,
            "overflow": null,
            "overflow_x": null,
            "overflow_y": null,
            "padding": null,
            "right": null,
            "top": null,
            "visibility": null,
            "width": null
          }
        },
        "65a4df0165154bdfbe605557ef8b2ca9": {
          "model_module": "@jupyter-widgets/controls",
          "model_name": "DescriptionStyleModel",
          "model_module_version": "1.5.0",
          "state": {
            "_model_module": "@jupyter-widgets/controls",
            "_model_module_version": "1.5.0",
            "_model_name": "DescriptionStyleModel",
            "_view_count": null,
            "_view_module": "@jupyter-widgets/base",
            "_view_module_version": "1.2.0",
            "_view_name": "StyleView",
            "description_width": ""
          }
        },
        "f18b105a0ab94be1838192d060f7faa9": {
          "model_module": "@jupyter-widgets/base",
          "model_name": "LayoutModel",
          "model_module_version": "1.2.0",
          "state": {
            "_model_module": "@jupyter-widgets/base",
            "_model_module_version": "1.2.0",
            "_model_name": "LayoutModel",
            "_view_count": null,
            "_view_module": "@jupyter-widgets/base",
            "_view_module_version": "1.2.0",
            "_view_name": "LayoutView",
            "align_content": null,
            "align_items": null,
            "align_self": null,
            "border": null,
            "bottom": null,
            "display": null,
            "flex": null,
            "flex_flow": null,
            "grid_area": null,
            "grid_auto_columns": null,
            "grid_auto_flow": null,
            "grid_auto_rows": null,
            "grid_column": null,
            "grid_gap": null,
            "grid_row": null,
            "grid_template_areas": null,
            "grid_template_columns": null,
            "grid_template_rows": null,
            "height": null,
            "justify_content": null,
            "justify_items": null,
            "left": null,
            "margin": null,
            "max_height": null,
            "max_width": null,
            "min_height": null,
            "min_width": null,
            "object_fit": null,
            "object_position": null,
            "order": null,
            "overflow": null,
            "overflow_x": null,
            "overflow_y": null,
            "padding": null,
            "right": null,
            "top": null,
            "visibility": null,
            "width": null
          }
        },
        "c7ac63f753eb439ab259ae52e778107c": {
          "model_module": "@jupyter-widgets/controls",
          "model_name": "ProgressStyleModel",
          "model_module_version": "1.5.0",
          "state": {
            "_model_module": "@jupyter-widgets/controls",
            "_model_module_version": "1.5.0",
            "_model_name": "ProgressStyleModel",
            "_view_count": null,
            "_view_module": "@jupyter-widgets/base",
            "_view_module_version": "1.2.0",
            "_view_name": "StyleView",
            "bar_color": null,
            "description_width": ""
          }
        },
        "215d87c2c2cb426c8b4bc4f1aa69f1f5": {
          "model_module": "@jupyter-widgets/base",
          "model_name": "LayoutModel",
          "model_module_version": "1.2.0",
          "state": {
            "_model_module": "@jupyter-widgets/base",
            "_model_module_version": "1.2.0",
            "_model_name": "LayoutModel",
            "_view_count": null,
            "_view_module": "@jupyter-widgets/base",
            "_view_module_version": "1.2.0",
            "_view_name": "LayoutView",
            "align_content": null,
            "align_items": null,
            "align_self": null,
            "border": null,
            "bottom": null,
            "display": null,
            "flex": null,
            "flex_flow": null,
            "grid_area": null,
            "grid_auto_columns": null,
            "grid_auto_flow": null,
            "grid_auto_rows": null,
            "grid_column": null,
            "grid_gap": null,
            "grid_row": null,
            "grid_template_areas": null,
            "grid_template_columns": null,
            "grid_template_rows": null,
            "height": null,
            "justify_content": null,
            "justify_items": null,
            "left": null,
            "margin": null,
            "max_height": null,
            "max_width": null,
            "min_height": null,
            "min_width": null,
            "object_fit": null,
            "object_position": null,
            "order": null,
            "overflow": null,
            "overflow_x": null,
            "overflow_y": null,
            "padding": null,
            "right": null,
            "top": null,
            "visibility": null,
            "width": null
          }
        },
        "e4055f2323b44c109f69740b60dd2171": {
          "model_module": "@jupyter-widgets/controls",
          "model_name": "DescriptionStyleModel",
          "model_module_version": "1.5.0",
          "state": {
            "_model_module": "@jupyter-widgets/controls",
            "_model_module_version": "1.5.0",
            "_model_name": "DescriptionStyleModel",
            "_view_count": null,
            "_view_module": "@jupyter-widgets/base",
            "_view_module_version": "1.2.0",
            "_view_name": "StyleView",
            "description_width": ""
          }
        }
      }
    }
  },
  "nbformat": 4,
  "nbformat_minor": 0
}