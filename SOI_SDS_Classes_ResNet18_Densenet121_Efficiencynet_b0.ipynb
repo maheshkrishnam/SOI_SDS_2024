{
  "cells": [
    {
      "cell_type": "markdown",
      "metadata": {
        "id": "Y7Zx9wuPyd_B"
      },
      "source": [
        "## Importing Libraries used"
      ]
    },
    {
      "cell_type": "code",
      "execution_count": 1,
      "metadata": {
        "id": "y3NT6JDWzY1S"
      },
      "outputs": [],
      "source": [
        "# !pip install -q torchmetrics"
      ]
    },
    {
      "cell_type": "code",
      "execution_count": 1,
      "metadata": {
        "id": "dZR0GzQ-yhbk"
      },
      "outputs": [],
      "source": [
        "import os\n",
        "import numpy as np\n",
        "import pandas as pd\n",
        "import matplotlib.pyplot as plt\n",
        "import seaborn as sns\n",
        "from typing import Tuple, Dict, List\n",
        "\n",
        "import torch\n",
        "from torch import nn\n",
        "from torch.utils.data import Dataset, DataLoader, Subset\n",
        "from torchvision import transforms, datasets, models\n",
        "\n",
        "from timeit import default_timer as timer\n",
        "from tqdm.auto import tqdm\n",
        "# from torchmetrics import Accuracy\n",
        "\n",
        "from sklearn.model_selection import train_test_split\n",
        "from sklearn.metrics import confusion_matrix\n",
        "\n",
        "import requests\n",
        "import zipfile\n",
        "from pathlib import Path\n",
        "import random\n",
        "from PIL import Image\n",
        "from collections import Counter\n"
      ]
    },
    {
      "cell_type": "code",
      "execution_count": 2,
      "metadata": {
        "id": "6-EJqDbHyhe5"
      },
      "outputs": [],
      "source": []
    },
    {
      "cell_type": "markdown",
      "metadata": {
        "id": "pYD-pY2EyXHX"
      },
      "source": [
        "## Downloading Dataset from GitHub"
      ]
    },
    {
      "cell_type": "code",
      "execution_count": 2,
      "metadata": {
        "colab": {
          "base_uri": "https://localhost:8080/"
        },
        "id": "mTKaBf0Bxy_Y",
        "outputId": "840dc9b3-12d5-4555-b8a5-6df12329a655"
      },
      "outputs": [
        {
          "output_type": "stream",
          "name": "stdout",
          "text": [
            "data/dataset not found, creating data/dataset\n",
            "Downloading dataset\n",
            "Unzipping dataset\n"
          ]
        }
      ],
      "source": [
        "data_path = Path('data')\n",
        "image_path = data_path/'dataset'\n",
        "zip_image_path = data_path/'dataset.zip'\n",
        "\n",
        "if image_path.is_dir():\n",
        "  print(f'{image_path} already exist... \\nSkipping download')\n",
        "else:\n",
        "  print(f'{image_path} not found, creating {image_path}')\n",
        "  image_path.mkdir(parents=True, exist_ok=True)\n",
        "\n",
        "  with open(zip_image_path, 'wb') as f:\n",
        "    request = requests.get('https://github.com/maheshkrishnam/SOI_SDS_2024/raw/main/train_data_with_classes.zip')\n",
        "    print('Downloading dataset')\n",
        "    f.write(request.content)\n",
        "\n",
        "  with zipfile.ZipFile(zip_image_path, 'r') as zip_ref:\n",
        "    print('Unzipping dataset')\n",
        "    zip_ref.extractall(image_path)\n"
      ]
    },
    {
      "cell_type": "markdown",
      "metadata": {
        "id": "hyfks2Ja2xOr"
      },
      "source": [
        "## Understanding and Visualizing the dataset"
      ]
    },
    {
      "cell_type": "markdown",
      "metadata": {
        "id": "AZdwj1qH7HTT"
      },
      "source": [
        "### Understating the structure of dataset"
      ]
    },
    {
      "cell_type": "code",
      "execution_count": 4,
      "metadata": {
        "id": "1EpEmMHcxzEz"
      },
      "outputs": [],
      "source": [
        "def walk_through_dir(image_path):\n",
        "  for dirpath, dirnames, filenames in os.walk(image_path):\n",
        "    if len(filenames) == 0:\n",
        "      print(f'{dirpath} have directories {dirnames}')\n",
        "    elif len(dirnames) == 0:\n",
        "      print(f'{dirpath} having {len(filenames)} files')\n",
        "    else :\n",
        "      print(f'{dirpath} have directories {dirnames} having {len(filenames)} files')\n",
        "\n"
      ]
    },
    {
      "cell_type": "code",
      "execution_count": 5,
      "metadata": {
        "colab": {
          "base_uri": "https://localhost:8080/"
        },
        "id": "0bR7P8ZsxzHK",
        "outputId": "ce95d96b-3b3e-49a1-db11-327dba50fe07"
      },
      "outputs": [
        {
          "output_type": "stream",
          "name": "stdout",
          "text": [
            "data/dataset have directories ['dark dune', 'spider', 'swiss cheese', 'slope streak', 'other', 'crater', 'impact ejecta', 'bright dune']\n",
            "data/dataset/dark dune having 216 files\n",
            "data/dataset/spider having 66 files\n",
            "data/dataset/swiss cheese having 223 files\n",
            "data/dataset/slope streak having 335 files\n",
            "data/dataset/other having 3651 files\n",
            "data/dataset/crater having 1062 files\n",
            "data/dataset/impact ejecta having 51 files\n",
            "data/dataset/bright dune having 597 files\n"
          ]
        }
      ],
      "source": [
        "# walk_through_dir(image_path=image_path)"
      ]
    },
    {
      "cell_type": "code",
      "execution_count": 3,
      "metadata": {
        "colab": {
          "base_uri": "https://localhost:8080/"
        },
        "id": "MUqYsIEzxzKC",
        "outputId": "537456aa-652c-4e95-95eb-0da77807e34d"
      },
      "outputs": [
        {
          "output_type": "execute_result",
          "data": {
            "text/plain": [
              "PosixPath('data/dataset')"
            ]
          },
          "metadata": {},
          "execution_count": 3
        }
      ],
      "source": [
        "dataset_dir = image_path\n",
        "\n",
        "dataset_dir"
      ]
    },
    {
      "cell_type": "markdown",
      "metadata": {
        "id": "GaKdhfUB7BlX"
      },
      "source": [
        "### Visualizing images"
      ]
    },
    {
      "cell_type": "markdown",
      "metadata": {
        "id": "s-0Stvz07c68"
      },
      "source": [
        "#### Using PIL library"
      ]
    },
    {
      "cell_type": "code",
      "execution_count": 7,
      "metadata": {
        "colab": {
          "base_uri": "https://localhost:8080/",
          "height": 317
        },
        "id": "o9_OuCuTxzMA",
        "outputId": "b1f46ab2-c55d-4671-b857-eeb9dcd4cbde"
      },
      "outputs": [
        {
          "output_type": "stream",
          "name": "stdout",
          "text": [
            "Image Class : other\n",
            "Image shape : (227, 227) | Image width : 227 | Image height : 227\n",
            "Image filename : /content/data/dataset/other/1956.jpg\n",
            "Image : <PIL.JpegImagePlugin.JpegImageFile image mode=L size=227x227 at 0x7B16D9DAB7C0>\n"
          ]
        },
        {
          "output_type": "execute_result",
          "data": {
            "text/plain": [
              "<PIL.JpegImagePlugin.JpegImageFile image mode=L size=227x227>"
            ],
            "image/png": "[encoded data removed]"
          },
          "metadata": {},
          "execution_count": 7
        }
      ],
      "source": [
        "# RANDOM_SEED = 0\n",
        "# random.seed(RANDOM_SEED)\n",
        "\n",
        "# pattern = '*/*.jpg'\n",
        "# image_path_list = list(image_path.glob(pattern))\n",
        "\n",
        "# random_image_path = random.choice(image_path_list)\n",
        "\n",
        "# image_class = random_image_path.parent.stem\n",
        "\n",
        "# img = Image.open(random_image_path)\n",
        "# print(f'Image Class : {image_class}')\n",
        "# print(f'Image shape : {img.size} | Image width : {img.width} | Image height : {img.height}')\n",
        "# print(f'Image filename : {img.filename}')\n",
        "# print(f'Image : {img}')\n",
        "# img\n"
      ]
    },
    {
      "cell_type": "markdown",
      "metadata": {
        "id": "y8ptKGOW-DaO"
      },
      "source": [
        "#### Using Matplot"
      ]
    },
    {
      "cell_type": "code",
      "execution_count": 8,
      "metadata": {
        "colab": {
          "base_uri": "https://localhost:8080/",
          "height": 367
        },
        "id": "K0sKP2F3xzO5",
        "outputId": "9dbe7573-f4e8-4a8a-94eb-d584344bf36e"
      },
      "outputs": [
        {
          "output_type": "display_data",
          "data": {
            "text/plain": [
              "<Figure size 500x400 with 1 Axes>"
            ],
            "image/png": "[encoded data removed]"
          },
          "metadata": {}
        }
      ],
      "source": [
        "# # preprocessing requires PIL library\n",
        "# plt.figure(figsize=(5,4))\n",
        "# plt.imshow(img, cmap='gray')\n",
        "# plt.title(image_class)\n",
        "# plt.axis('off')\n",
        "# plt.show()"
      ]
    },
    {
      "cell_type": "markdown",
      "metadata": {
        "id": "84nb55MqBDPS"
      },
      "source": [
        "## Loading dataset using ImageFolder"
      ]
    },
    {
      "cell_type": "markdown",
      "metadata": {
        "id": "6Fd7KOSVCgJw"
      },
      "source": [
        "### Creating transforms"
      ]
    },
    {
      "cell_type": "code",
      "execution_count": 4,
      "metadata": {
        "colab": {
          "base_uri": "https://localhost:8080/"
        },
        "id": "oqlU2p-zxzUy",
        "outputId": "209c9a64-fdb2-4a7d-94fd-8266a0597020"
      },
      "outputs": [
        {
          "output_type": "execute_result",
          "data": {
            "text/plain": [
              "Compose(\n",
              "    Resize(size=(224, 224), interpolation=bilinear, max_size=None, antialias=True)\n",
              "    ToTensor()\n",
              ")"
            ]
          },
          "metadata": {},
          "execution_count": 4
        }
      ],
      "source": [
        "transform = transforms.Compose([\n",
        "    transforms.Resize(size=(224, 224)),\n",
        "    transforms.ToTensor()\n",
        "])\n",
        "\n",
        "transform"
      ]
    },
    {
      "cell_type": "markdown",
      "source": [
        "### Converting Dataset using prebuild ImageFolder"
      ],
      "metadata": {
        "id": "cUnv77kn_Rtm"
      }
    },
    {
      "cell_type": "code",
      "source": [
        "whole_dataset = datasets.ImageFolder(\n",
        "  root=dataset_dir,\n",
        "  transform=transform,\n",
        "  target_transform=None\n",
        ")\n",
        "\n",
        "whole_dataset"
      ],
      "metadata": {
        "colab": {
          "base_uri": "https://localhost:8080/"
        },
        "id": "AjT5fuV7BwFc",
        "outputId": "b210991a-2eb4-4867-d364-87ffbd134392"
      },
      "execution_count": 5,
      "outputs": [
        {
          "output_type": "execute_result",
          "data": {
            "text/plain": [
              "Dataset ImageFolder\n",
              "    Number of datapoints: 6201\n",
              "    Root location: data/dataset\n",
              "    StandardTransform\n",
              "Transform: Compose(\n",
              "               Resize(size=(224, 224), interpolation=bilinear, max_size=None, antialias=True)\n",
              "               ToTensor()\n",
              "           )"
            ]
          },
          "metadata": {},
          "execution_count": 5
        }
      ]
    },
    {
      "cell_type": "code",
      "source": [
        "whole_dataset[0]"
      ],
      "metadata": {
        "colab": {
          "base_uri": "https://localhost:8080/"
        },
        "id": "L1MJVflrDK1m",
        "outputId": "70d52951-0a09-49a7-df8f-4405af49abae"
      },
      "execution_count": 11,
      "outputs": [
        {
          "output_type": "execute_result",
          "data": {
            "text/plain": [
              "(tensor([[[0.0000, 0.0000, 0.0000,  ..., 0.6314, 0.6314, 0.6353],\n",
              "          [0.0000, 0.0000, 0.0000,  ..., 0.6235, 0.6235, 0.6196],\n",
              "          [0.0000, 0.0000, 0.0000,  ..., 0.6118, 0.6078, 0.6000],\n",
              "          ...,\n",
              "          [0.0000, 0.0000, 0.0000,  ..., 0.6431, 0.6353, 0.6314],\n",
              "          [0.0000, 0.0000, 0.0000,  ..., 0.6118, 0.6039, 0.6000],\n",
              "          [0.0000, 0.0000, 0.0000,  ..., 0.5961, 0.5882, 0.5804]],\n",
              " \n",
              "         [[0.0000, 0.0000, 0.0000,  ..., 0.6314, 0.6314, 0.6353],\n",
              "          [0.0000, 0.0000, 0.0000,  ..., 0.6235, 0.6235, 0.6196],\n",
              "          [0.0000, 0.0000, 0.0000,  ..., 0.6118, 0.6078, 0.6000],\n",
              "          ...,\n",
              "          [0.0000, 0.0000, 0.0000,  ..., 0.6431, 0.6353, 0.6314],\n",
              "          [0.0000, 0.0000, 0.0000,  ..., 0.6118, 0.6039, 0.6000],\n",
              "          [0.0000, 0.0000, 0.0000,  ..., 0.5961, 0.5882, 0.5804]],\n",
              " \n",
              "         [[0.0000, 0.0000, 0.0000,  ..., 0.6314, 0.6314, 0.6353],\n",
              "          [0.0000, 0.0000, 0.0000,  ..., 0.6235, 0.6235, 0.6196],\n",
              "          [0.0000, 0.0000, 0.0000,  ..., 0.6118, 0.6078, 0.6000],\n",
              "          ...,\n",
              "          [0.0000, 0.0000, 0.0000,  ..., 0.6431, 0.6353, 0.6314],\n",
              "          [0.0000, 0.0000, 0.0000,  ..., 0.6118, 0.6039, 0.6000],\n",
              "          [0.0000, 0.0000, 0.0000,  ..., 0.5961, 0.5882, 0.5804]]]),\n",
              " 0)"
            ]
          },
          "metadata": {},
          "execution_count": 11
        }
      ]
    },
    {
      "cell_type": "markdown",
      "source": [
        "### Storing classes with their index"
      ],
      "metadata": {
        "id": "nk6d098e_oNQ"
      }
    },
    {
      "cell_type": "code",
      "source": [
        "class_name_idx = whole_dataset.class_to_idx\n",
        "class_name = whole_dataset.classes\n",
        "\n",
        "class_name_idx, class_name"
      ],
      "metadata": {
        "colab": {
          "base_uri": "https://localhost:8080/"
        },
        "id": "QqiCrpNDDHeW",
        "outputId": "d1c385f2-f582-4bb3-9f7f-1346b77066d6"
      },
      "execution_count": 6,
      "outputs": [
        {
          "output_type": "execute_result",
          "data": {
            "text/plain": [
              "({'bright dune': 0,\n",
              "  'crater': 1,\n",
              "  'dark dune': 2,\n",
              "  'impact ejecta': 3,\n",
              "  'other': 4,\n",
              "  'slope streak': 5,\n",
              "  'spider': 6,\n",
              "  'swiss cheese': 7},\n",
              " ['bright dune',\n",
              "  'crater',\n",
              "  'dark dune',\n",
              "  'impact ejecta',\n",
              "  'other',\n",
              "  'slope streak',\n",
              "  'spider',\n",
              "  'swiss cheese'])"
            ]
          },
          "metadata": {},
          "execution_count": 6
        }
      ]
    },
    {
      "cell_type": "markdown",
      "source": [
        "### Train Validation Split"
      ],
      "metadata": {
        "id": "LqkDtCXc_wzf"
      }
    },
    {
      "cell_type": "code",
      "execution_count": 7,
      "metadata": {
        "id": "P2GlaX5_xzav"
      },
      "outputs": [],
      "source": [
        "# train_dataset, val_dataset = train_test_split(whole_dataset, test_size=0.2, random_state=RANDOM_SEED)\n",
        "\n",
        "# len(train_dataset), len(val_dataset)\n",
        "\n",
        "train_dataset = whole_dataset"
      ]
    },
    {
      "cell_type": "markdown",
      "source": [
        "### Assigning Weight to each Class"
      ],
      "metadata": {
        "id": "_N5kORKEtvug"
      }
    },
    {
      "cell_type": "code",
      "source": [
        "all_labels = [label for _, label in whole_dataset]\n",
        "class_counts = Counter(all_labels)\n",
        "\n",
        "total_count = len(all_labels)\n",
        "class_weights = {cls: total_count / count for cls, count in class_counts.items()}\n",
        "print(class_counts, class_weights)\n",
        "\n",
        "sample_weights = [class_weights[label] for _, label in train_dataset]\n",
        "# val_sample_weights = [class_weights[label] for _, label in val_dataset]\n",
        "\n",
        "sample_weights = torch.tensor(sample_weights, dtype=torch.float)\n",
        "# val_sample_weights = torch.tensor(val_sample_weights, dtype=torch.float)\n",
        "\n",
        "# len(sample_weights), len(val_sample_weights), sample_weights, val_sample_weights\n",
        "len(sample_weights), sample_weights"
      ],
      "metadata": {
        "colab": {
          "base_uri": "https://localhost:8080/"
        },
        "id": "rSSYmh_HtvSf",
        "outputId": "415dcb54-b125-4e1b-c926-3a2712340a59"
      },
      "execution_count": 8,
      "outputs": [
        {
          "output_type": "stream",
          "name": "stdout",
          "text": [
            "Counter({4: 3651, 1: 1062, 0: 597, 5: 335, 7: 223, 2: 216, 6: 66, 3: 51}) {0: 10.386934673366834, 1: 5.838983050847458, 2: 28.708333333333332, 3: 121.58823529411765, 4: 1.6984387838948234, 5: 18.51044776119403, 6: 93.95454545454545, 7: 27.807174887892376}\n"
          ]
        },
        {
          "output_type": "execute_result",
          "data": {
            "text/plain": [
              "(6201, tensor([10.3869, 10.3869, 10.3869,  ..., 27.8072, 27.8072, 27.8072]))"
            ]
          },
          "metadata": {},
          "execution_count": 8
        }
      ]
    },
    {
      "cell_type": "markdown",
      "source": [
        "#### Creating Sampler"
      ],
      "metadata": {
        "id": "J_wPqcLN_-Jq"
      }
    },
    {
      "cell_type": "code",
      "source": [
        "sampler = torch.utils.data.WeightedRandomSampler(\n",
        "    weights=sample_weights,\n",
        "    num_samples=len(sample_weights),\n",
        "    replacement=True\n",
        ")\n",
        "\n",
        "# val_sampler = torch.utils.data.WeightedRandomSampler(\n",
        "#     weights=val_sample_weights,\n",
        "#     num_samples=len(val_sample_weights),\n",
        "#     replacement=True\n",
        "# )\n",
        "\n",
        "# sampler, val_sampler\n",
        "sampler"
      ],
      "metadata": {
        "colab": {
          "base_uri": "https://localhost:8080/"
        },
        "id": "S-2db7Z-umaz",
        "outputId": "e7f0ce1e-c7ad-4b88-ba60-782013a03ff5"
      },
      "execution_count": 9,
      "outputs": [
        {
          "output_type": "execute_result",
          "data": {
            "text/plain": [
              "<torch.utils.data.sampler.WeightedRandomSampler at 0x7c3b2f7656c0>"
            ]
          },
          "metadata": {},
          "execution_count": 9
        }
      ]
    },
    {
      "cell_type": "markdown",
      "metadata": {
        "id": "uPrJc34BHMLl"
      },
      "source": [
        "### Converting Dataset in DataLoader"
      ]
    },
    {
      "cell_type": "code",
      "execution_count": 10,
      "metadata": {
        "id": "f2NW1EyOEQyv"
      },
      "outputs": [],
      "source": [
        "BATCH_SIZE = 32\n",
        "NUM_WORKERS = os.cpu_count()\n",
        "\n",
        "train_dataloader = DataLoader(\n",
        "    dataset=train_dataset,\n",
        "    batch_size=BATCH_SIZE,\n",
        "    num_workers=NUM_WORKERS,\n",
        "    sampler=sampler\n",
        ")\n",
        "\n",
        "# val_dataloader = DataLoader(\n",
        "#     dataset=val_dataset,\n",
        "#     batch_size=32,\n",
        "#     num_workers=NUM_WORKERS,\n",
        "#     sampler=val_sampler\n",
        "# )\n"
      ]
    },
    {
      "cell_type": "code",
      "execution_count": 11,
      "metadata": {
        "colab": {
          "base_uri": "https://localhost:8080/"
        },
        "id": "baWntj3PW_Wq",
        "outputId": "e98008dc-a57c-4270-b587-199bc91ec8e3"
      },
      "outputs": [
        {
          "output_type": "execute_result",
          "data": {
            "text/plain": [
              "(torch.Size([32, 3, 224, 224]), torch.Size([32]))"
            ]
          },
          "metadata": {},
          "execution_count": 11
        }
      ],
      "source": [
        "image, label = next(iter(train_dataloader))\n",
        "image.shape, label.shape"
      ]
    },
    {
      "cell_type": "markdown",
      "source": [
        "## Model"
      ],
      "metadata": {
        "id": "unuHs5w2AFrb"
      }
    },
    {
      "cell_type": "markdown",
      "source": [
        "### Device agnostic code"
      ],
      "metadata": {
        "id": "h9a8vsk9ANB1"
      }
    },
    {
      "cell_type": "code",
      "source": [
        "device = 'cuda' if torch.cuda.is_available() else 'cpu'\n",
        "device"
      ],
      "metadata": {
        "colab": {
          "base_uri": "https://localhost:8080/",
          "height": 36
        },
        "id": "dkthhfzTJ1o-",
        "outputId": "7e9af7d4-3427-47ec-df95-fd2cfbbeb362"
      },
      "execution_count": 12,
      "outputs": [
        {
          "output_type": "execute_result",
          "data": {
            "text/plain": [
              "'cuda'"
            ],
            "application/vnd.google.colaboratory.intrinsic+json": {
              "type": "string"
            }
          },
          "metadata": {},
          "execution_count": 12
        }
      ]
    },
    {
      "cell_type": "markdown",
      "source": [
        "### Loading Pre-trained Model"
      ],
      "metadata": {
        "id": "Agkd0UrWjjBC"
      }
    },
    {
      "cell_type": "code",
      "source": [
        "# Load the pretrained ResNet50 model\n",
        "model = models.resnet18(pretrained=True)\n",
        "\n",
        "# Modify the final layer to match the number of classes in your dataset\n",
        "num_classes = 8  # Change this to the number of classes in your dataset\n",
        "model.fc = nn.Linear(model.fc.in_features, num_classes)\n",
        "\n",
        "# Move the model to the GPU if available\n",
        "device = torch.device(\"cuda\" if torch.cuda.is_available() else \"cpu\")\n",
        "model = model.to(device)\n"
      ],
      "metadata": {
        "colab": {
          "base_uri": "https://localhost:8080/"
        },
        "id": "WamKQF5VjmZi",
        "outputId": "bf04d57a-59c7-4677-81c7-f6b4cb18afb8"
      },
      "execution_count": 13,
      "outputs": [
        {
          "output_type": "stream",
          "name": "stderr",
          "text": [
            "/usr/local/lib/python3.10/dist-packages/torchvision/models/_utils.py:208: UserWarning: The parameter 'pretrained' is deprecated since 0.13 and may be removed in the future, please use 'weights' instead.\n",
            "  warnings.warn(\n",
            "/usr/local/lib/python3.10/dist-packages/torchvision/models/_utils.py:223: UserWarning: Arguments other than a weight enum or `None` for 'weights' are deprecated since 0.13 and may be removed in the future. The current behavior is equivalent to passing `weights=ResNet18_Weights.IMAGENET1K_V1`. You can also use `weights=ResNet18_Weights.DEFAULT` to get the most up-to-date weights.\n",
            "  warnings.warn(msg)\n",
            "Downloading: \"https://download.pytorch.org/models/resnet18-f37072fd.pth\" to /root/.cache/torch/hub/checkpoints/resnet18-f37072fd.pth\n",
            "100%|██████████| 44.7M/44.7M [00:00<00:00, 173MB/s]\n"
          ]
        }
      ]
    },
    {
      "cell_type": "code",
      "source": [
        "# # For EfficientNet\n",
        "# model = models.efficientnet_b0(pretrained=True)\n",
        "# model.classifier[1] = nn.Linear(model.classifier[1].in_features, num_classes)\n",
        "\n",
        "# # For DenseNet\n",
        "# model = models.densenet121(pretrained=True)\n",
        "# model.classifier = nn.Linear(model.classifier.in_features, num_classes)\n"
      ],
      "metadata": {
        "id": "tjQTU5HqpC_o"
      },
      "execution_count": 20,
      "outputs": []
    },
    {
      "cell_type": "code",
      "source": [
        "model"
      ],
      "metadata": {
        "colab": {
          "base_uri": "https://localhost:8080/"
        },
        "id": "fT_G0UMZJ1lc",
        "outputId": "ebb2e643-c528-4556-bf55-e972fcf0adfe"
      },
      "execution_count": 14,
      "outputs": [
        {
          "output_type": "execute_result",
          "data": {
            "text/plain": [
              "ResNet(\n",
              "  (conv1): Conv2d(3, 64, kernel_size=(7, 7), stride=(2, 2), padding=(3, 3), bias=False)\n",
              "  (bn1): BatchNorm2d(64, eps=1e-05, momentum=0.1, affine=True, track_running_stats=True)\n",
              "  (relu): ReLU(inplace=True)\n",
              "  (maxpool): MaxPool2d(kernel_size=3, stride=2, padding=1, dilation=1, ceil_mode=False)\n",
              "  (layer1): Sequential(\n",
              "    (0): BasicBlock(\n",
              "      (conv1): Conv2d(64, 64, kernel_size=(3, 3), stride=(1, 1), padding=(1, 1), bias=False)\n",
              "      (bn1): BatchNorm2d(64, eps=1e-05, momentum=0.1, affine=True, track_running_stats=True)\n",
              "      (relu): ReLU(inplace=True)\n",
              "      (conv2): Conv2d(64, 64, kernel_size=(3, 3), stride=(1, 1), padding=(1, 1), bias=False)\n",
              "      (bn2): BatchNorm2d(64, eps=1e-05, momentum=0.1, affine=True, track_running_stats=True)\n",
              "    )\n",
              "    (1): BasicBlock(\n",
              "      (conv1): Conv2d(64, 64, kernel_size=(3, 3), stride=(1, 1), padding=(1, 1), bias=False)\n",
              "      (bn1): BatchNorm2d(64, eps=1e-05, momentum=0.1, affine=True, track_running_stats=True)\n",
              "      (relu): ReLU(inplace=True)\n",
              "      (conv2): Conv2d(64, 64, kernel_size=(3, 3), stride=(1, 1), padding=(1, 1), bias=False)\n",
              "      (bn2): BatchNorm2d(64, eps=1e-05, momentum=0.1, affine=True, track_running_stats=True)\n",
              "    )\n",
              "  )\n",
              "  (layer2): Sequential(\n",
              "    (0): BasicBlock(\n",
              "      (conv1): Conv2d(64, 128, kernel_size=(3, 3), stride=(2, 2), padding=(1, 1), bias=False)\n",
              "      (bn1): BatchNorm2d(128, eps=1e-05, momentum=0.1, affine=True, track_running_stats=True)\n",
              "      (relu): ReLU(inplace=True)\n",
              "      (conv2): Conv2d(128, 128, kernel_size=(3, 3), stride=(1, 1), padding=(1, 1), bias=False)\n",
              "      (bn2): BatchNorm2d(128, eps=1e-05, momentum=0.1, affine=True, track_running_stats=True)\n",
              "      (downsample): Sequential(\n",
              "        (0): Conv2d(64, 128, kernel_size=(1, 1), stride=(2, 2), bias=False)\n",
              "        (1): BatchNorm2d(128, eps=1e-05, momentum=0.1, affine=True, track_running_stats=True)\n",
              "      )\n",
              "    )\n",
              "    (1): BasicBlock(\n",
              "      (conv1): Conv2d(128, 128, kernel_size=(3, 3), stride=(1, 1), padding=(1, 1), bias=False)\n",
              "      (bn1): BatchNorm2d(128, eps=1e-05, momentum=0.1, affine=True, track_running_stats=True)\n",
              "      (relu): ReLU(inplace=True)\n",
              "      (conv2): Conv2d(128, 128, kernel_size=(3, 3), stride=(1, 1), padding=(1, 1), bias=False)\n",
              "      (bn2): BatchNorm2d(128, eps=1e-05, momentum=0.1, affine=True, track_running_stats=True)\n",
              "    )\n",
              "  )\n",
              "  (layer3): Sequential(\n",
              "    (0): BasicBlock(\n",
              "      (conv1): Conv2d(128, 256, kernel_size=(3, 3), stride=(2, 2), padding=(1, 1), bias=False)\n",
              "      (bn1): BatchNorm2d(256, eps=1e-05, momentum=0.1, affine=True, track_running_stats=True)\n",
              "      (relu): ReLU(inplace=True)\n",
              "      (conv2): Conv2d(256, 256, kernel_size=(3, 3), stride=(1, 1), padding=(1, 1), bias=False)\n",
              "      (bn2): BatchNorm2d(256, eps=1e-05, momentum=0.1, affine=True, track_running_stats=True)\n",
              "      (downsample): Sequential(\n",
              "        (0): Conv2d(128, 256, kernel_size=(1, 1), stride=(2, 2), bias=False)\n",
              "        (1): BatchNorm2d(256, eps=1e-05, momentum=0.1, affine=True, track_running_stats=True)\n",
              "      )\n",
              "    )\n",
              "    (1): BasicBlock(\n",
              "      (conv1): Conv2d(256, 256, kernel_size=(3, 3), stride=(1, 1), padding=(1, 1), bias=False)\n",
              "      (bn1): BatchNorm2d(256, eps=1e-05, momentum=0.1, affine=True, track_running_stats=True)\n",
              "      (relu): ReLU(inplace=True)\n",
              "      (conv2): Conv2d(256, 256, kernel_size=(3, 3), stride=(1, 1), padding=(1, 1), bias=False)\n",
              "      (bn2): BatchNorm2d(256, eps=1e-05, momentum=0.1, affine=True, track_running_stats=True)\n",
              "    )\n",
              "  )\n",
              "  (layer4): Sequential(\n",
              "    (0): BasicBlock(\n",
              "      (conv1): Conv2d(256, 512, kernel_size=(3, 3), stride=(2, 2), padding=(1, 1), bias=False)\n",
              "      (bn1): BatchNorm2d(512, eps=1e-05, momentum=0.1, affine=True, track_running_stats=True)\n",
              "      (relu): ReLU(inplace=True)\n",
              "      (conv2): Conv2d(512, 512, kernel_size=(3, 3), stride=(1, 1), padding=(1, 1), bias=False)\n",
              "      (bn2): BatchNorm2d(512, eps=1e-05, momentum=0.1, affine=True, track_running_stats=True)\n",
              "      (downsample): Sequential(\n",
              "        (0): Conv2d(256, 512, kernel_size=(1, 1), stride=(2, 2), bias=False)\n",
              "        (1): BatchNorm2d(512, eps=1e-05, momentum=0.1, affine=True, track_running_stats=True)\n",
              "      )\n",
              "    )\n",
              "    (1): BasicBlock(\n",
              "      (conv1): Conv2d(512, 512, kernel_size=(3, 3), stride=(1, 1), padding=(1, 1), bias=False)\n",
              "      (bn1): BatchNorm2d(512, eps=1e-05, momentum=0.1, affine=True, track_running_stats=True)\n",
              "      (relu): ReLU(inplace=True)\n",
              "      (conv2): Conv2d(512, 512, kernel_size=(3, 3), stride=(1, 1), padding=(1, 1), bias=False)\n",
              "      (bn2): BatchNorm2d(512, eps=1e-05, momentum=0.1, affine=True, track_running_stats=True)\n",
              "    )\n",
              "  )\n",
              "  (avgpool): AdaptiveAvgPool2d(output_size=(1, 1))\n",
              "  (fc): Linear(in_features=512, out_features=8, bias=True)\n",
              ")"
            ]
          },
          "metadata": {},
          "execution_count": 14
        }
      ]
    },
    {
      "cell_type": "markdown",
      "source": [
        "### Setting up the loss function and optimizer"
      ],
      "metadata": {
        "id": "Als4IBYGAT4D"
      }
    },
    {
      "cell_type": "code",
      "source": [
        "criterion = nn.CrossEntropyLoss()\n",
        "optimizer = torch.optim.Adam(model.parameters(), lr=0.001)\n",
        "\n",
        "criterion, optimizer"
      ],
      "metadata": {
        "colab": {
          "base_uri": "https://localhost:8080/"
        },
        "id": "93JTbv2YJ1jQ",
        "outputId": "a7d324d5-7db6-4b6c-d679-fe51da41b20d"
      },
      "execution_count": 15,
      "outputs": [
        {
          "output_type": "execute_result",
          "data": {
            "text/plain": [
              "(CrossEntropyLoss(),\n",
              " Adam (\n",
              " Parameter Group 0\n",
              "     amsgrad: False\n",
              "     betas: (0.9, 0.999)\n",
              "     capturable: False\n",
              "     differentiable: False\n",
              "     eps: 1e-08\n",
              "     foreach: None\n",
              "     fused: None\n",
              "     lr: 0.001\n",
              "     maximize: False\n",
              "     weight_decay: 0\n",
              " ))"
            ]
          },
          "metadata": {},
          "execution_count": 15
        }
      ]
    },
    {
      "cell_type": "markdown",
      "source": [
        "### Training loop"
      ],
      "metadata": {
        "id": "h2eSStEMAb0z"
      }
    },
    {
      "cell_type": "code",
      "source": [
        "num_epochs = 20  # Change this to the desired number of epochs\n",
        "\n",
        "for epoch in tqdm(range(num_epochs)):\n",
        "    print(f'EPOCH : {epoch+1} \\n-----------')\n",
        "    model.train()\n",
        "    running_loss = 0.0\n",
        "    running_corrects = 0\n",
        "\n",
        "    for inputs, labels in train_dataloader:\n",
        "        inputs, labels = inputs.to(device), labels.to(device)\n",
        "\n",
        "        optimizer.zero_grad()\n",
        "\n",
        "        outputs = model(inputs)\n",
        "        _, preds = torch.max(outputs, 1)\n",
        "        loss = criterion(outputs, labels)\n",
        "\n",
        "        loss.backward()\n",
        "        optimizer.step()\n",
        "\n",
        "        running_loss += loss.item() * inputs.size(0)\n",
        "        running_corrects += torch.sum(preds == labels.data)\n",
        "\n",
        "    epoch_loss = running_loss / len(train_dataloader.dataset)\n",
        "    epoch_acc = running_corrects.double() / len(train_dataloader.dataset)\n",
        "\n",
        "    print(f'Loss: {epoch_loss:.4f} | Accuracy: {epoch_acc:.4f}')\n",
        "\n",
        "\n",
        "    # model.eval()\n",
        "    # with torch.no_grad():\n",
        "    #     running_corrects = 0\n",
        "\n",
        "    #     for inputs, labels in val_dataloader:\n",
        "    #         inputs, labels = inputs.to(device), labels.to(device)\n",
        "\n",
        "    #         outputs = model(inputs)\n",
        "    #         _, preds = torch.max(outputs, 1)\n",
        "\n",
        "    #         running_corrects += torch.sum(preds == labels.data)\n",
        "\n",
        "    #     val_acc = running_corrects.double() / len(val_dataloader.dataset)\n",
        "\n",
        "    #     print(f'Validation Accuracy: {val_acc:.4f}')\n"
      ],
      "metadata": {
        "colab": {
          "base_uri": "https://localhost:8080/",
          "height": 1000,
          "referenced_widgets": [
            "e563d327faf345a69b83093bc9517d40",
            "974ae1ec490744b8b12e73a48233da53",
            "376504ead59248cf92156d436b43c57b",
            "9b745b4aabad47a8a8756a41f0833b09",
            "bc52902d16444a3e8f88f87a51290a86",
            "5ec673570d5642be869272b9250e31da",
            "18550c045b704377868e2589f69fdd16",
            "a609bb75573d468db1d46df3763ff2c1",
            "4a4eb6dba5a14f9b9e117d638b6206c0",
            "a6370f8999f54bde944f3197d2c25904",
            "f864c392ef82477ca9b7057356a6fe88"
          ]
        },
        "id": "jaxXHtb4J1gr",
        "outputId": "b2786976-ae53-479b-fa28-eaf9c13f7381"
      },
      "execution_count": 16,
      "outputs": [
        {
          "data": {
            "application/vnd.jupyter.widget-view+json": {
              "model_id": "e563d327faf345a69b83093bc9517d40",
              "version_major": 2,
              "version_minor": 0
            },
            "text/plain": [
              "  0%|          | 0/20 [00:00<?, ?it/s]"
            ]
          },
          "metadata": {},
          "output_type": "display_data"
        },
        {
          "output_type": "stream",
          "name": "stdout",
          "text": [
            "EPOCH : 1 \n",
            "-----------\n",
            "Loss: 0.5319 | Accuracy: 0.8302\n",
            "EPOCH : 2 \n",
            "-----------\n",
            "Loss: 0.2555 | Accuracy: 0.9142\n",
            "EPOCH : 3 \n",
            "-----------\n",
            "Loss: 0.1577 | Accuracy: 0.9455\n",
            "EPOCH : 4 \n",
            "-----------\n",
            "Loss: 0.1492 | Accuracy: 0.9505\n",
            "EPOCH : 5 \n",
            "-----------\n",
            "Loss: 0.1381 | Accuracy: 0.9582\n",
            "EPOCH : 6 \n",
            "-----------\n",
            "Loss: 0.1106 | Accuracy: 0.9658\n",
            "EPOCH : 7 \n",
            "-----------\n",
            "Loss: 0.0941 | Accuracy: 0.9703\n",
            "EPOCH : 8 \n",
            "-----------\n",
            "Loss: 0.0835 | Accuracy: 0.9739\n",
            "EPOCH : 9 \n",
            "-----------\n",
            "Loss: 0.0638 | Accuracy: 0.9789\n",
            "EPOCH : 10 \n",
            "-----------\n",
            "Loss: 0.0678 | Accuracy: 0.9782\n",
            "EPOCH : 11 \n",
            "-----------\n",
            "Loss: 0.1092 | Accuracy: 0.9671\n",
            "EPOCH : 13 \n",
            "-----------\n",
            "Loss: 0.0646 | Accuracy: 0.9806\n",
            "EPOCH : 14 \n",
            "-----------\n",
            "Loss: 0.0486 | Accuracy: 0.9860\n",
            "EPOCH : 15 \n",
            "-----------\n",
            "Loss: 0.0339 | Accuracy: 0.9873\n",
            "EPOCH : 16 \n",
            "-----------\n",
            "Loss: 0.0624 | Accuracy: 0.9815\n",
            "EPOCH : 17 \n",
            "-----------\n",
            "Loss: 0.0505 | Accuracy: 0.9827\n",
            "EPOCH : 18 \n",
            "-----------\n",
            "Loss: 0.0638 | Accuracy: 0.9824\n",
            "EPOCH : 19 \n",
            "-----------\n",
            "Loss: 0.0274 | Accuracy: 0.9905\n",
            "EPOCH : 20 \n",
            "-----------\n",
            "Loss: 0.0655 | Accuracy: 0.9781\n"
          ]
        }
      ]
    },
    {
      "cell_type": "code",
      "source": [
        "data_path = Path('data')\n",
        "image_path = data_path / 'test_images'\n",
        "zip_image_path = data_path / 'test_images.zip'\n",
        "\n",
        "if not image_path.is_dir():\n",
        "  image_path.mkdir(parents=True, exist_ok=True)\n",
        "  with open(zip_image_path, 'wb') as f:\n",
        "    request = requests.get('https://github.com/maheshkrishnam/SOI_SDS_2024/raw/main/test_dataset.zip')\n",
        "    print('Downloading space_images.zip...')\n",
        "    f.write(request.content)\n",
        "\n",
        "  with zipfile.ZipFile(zip_image_path, 'r') as zip_ref:\n",
        "    print('Unzipping space_images.zip...')\n",
        "    zip_ref.extractall(image_path)\n",
        "    print('Unzipping done...')\n",
        "  os.remove(zip_image_path)\n",
        "else:\n",
        "  print(f'{image_path} already exists')\n"
      ],
      "metadata": {
        "id": "TyS2RBBdMDCy",
        "outputId": "db2067d9-8e07-4f60-901e-2018fe1ad653",
        "colab": {
          "base_uri": "https://localhost:8080/"
        }
      },
      "execution_count": 17,
      "outputs": [
        {
          "output_type": "stream",
          "name": "stdout",
          "text": [
            "Downloading space_images.zip...\n",
            "Unzipping space_images.zip...\n",
            "Unzipping done...\n"
          ]
        }
      ]
    },
    {
      "cell_type": "code",
      "source": [
        "class TestDataset(Dataset):\n",
        "    def __init__(self, root_dir, transform=None):\n",
        "        self.root_dir = root_dir\n",
        "        self.transform = transform\n",
        "        self.image_files = [f for f in os.listdir(root_dir) if os.path.isfile(os.path.join(root_dir, f))]\n",
        "\n",
        "    def __len__(self):\n",
        "        return len(self.image_files)\n",
        "\n",
        "    def __getitem__(self, idx):\n",
        "        img_name = os.path.join(self.root_dir, self.image_files[idx])\n",
        "        image = Image.open(img_name).convert('RGB')\n",
        "        if self.transform:\n",
        "            image = self.transform(image)\n",
        "        return image, self.image_files[idx]\n"
      ],
      "metadata": {
        "id": "K9upUNHKMC8X"
      },
      "execution_count": 18,
      "outputs": []
    },
    {
      "cell_type": "code",
      "source": [
        "transform = transforms.Compose([\n",
        "  transforms.Resize((64, 64)),\n",
        "  transforms.ToTensor(),\n",
        "  transforms.Normalize((0.5,), (0.5,))\n",
        "])"
      ],
      "metadata": {
        "id": "rr0C4-dRMC4I"
      },
      "execution_count": 19,
      "outputs": []
    },
    {
      "cell_type": "code",
      "source": [
        "image_path = '/content/data/test_images/test_dataset'"
      ],
      "metadata": {
        "id": "tkYcsPlDOGRF"
      },
      "execution_count": 20,
      "outputs": []
    },
    {
      "cell_type": "code",
      "source": [
        "test_dataset = TestDataset(root_dir=image_path, transform=transform)\n",
        "test_dataloader = DataLoader(\n",
        "    test_dataset,\n",
        "    batch_size=BATCH_SIZE,\n",
        "    shuffle=False\n",
        ")"
      ],
      "metadata": {
        "id": "-AxyyD6eMC0j"
      },
      "execution_count": 21,
      "outputs": []
    },
    {
      "cell_type": "code",
      "source": [
        "image, image_name = next(iter(test_dataloader))"
      ],
      "metadata": {
        "id": "XeJ5UyfhPKaE"
      },
      "execution_count": 22,
      "outputs": []
    },
    {
      "cell_type": "code",
      "source": [
        "plt.imshow(image[3].permute(1,2,0), cmap='gray')\n",
        "plt.title(image_name[3])"
      ],
      "metadata": {
        "id": "qLw12F5FPIXb",
        "outputId": "95a1b827-953f-48a4-fb48-08e23e26408f",
        "colab": {
          "base_uri": "https://localhost:8080/",
          "height": 488
        }
      },
      "execution_count": 23,
      "outputs": [
        {
          "output_type": "stream",
          "name": "stderr",
          "text": [
            "WARNING:matplotlib.image:Clipping input data to the valid range for imshow with RGB data ([0..1] for floats or [0..255] for integers).\n"
          ]
        },
        {
          "output_type": "execute_result",
          "data": {
            "text/plain": [
              "Text(0.5, 1.0, '173.jpg')"
            ]
          },
          "metadata": {},
          "execution_count": 23
        },
        {
          "output_type": "display_data",
          "data": {
            "text/plain": [
              "<Figure size 640x480 with 1 Axes>"
            ],
            "image/png": "[encoded data removed]"
          },
          "metadata": {}
        }
      ]
    },
    {
      "cell_type": "code",
      "source": [
        "device = torch.device(\"cuda\" if torch.cuda.is_available() else \"cpu\")\n",
        "model.to(device)\n",
        "\n",
        "predictions = []\n",
        "file_names = []\n",
        "\n",
        "with torch.no_grad():\n",
        "    for images, image_names in test_dataloader:\n",
        "        images = images.to(device)\n",
        "        outputs = model(images)\n",
        "        _, predicted = torch.max(outputs, 1)\n",
        "        predictions.extend(predicted.cpu().numpy())\n",
        "        file_names.extend(image_names)\n",
        "\n",
        "# Create a DataFrame and save to CSV\n",
        "df = pd.DataFrame({'file_name': file_names, 'prediction': predictions})\n",
        "df.to_csv('resnet18_complete.csv', index=False)\n"
      ],
      "metadata": {
        "id": "fzbXgbn8MnI5"
      },
      "execution_count": 24,
      "outputs": []
    },
    {
      "cell_type": "code",
      "source": [
        "data_path = Path('data')\n",
        "image_path = data_path / 'test_images'\n",
        "zip_image_path = data_path / 'test_images.zip'\n",
        "\n",
        "if not image_path.is_dir():\n",
        "  image_path.mkdir(parents=True, exist_ok=True)\n",
        "  with open(zip_image_path, 'wb') as f:\n",
        "    request = requests.get('https://github.com/maheshkrishnam/SOI_SDS_2024/raw/main/test_dataset.zip')\n",
        "    print('Downloading space_images.zip...')\n",
        "    f.write(request.content)\n",
        "\n",
        "  with zipfile.ZipFile(zip_image_path, 'r') as zip_ref:\n",
        "    print('Unzipping space_images.zip...')\n",
        "    zip_ref.extractall(image_path)\n",
        "    print('Unzipping done...')\n",
        "  os.remove(zip_image_path)\n",
        "else:\n",
        "  print(f'{image_path} already exists')\n",
        "\n",
        "\n",
        "class TestDataset(Dataset):\n",
        "    def __init__(self, root_dir, transform=None):\n",
        "        self.root_dir = root_dir\n",
        "        self.transform = transform\n",
        "        self.image_files = [f for f in os.listdir(root_dir) if os.path.isfile(os.path.join(root_dir, f))]\n",
        "\n",
        "    def __len__(self):\n",
        "        return len(self.image_files)\n",
        "\n",
        "    def __getitem__(self, idx):\n",
        "        img_name = os.path.join(self.root_dir, self.image_files[idx])\n",
        "        image = Image.open(img_name).convert('RGB')\n",
        "        if self.transform:\n",
        "            image = self.transform(image)\n",
        "        return image, self.image_files[idx]\n",
        "\n",
        "\n",
        "transform = transforms.Compose([\n",
        "  transforms.Resize((64, 64)),\n",
        "  transforms.ToTensor(),\n",
        "  transforms.Normalize((0.5,), (0.5,))\n",
        "])\n",
        "\n",
        "image_path = '/content/data/test_images/test_dataset'\n",
        "\n",
        "test_dataset = TestDataset(root_dir=image_path, transform=transform)\n",
        "test_dataloader = DataLoader(\n",
        "    test_dataset,\n",
        "    batch_size=BATCH_SIZE,\n",
        "    shuffle=False\n",
        ")\n",
        "\n",
        "device = torch.device(\"cuda\" if torch.cuda.is_available() else \"cpu\")\n",
        "model.to(device)\n",
        "\n",
        "predictions = []\n",
        "file_names = []\n",
        "\n",
        "with torch.no_grad():\n",
        "    for images, image_names in test_dataloader:\n",
        "        images = images.to(device)\n",
        "        outputs = model(images)\n",
        "        _, predicted = torch.max(outputs, 1)\n",
        "        predictions.extend(predicted.cpu().numpy())\n",
        "        file_names.extend(image_names)\n",
        "\n",
        "# Create a DataFrame and save to CSV\n",
        "df = pd.DataFrame({'file_name': file_names, 'prediction': predictions})\n",
        "df.to_csv('efficientnet_b0.csv', index=False)\n"
      ],
      "metadata": {
        "id": "Dbx9qGC7QjlK"
      },
      "execution_count": null,
      "outputs": []
    },
    {
      "cell_type": "code",
      "source": [],
      "metadata": {
        "id": "w19ymzzcMnFG"
      },
      "execution_count": null,
      "outputs": []
    },
    {
      "cell_type": "code",
      "source": [],
      "metadata": {
        "id": "akTVY3klMnCL"
      },
      "execution_count": null,
      "outputs": []
    },
    {
      "cell_type": "code",
      "source": [],
      "metadata": {
        "id": "UkV-Bm6-MCyY"
      },
      "execution_count": null,
      "outputs": []
    },
    {
      "cell_type": "code",
      "source": [
        "# # For EfficientNet\n",
        "# model2 = models.efficientnet_b0(pretrained=True)\n",
        "# model2.classifier[1] = nn.Linear(model2.classifier[1].in_features, num_classes)\n",
        "\n",
        "# For DenseNet\n",
        "model2 = models.densenet121(pretrained=True)\n",
        "model2.classifier = nn.Linear(model2.classifier.in_features, num_classes)\n",
        "\n",
        "model2 = model2.to(device)"
      ],
      "metadata": {
        "colab": {
          "base_uri": "https://localhost:8080/"
        },
        "id": "FWfg6yags8Um",
        "outputId": "ca0732a5-aae9-45b5-8331-e14b9ef8cc1d"
      },
      "execution_count": 25,
      "outputs": [
        {
          "output_type": "stream",
          "name": "stderr",
          "text": [
            "/usr/local/lib/python3.10/dist-packages/torchvision/models/_utils.py:223: UserWarning: Arguments other than a weight enum or `None` for 'weights' are deprecated since 0.13 and may be removed in the future. The current behavior is equivalent to passing `weights=DenseNet121_Weights.IMAGENET1K_V1`. You can also use `weights=DenseNet121_Weights.DEFAULT` to get the most up-to-date weights.\n",
            "  warnings.warn(msg)\n",
            "Downloading: \"https://download.pytorch.org/models/densenet121-a639ec97.pth\" to /root/.cache/torch/hub/checkpoints/densenet121-a639ec97.pth\n",
            "100%|██████████| 30.8M/30.8M [00:00<00:00, 134MB/s]\n"
          ]
        }
      ]
    },
    {
      "cell_type": "code",
      "source": [
        "criterion = nn.CrossEntropyLoss()\n",
        "optimizer = torch.optim.Adam(model2.parameters(), lr=0.001)\n"
      ],
      "metadata": {
        "id": "0ika6LPNs8RM"
      },
      "execution_count": 26,
      "outputs": []
    },
    {
      "cell_type": "code",
      "source": [
        "num_epochs = 20  # Change this to the desired number of epochs\n",
        "\n",
        "for epoch in tqdm(range(num_epochs)):\n",
        "    print(f'EPOCH : {epoch+1} \\n-----------')\n",
        "    model2.train()\n",
        "    running_loss = 0.0\n",
        "    running_corrects = 0\n",
        "\n",
        "    for inputs, labels in train_dataloader:\n",
        "        inputs, labels = inputs.to(device), labels.to(device)\n",
        "\n",
        "        optimizer.zero_grad()\n",
        "\n",
        "        outputs = model2(inputs)\n",
        "        _, preds = torch.max(outputs, 1)\n",
        "        loss = criterion(outputs, labels)\n",
        "\n",
        "        loss.backward()\n",
        "        optimizer.step()\n",
        "\n",
        "        running_loss += loss.item() * inputs.size(0)\n",
        "        running_corrects += torch.sum(preds == labels.data)\n",
        "\n",
        "    epoch_loss = running_loss / len(train_dataloader.dataset)\n",
        "    epoch_acc = running_corrects.double() / len(train_dataloader.dataset)\n",
        "\n",
        "    print(f'Loss: {epoch_loss:.4f} | Accuracy: {epoch_acc:.4f}')\n",
        "\n",
        "\n",
        "    # model2.eval()\n",
        "    # with torch.no_grad():\n",
        "    #     running_corrects = 0\n",
        "\n",
        "    #     for inputs, labels in val_dataloader:\n",
        "    #         inputs, labels = inputs.to(device), labels.to(device)\n",
        "\n",
        "    #         outputs = model2(inputs)\n",
        "    #         _, preds = torch.max(outputs, 1)\n",
        "\n",
        "    #         running_corrects += torch.sum(preds == labels.data)\n",
        "\n",
        "    #     val_acc = running_corrects.double() / len(val_dataloader.dataset)\n",
        "\n",
        "    #     print(f'Validation Accuracy: {val_acc:.4f}')\n"
      ],
      "metadata": {
        "colab": {
          "base_uri": "https://localhost:8080/",
          "height": 1000,
          "referenced_widgets": [
            "4ce7445005b541cb9837cc005bb465b5",
            "96ac234982b14100b93003a7df2a26c9",
            "6d7e933c089a4aadb1e41e6ccde10ba0",
            "168a80e309504868a1409506963ff3bb",
            "2af90f973256429d813989acb6dab195",
            "b220e13cc08f4fe79375a2dc8827875e",
            "dd4b8dbd784245aa99b48e2b5f773b6e",
            "8f5893b0eafd447ca44336f5a7dc3e49",
            "34d54d654281449cbf4985f49aa93d57",
            "aea4087c2e41416c90aab2ad1c05a02d",
            "11b82a6caede41db80281fc3c39dd2f2"
          ]
        },
        "id": "KVfuzq9_s8OX",
        "outputId": "3d963c13-4189-4f3a-e608-0656415bdd4a"
      },
      "execution_count": 28,
      "outputs": [
        {
          "output_type": "display_data",
          "data": {
            "text/plain": [
              "  0%|          | 0/20 [00:00<?, ?it/s]"
            ],
            "application/vnd.jupyter.widget-view+json": {
              "version_major": 2,
              "version_minor": 0,
              "model_id": "4ce7445005b541cb9837cc005bb465b5"
            }
          },
          "metadata": {}
        },
        {
          "output_type": "stream",
          "name": "stdout",
          "text": [
            "EPOCH : 1 \n",
            "-----------\n",
            "Loss: 0.2620 | Accuracy: 0.9121\n",
            "EPOCH : 2 \n",
            "-----------\n",
            "Loss: 0.1799 | Accuracy: 0.9371\n",
            "EPOCH : 3 \n",
            "-----------\n",
            "Loss: 0.1508 | Accuracy: 0.9519\n",
            "EPOCH : 4 \n",
            "-----------\n",
            "Loss: 0.1083 | Accuracy: 0.9629\n",
            "EPOCH : 5 \n",
            "-----------\n",
            "Loss: 0.1371 | Accuracy: 0.9521\n",
            "EPOCH : 6 \n",
            "-----------\n",
            "Loss: 0.0884 | Accuracy: 0.9705\n",
            "EPOCH : 7 \n",
            "-----------\n",
            "Loss: 0.1085 | Accuracy: 0.9648\n",
            "EPOCH : 8 \n",
            "-----------\n",
            "Loss: 0.0890 | Accuracy: 0.9694\n",
            "EPOCH : 9 \n",
            "-----------\n",
            "Loss: 0.1438 | Accuracy: 0.9536\n",
            "EPOCH : 10 \n",
            "-----------\n",
            "Loss: 0.0838 | Accuracy: 0.9737\n",
            "EPOCH : 11 \n",
            "-----------\n",
            "Loss: 0.0545 | Accuracy: 0.9821\n",
            "EPOCH : 12 \n",
            "-----------\n",
            "Loss: 0.0458 | Accuracy: 0.9858\n",
            "EPOCH : 13 \n",
            "-----------\n",
            "Loss: 0.0640 | Accuracy: 0.9790\n",
            "EPOCH : 14 \n",
            "-----------\n",
            "Loss: 0.0996 | Accuracy: 0.9710\n",
            "EPOCH : 15 \n",
            "-----------\n",
            "Loss: 0.0703 | Accuracy: 0.9776\n",
            "EPOCH : 16 \n",
            "-----------\n",
            "Loss: 0.0528 | Accuracy: 0.9818\n",
            "EPOCH : 17 \n",
            "-----------\n",
            "Loss: 0.0545 | Accuracy: 0.9829\n",
            "EPOCH : 18 \n",
            "-----------\n",
            "Loss: 0.0480 | Accuracy: 0.9840\n",
            "EPOCH : 19 \n",
            "-----------\n",
            "Loss: 0.0407 | Accuracy: 0.9850\n",
            "EPOCH : 20 \n",
            "-----------\n",
            "Loss: 0.0607 | Accuracy: 0.9831\n"
          ]
        }
      ]
    },
    {
      "cell_type": "code",
      "source": [
        "def fn(model):\n",
        "  data_path = Path('data')\n",
        "  image_path = data_path / 'test_images'\n",
        "  zip_image_path = data_path / 'test_images.zip'\n",
        "\n",
        "  if not image_path.is_dir():\n",
        "    image_path.mkdir(parents=True, exist_ok=True)\n",
        "    with open(zip_image_path, 'wb') as f:\n",
        "      request = requests.get('https://github.com/maheshkrishnam/SOI_SDS_2024/raw/main/test_dataset.zip')\n",
        "      print('Downloading space_images.zip...')\n",
        "      f.write(request.content)\n",
        "\n",
        "    with zipfile.ZipFile(zip_image_path, 'r') as zip_ref:\n",
        "      print('Unzipping space_images.zip...')\n",
        "      zip_ref.extractall(image_path)\n",
        "      print('Unzipping done...')\n",
        "    os.remove(zip_image_path)\n",
        "  else:\n",
        "    print(f'{image_path} already exists')\n",
        "\n",
        "\n",
        "  class TestDataset(Dataset):\n",
        "      def __init__(self, root_dir, transform=None):\n",
        "          self.root_dir = root_dir\n",
        "          self.transform = transform\n",
        "          self.image_files = [f for f in os.listdir(root_dir) if os.path.isfile(os.path.join(root_dir, f))]\n",
        "\n",
        "      def __len__(self):\n",
        "          return len(self.image_files)\n",
        "\n",
        "      def __getitem__(self, idx):\n",
        "          img_name = os.path.join(self.root_dir, self.image_files[idx])\n",
        "          image = Image.open(img_name).convert('RGB')\n",
        "          if self.transform:\n",
        "              image = self.transform(image)\n",
        "          return image, self.image_files[idx]\n",
        "\n",
        "\n",
        "  transform = transforms.Compose([\n",
        "    transforms.Resize((64, 64)),\n",
        "    transforms.ToTensor(),\n",
        "    transforms.Normalize((0.5,), (0.5,))\n",
        "  ])\n",
        "\n",
        "  image_path = '/content/data/test_images/test_dataset'\n",
        "\n",
        "  test_dataset = TestDataset(root_dir=image_path, transform=transform)\n",
        "  test_dataloader = DataLoader(\n",
        "      test_dataset,\n",
        "      batch_size=BATCH_SIZE,\n",
        "      shuffle=False\n",
        "  )\n",
        "\n",
        "  device = torch.device(\"cuda\" if torch.cuda.is_available() else \"cpu\")\n",
        "  model.to(device)\n",
        "\n",
        "  predictions = []\n",
        "  file_names = []\n",
        "\n",
        "  with torch.no_grad():\n",
        "      for images, image_names in test_dataloader:\n",
        "          images = images.to(device)\n",
        "          outputs = model(images)\n",
        "          _, predicted = torch.max(outputs, 1)\n",
        "          predictions.extend(predicted.cpu().numpy())\n",
        "          file_names.extend(image_names)\n",
        "\n",
        "  # Create a DataFrame and save to CSV\n",
        "  df = pd.DataFrame({'file_name': file_names, 'prediction': predictions})\n",
        "  df.to_csv('densenet121_complete.csv', index=False)\n"
      ],
      "metadata": {
        "id": "nEdqM22SQ5BM"
      },
      "execution_count": 29,
      "outputs": []
    },
    {
      "cell_type": "code",
      "source": [
        "fn(model2)"
      ],
      "metadata": {
        "id": "WcvG1hqNRgH5",
        "outputId": "b05787f2-45b8-4721-9605-1bd88be1bdb7",
        "colab": {
          "base_uri": "https://localhost:8080/"
        }
      },
      "execution_count": 30,
      "outputs": [
        {
          "output_type": "stream",
          "name": "stdout",
          "text": [
            "data/test_images already exists\n"
          ]
        }
      ]
    },
    {
      "cell_type": "code",
      "source": [],
      "metadata": {
        "id": "SL7WlH7aRgEd"
      },
      "execution_count": null,
      "outputs": []
    },
    {
      "cell_type": "code",
      "source": [],
      "metadata": {
        "id": "YKn02EZ8Rf_x"
      },
      "execution_count": null,
      "outputs": []
    },
    {
      "cell_type": "code",
      "source": [],
      "metadata": {
        "id": "cIC1cTByRf7W"
      },
      "execution_count": null,
      "outputs": []
    },
    {
      "cell_type": "code",
      "source": [
        "from sklearn.metrics import confusion_matrix\n",
        "import seaborn as sn\n",
        "import pandas as pd\n",
        "\n",
        "y_pred = []\n",
        "y_true = []\n",
        "\n",
        "# iterate over test data\n",
        "model.eval()\n",
        "with torch.inference_mode():\n",
        "  for inputs, labels in val_dataloader:\n",
        "          output = model(inputs.to(device)) # Feed Network\n",
        "\n",
        "          output = (torch.max(torch.exp(output), 1)[1]).data.cpu().numpy()\n",
        "          y_pred.extend(output) # Save Prediction\n",
        "\n",
        "          labels = labels.data.cpu().numpy()\n",
        "          y_true.extend(labels) # Save Truth\n",
        "\n",
        "# constant for classes\n",
        "classes = class_name\n",
        "\n",
        "# Build confusion matrix\n",
        "cf_matrix = confusion_matrix(y_true, y_pred)\n",
        "df_cm = pd.DataFrame(cf_matrix / np.sum(cf_matrix, axis=1)[:, None], index = [i for i in classes], columns = [i for i in classes])\n",
        "plt.figure(figsize = (12,7))\n",
        "sn.heatmap(df_cm, annot=True)"
      ],
      "metadata": {
        "id": "I1odCB-nySAQ"
      },
      "execution_count": null,
      "outputs": []
    },
    {
      "cell_type": "code",
      "source": [],
      "metadata": {
        "id": "F7d2FfdpyR8t"
      },
      "execution_count": null,
      "outputs": []
    },
    {
      "cell_type": "code",
      "source": [],
      "metadata": {
        "id": "ooKg2Y_PyR6Y"
      },
      "execution_count": null,
      "outputs": []
    },
    {
      "cell_type": "code",
      "source": [],
      "metadata": {
        "id": "AmU8E-xCyR1D"
      },
      "execution_count": null,
      "outputs": []
    },
    {
      "cell_type": "code",
      "source": [],
      "metadata": {
        "id": "LsrxM0xbyRxs"
      },
      "execution_count": null,
      "outputs": []
    }
  ],
  "metadata": {
    "colab": {
      "provenance": [],
      "gpuType": "T4"
    },
    "kernelspec": {
      "display_name": "Python 3",
      "name": "python3"
    },
    "language_info": {
      "codemirror_mode": {
        "name": "ipython",
        "version": 3
      },
      "file_extension": ".py",
      "mimetype": "text/x-python",
      "name": "python",
      "nbconvert_exporter": "python",
      "pygments_lexer": "ipython3",
      "version": "3.7.6"
    },
    "widgets": {
      "application/vnd.jupyter.widget-state+json": {
        "e563d327faf345a69b83093bc9517d40": {
          "model_module": "@jupyter-widgets/controls",
          "model_name": "HBoxModel",
          "model_module_version": "1.5.0",
          "state": {
            "_dom_classes": [],
            "_model_module": "@jupyter-widgets/controls",
            "_model_module_version": "1.5.0",
            "_model_name": "HBoxModel",
            "_view_count": null,
            "_view_module": "@jupyter-widgets/controls",
            "_view_module_version": "1.5.0",
            "_view_name": "HBoxView",
            "box_style": "",
            "children": [
              "IPY_MODEL_974ae1ec490744b8b12e73a48233da53",
              "IPY_MODEL_376504ead59248cf92156d436b43c57b",
              "IPY_MODEL_9b745b4aabad47a8a8756a41f0833b09"
            ],
            "layout": "IPY_MODEL_bc52902d16444a3e8f88f87a51290a86"
          }
        },
        "974ae1ec490744b8b12e73a48233da53": {
          "model_module": "@jupyter-widgets/controls",
          "model_name": "HTMLModel",
          "model_module_version": "1.5.0",
          "state": {
            "_dom_classes": [],
            "_model_module": "@jupyter-widgets/controls",
            "_model_module_version": "1.5.0",
            "_model_name": "HTMLModel",
            "_view_count": null,
            "_view_module": "@jupyter-widgets/controls",
            "_view_module_version": "1.5.0",
            "_view_name": "HTMLView",
            "description": "",
            "description_tooltip": null,
            "layout": "IPY_MODEL_5ec673570d5642be869272b9250e31da",
            "placeholder": "​",
            "style": "IPY_MODEL_18550c045b704377868e2589f69fdd16",
            "value": "100%"
          }
        },
        "376504ead59248cf92156d436b43c57b": {
          "model_module": "@jupyter-widgets/controls",
          "model_name": "FloatProgressModel",
          "model_module_version": "1.5.0",
          "state": {
            "_dom_classes": [],
            "_model_module": "@jupyter-widgets/controls",
            "_model_module_version": "1.5.0",
            "_model_name": "FloatProgressModel",
            "_view_count": null,
            "_view_module": "@jupyter-widgets/controls",
            "_view_module_version": "1.5.0",
            "_view_name": "ProgressView",
            "bar_style": "success",
            "description": "",
            "description_tooltip": null,
            "layout": "IPY_MODEL_a609bb75573d468db1d46df3763ff2c1",
            "max": 20,
            "min": 0,
            "orientation": "horizontal",
            "style": "IPY_MODEL_4a4eb6dba5a14f9b9e117d638b6206c0",
            "value": 20
          }
        },
        "9b745b4aabad47a8a8756a41f0833b09": {
          "model_module": "@jupyter-widgets/controls",
          "model_name": "HTMLModel",
          "model_module_version": "1.5.0",
          "state": {
            "_dom_classes": [],
            "_model_module": "@jupyter-widgets/controls",
            "_model_module_version": "1.5.0",
            "_model_name": "HTMLModel",
            "_view_count": null,
            "_view_module": "@jupyter-widgets/controls",
            "_view_module_version": "1.5.0",
            "_view_name": "HTMLView",
            "description": "",
            "description_tooltip": null,
            "layout": "IPY_MODEL_a6370f8999f54bde944f3197d2c25904",
            "placeholder": "​",
            "style": "IPY_MODEL_f864c392ef82477ca9b7057356a6fe88",
            "value": " 20/20 [07:29&lt;00:00, 22.24s/it]"
          }
        },
        "bc52902d16444a3e8f88f87a51290a86": {
          "model_module": "@jupyter-widgets/base",
          "model_name": "LayoutModel",
          "model_module_version": "1.2.0",
          "state": {
            "_model_module": "@jupyter-widgets/base",
            "_model_module_version": "1.2.0",
            "_model_name": "LayoutModel",
            "_view_count": null,
            "_view_module": "@jupyter-widgets/base",
            "_view_module_version": "1.2.0",
            "_view_name": "LayoutView",
            "align_content": null,
            "align_items": null,
            "align_self": null,
            "border": null,
            "bottom": null,
            "display": null,
            "flex": null,
            "flex_flow": null,
            "grid_area": null,
            "grid_auto_columns": null,
            "grid_auto_flow": null,
            "grid_auto_rows": null,
            "grid_column": null,
            "grid_gap": null,
            "grid_row": null,
            "grid_template_areas": null,
            "grid_template_columns": null,
            "grid_template_rows": null,
            "height": null,
            "justify_content": null,
            "justify_items": null,
            "left": null,
            "margin": null,
            "max_height": null,
            "max_width": null,
            "min_height": null,
            "min_width": null,
            "object_fit": null,
            "object_position": null,
            "order": null,
            "overflow": null,
            "overflow_x": null,
            "overflow_y": null,
            "padding": null,
            "right": null,
            "top": null,
            "visibility": null,
            "width": null
          }
        },
        "5ec673570d5642be869272b9250e31da": {
          "model_module": "@jupyter-widgets/base",
          "model_name": "LayoutModel",
          "model_module_version": "1.2.0",
          "state": {
            "_model_module": "@jupyter-widgets/base",
            "_model_module_version": "1.2.0",
            "_model_name": "LayoutModel",
            "_view_count": null,
            "_view_module": "@jupyter-widgets/base",
            "_view_module_version": "1.2.0",
            "_view_name": "LayoutView",
            "align_content": null,
            "align_items": null,
            "align_self": null,
            "border": null,
            "bottom": null,
            "display": null,
            "flex": null,
            "flex_flow": null,
            "grid_area": null,
            "grid_auto_columns": null,
            "grid_auto_flow": null,
            "grid_auto_rows": null,
            "grid_column": null,
            "grid_gap": null,
            "grid_row": null,
            "grid_template_areas": null,
            "grid_template_columns": null,
            "grid_template_rows": null,
            "height": null,
            "justify_content": null,
            "justify_items": null,
            "left": null,
            "margin": null,
            "max_height": null,
            "max_width": null,
            "min_height": null,
            "min_width": null,
            "object_fit": null,
            "object_position": null,
            "order": null,
            "overflow": null,
            "overflow_x": null,
            "overflow_y": null,
            "padding": null,
            "right": null,
            "top": null,
            "visibility": null,
            "width": null
          }
        },
        "18550c045b704377868e2589f69fdd16": {
          "model_module": "@jupyter-widgets/controls",
          "model_name": "DescriptionStyleModel",
          "model_module_version": "1.5.0",
          "state": {
            "_model_module": "@jupyter-widgets/controls",
            "_model_module_version": "1.5.0",
            "_model_name": "DescriptionStyleModel",
            "_view_count": null,
            "_view_module": "@jupyter-widgets/base",
            "_view_module_version": "1.2.0",
            "_view_name": "StyleView",
            "description_width": ""
          }
        },
        "a609bb75573d468db1d46df3763ff2c1": {
          "model_module": "@jupyter-widgets/base",
          "model_name": "LayoutModel",
          "model_module_version": "1.2.0",
          "state": {
            "_model_module": "@jupyter-widgets/base",
            "_model_module_version": "1.2.0",
            "_model_name": "LayoutModel",
            "_view_count": null,
            "_view_module": "@jupyter-widgets/base",
            "_view_module_version": "1.2.0",
            "_view_name": "LayoutView",
            "align_content": null,
            "align_items": null,
            "align_self": null,
            "border": null,
            "bottom": null,
            "display": null,
            "flex": null,
            "flex_flow": null,
            "grid_area": null,
            "grid_auto_columns": null,
            "grid_auto_flow": null,
            "grid_auto_rows": null,
            "grid_column": null,
            "grid_gap": null,
            "grid_row": null,
            "grid_template_areas": null,
            "grid_template_columns": null,
            "grid_template_rows": null,
            "height": null,
            "justify_content": null,
            "justify_items": null,
            "left": null,
            "margin": null,
            "max_height": null,
            "max_width": null,
            "min_height": null,
            "min_width": null,
            "object_fit": null,
            "object_position": null,
            "order": null,
            "overflow": null,
            "overflow_x": null,
            "overflow_y": null,
            "padding": null,
            "right": null,
            "top": null,
            "visibility": null,
            "width": null
          }
        },
        "4a4eb6dba5a14f9b9e117d638b6206c0": {
          "model_module": "@jupyter-widgets/controls",
          "model_name": "ProgressStyleModel",
          "model_module_version": "1.5.0",
          "state": {
            "_model_module": "@jupyter-widgets/controls",
            "_model_module_version": "1.5.0",
            "_model_name": "ProgressStyleModel",
            "_view_count": null,
            "_view_module": "@jupyter-widgets/base",
            "_view_module_version": "1.2.0",
            "_view_name": "StyleView",
            "bar_color": null,
            "description_width": ""
          }
        },
        "a6370f8999f54bde944f3197d2c25904": {
          "model_module": "@jupyter-widgets/base",
          "model_name": "LayoutModel",
          "model_module_version": "1.2.0",
          "state": {
            "_model_module": "@jupyter-widgets/base",
            "_model_module_version": "1.2.0",
            "_model_name": "LayoutModel",
            "_view_count": null,
            "_view_module": "@jupyter-widgets/base",
            "_view_module_version": "1.2.0",
            "_view_name": "LayoutView",
            "align_content": null,
            "align_items": null,
            "align_self": null,
            "border": null,
            "bottom": null,
            "display": null,
            "flex": null,
            "flex_flow": null,
            "grid_area": null,
            "grid_auto_columns": null,
            "grid_auto_flow": null,
            "grid_auto_rows": null,
            "grid_column": null,
            "grid_gap": null,
            "grid_row": null,
            "grid_template_areas": null,
            "grid_template_columns": null,
            "grid_template_rows": null,
            "height": null,
            "justify_content": null,
            "justify_items": null,
            "left": null,
            "margin": null,
            "max_height": null,
            "max_width": null,
            "min_height": null,
            "min_width": null,
            "object_fit": null,
            "object_position": null,
            "order": null,
            "overflow": null,
            "overflow_x": null,
            "overflow_y": null,
            "padding": null,
            "right": null,
            "top": null,
            "visibility": null,
            "width": null
          }
        },
        "f864c392ef82477ca9b7057356a6fe88": {
          "model_module": "@jupyter-widgets/controls",
          "model_name": "DescriptionStyleModel",
          "model_module_version": "1.5.0",
          "state": {
            "_model_module": "@jupyter-widgets/controls",
            "_model_module_version": "1.5.0",
            "_model_name": "DescriptionStyleModel",
            "_view_count": null,
            "_view_module": "@jupyter-widgets/base",
            "_view_module_version": "1.2.0",
            "_view_name": "StyleView",
            "description_width": ""
          }
        },
        "4ce7445005b541cb9837cc005bb465b5": {
          "model_module": "@jupyter-widgets/controls",
          "model_name": "HBoxModel",
          "model_module_version": "1.5.0",
          "state": {
            "_dom_classes": [],
            "_model_module": "@jupyter-widgets/controls",
            "_model_module_version": "1.5.0",
            "_model_name": "HBoxModel",
            "_view_count": null,
            "_view_module": "@jupyter-widgets/controls",
            "_view_module_version": "1.5.0",
            "_view_name": "HBoxView",
            "box_style": "",
            "children": [
              "IPY_MODEL_96ac234982b14100b93003a7df2a26c9",
              "IPY_MODEL_6d7e933c089a4aadb1e41e6ccde10ba0",
              "IPY_MODEL_168a80e309504868a1409506963ff3bb"
            ],
            "layout": "IPY_MODEL_2af90f973256429d813989acb6dab195"
          }
        },
        "96ac234982b14100b93003a7df2a26c9": {
          "model_module": "@jupyter-widgets/controls",
          "model_name": "HTMLModel",
          "model_module_version": "1.5.0",
          "state": {
            "_dom_classes": [],
            "_model_module": "@jupyter-widgets/controls",
            "_model_module_version": "1.5.0",
            "_model_name": "HTMLModel",
            "_view_count": null,
            "_view_module": "@jupyter-widgets/controls",
            "_view_module_version": "1.5.0",
            "_view_name": "HTMLView",
            "description": "",
            "description_tooltip": null,
            "layout": "IPY_MODEL_b220e13cc08f4fe79375a2dc8827875e",
            "placeholder": "​",
            "style": "IPY_MODEL_dd4b8dbd784245aa99b48e2b5f773b6e",
            "value": "100%"
          }
        },
        "6d7e933c089a4aadb1e41e6ccde10ba0": {
          "model_module": "@jupyter-widgets/controls",
          "model_name": "FloatProgressModel",
          "model_module_version": "1.5.0",
          "state": {
            "_dom_classes": [],
            "_model_module": "@jupyter-widgets/controls",
            "_model_module_version": "1.5.0",
            "_model_name": "FloatProgressModel",
            "_view_count": null,
            "_view_module": "@jupyter-widgets/controls",
            "_view_module_version": "1.5.0",
            "_view_name": "ProgressView",
            "bar_style": "success",
            "description": "",
            "description_tooltip": null,
            "layout": "IPY_MODEL_8f5893b0eafd447ca44336f5a7dc3e49",
            "max": 20,
            "min": 0,
            "orientation": "horizontal",
            "style": "IPY_MODEL_34d54d654281449cbf4985f49aa93d57",
            "value": 20
          }
        },
        "168a80e309504868a1409506963ff3bb": {
          "model_module": "@jupyter-widgets/controls",
          "model_name": "HTMLModel",
          "model_module_version": "1.5.0",
          "state": {
            "_dom_classes": [],
            "_model_module": "@jupyter-widgets/controls",
            "_model_module_version": "1.5.0",
            "_model_name": "HTMLModel",
            "_view_count": null,
            "_view_module": "@jupyter-widgets/controls",
            "_view_module_version": "1.5.0",
            "_view_name": "HTMLView",
            "description": "",
            "description_tooltip": null,
            "layout": "IPY_MODEL_aea4087c2e41416c90aab2ad1c05a02d",
            "placeholder": "​",
            "style": "IPY_MODEL_11b82a6caede41db80281fc3c39dd2f2",
            "value": " 20/20 [21:14&lt;00:00, 63.57s/it]"
          }
        },
        "2af90f973256429d813989acb6dab195": {
          "model_module": "@jupyter-widgets/base",
          "model_name": "LayoutModel",
          "model_module_version": "1.2.0",
          "state": {
            "_model_module": "@jupyter-widgets/base",
            "_model_module_version": "1.2.0",
            "_model_name": "LayoutModel",
            "_view_count": null,
            "_view_module": "@jupyter-widgets/base",
            "_view_module_version": "1.2.0",
            "_view_name": "LayoutView",
            "align_content": null,
            "align_items": null,
            "align_self": null,
            "border": null,
            "bottom": null,
            "display": null,
            "flex": null,
            "flex_flow": null,
            "grid_area": null,
            "grid_auto_columns": null,
            "grid_auto_flow": null,
            "grid_auto_rows": null,
            "grid_column": null,
            "grid_gap": null,
            "grid_row": null,
            "grid_template_areas": null,
            "grid_template_columns": null,
            "grid_template_rows": null,
            "height": null,
            "justify_content": null,
            "justify_items": null,
            "left": null,
            "margin": null,
            "max_height": null,
            "max_width": null,
            "min_height": null,
            "min_width": null,
            "object_fit": null,
            "object_position": null,
            "order": null,
            "overflow": null,
            "overflow_x": null,
            "overflow_y": null,
            "padding": null,
            "right": null,
            "top": null,
            "visibility": null,
            "width": null
          }
        },
        "b220e13cc08f4fe79375a2dc8827875e": {
          "model_module": "@jupyter-widgets/base",
          "model_name": "LayoutModel",
          "model_module_version": "1.2.0",
          "state": {
            "_model_module": "@jupyter-widgets/base",
            "_model_module_version": "1.2.0",
            "_model_name": "LayoutModel",
            "_view_count": null,
            "_view_module": "@jupyter-widgets/base",
            "_view_module_version": "1.2.0",
            "_view_name": "LayoutView",
            "align_content": null,
            "align_items": null,
            "align_self": null,
            "border": null,
            "bottom": null,
            "display": null,
            "flex": null,
            "flex_flow": null,
            "grid_area": null,
            "grid_auto_columns": null,
            "grid_auto_flow": null,
            "grid_auto_rows": null,
            "grid_column": null,
            "grid_gap": null,
            "grid_row": null,
            "grid_template_areas": null,
            "grid_template_columns": null,
            "grid_template_rows": null,
            "height": null,
            "justify_content": null,
            "justify_items": null,
            "left": null,
            "margin": null,
            "max_height": null,
            "max_width": null,
            "min_height": null,
            "min_width": null,
            "object_fit": null,
            "object_position": null,
            "order": null,
            "overflow": null,
            "overflow_x": null,
            "overflow_y": null,
            "padding": null,
            "right": null,
            "top": null,
            "visibility": null,
            "width": null
          }
        },
        "dd4b8dbd784245aa99b48e2b5f773b6e": {
          "model_module": "@jupyter-widgets/controls",
          "model_name": "DescriptionStyleModel",
          "model_module_version": "1.5.0",
          "state": {
            "_model_module": "@jupyter-widgets/controls",
            "_model_module_version": "1.5.0",
            "_model_name": "DescriptionStyleModel",
            "_view_count": null,
            "_view_module": "@jupyter-widgets/base",
            "_view_module_version": "1.2.0",
            "_view_name": "StyleView",
            "description_width": ""
          }
        },
        "8f5893b0eafd447ca44336f5a7dc3e49": {
          "model_module": "@jupyter-widgets/base",
          "model_name": "LayoutModel",
          "model_module_version": "1.2.0",
          "state": {
            "_model_module": "@jupyter-widgets/base",
            "_model_module_version": "1.2.0",
            "_model_name": "LayoutModel",
            "_view_count": null,
            "_view_module": "@jupyter-widgets/base",
            "_view_module_version": "1.2.0",
            "_view_name": "LayoutView",
            "align_content": null,
            "align_items": null,
            "align_self": null,
            "border": null,
            "bottom": null,
            "display": null,
            "flex": null,
            "flex_flow": null,
            "grid_area": null,
            "grid_auto_columns": null,
            "grid_auto_flow": null,
            "grid_auto_rows": null,
            "grid_column": null,
            "grid_gap": null,
            "grid_row": null,
            "grid_template_areas": null,
            "grid_template_columns": null,
            "grid_template_rows": null,
            "height": null,
            "justify_content": null,
            "justify_items": null,
            "left": null,
            "margin": null,
            "max_height": null,
            "max_width": null,
            "min_height": null,
            "min_width": null,
            "object_fit": null,
            "object_position": null,
            "order": null,
            "overflow": null,
            "overflow_x": null,
            "overflow_y": null,
            "padding": null,
            "right": null,
            "top": null,
            "visibility": null,
            "width": null
          }
        },
        "34d54d654281449cbf4985f49aa93d57": {
          "model_module": "@jupyter-widgets/controls",
          "model_name": "ProgressStyleModel",
          "model_module_version": "1.5.0",
          "state": {
            "_model_module": "@jupyter-widgets/controls",
            "_model_module_version": "1.5.0",
            "_model_name": "ProgressStyleModel",
            "_view_count": null,
            "_view_module": "@jupyter-widgets/base",
            "_view_module_version": "1.2.0",
            "_view_name": "StyleView",
            "bar_color": null,
            "description_width": ""
          }
        },
        "aea4087c2e41416c90aab2ad1c05a02d": {
          "model_module": "@jupyter-widgets/base",
          "model_name": "LayoutModel",
          "model_module_version": "1.2.0",
          "state": {
            "_model_module": "@jupyter-widgets/base",
            "_model_module_version": "1.2.0",
            "_model_name": "LayoutModel",
            "_view_count": null,
            "_view_module": "@jupyter-widgets/base",
            "_view_module_version": "1.2.0",
            "_view_name": "LayoutView",
            "align_content": null,
            "align_items": null,
            "align_self": null,
            "border": null,
            "bottom": null,
            "display": null,
            "flex": null,
            "flex_flow": null,
            "grid_area": null,
            "grid_auto_columns": null,
            "grid_auto_flow": null,
            "grid_auto_rows": null,
            "grid_column": null,
            "grid_gap": null,
            "grid_row": null,
            "grid_template_areas": null,
            "grid_template_columns": null,
            "grid_template_rows": null,
            "height": null,
            "justify_content": null,
            "justify_items": null,
            "left": null,
            "margin": null,
            "max_height": null,
            "max_width": null,
            "min_height": null,
            "min_width": null,
            "object_fit": null,
            "object_position": null,
            "order": null,
            "overflow": null,
            "overflow_x": null,
            "overflow_y": null,
            "padding": null,
            "right": null,
            "top": null,
            "visibility": null,
            "width": null
          }
        },
        "11b82a6caede41db80281fc3c39dd2f2": {
          "model_module": "@jupyter-widgets/controls",
          "model_name": "DescriptionStyleModel",
          "model_module_version": "1.5.0",
          "state": {
            "_model_module": "@jupyter-widgets/controls",
            "_model_module_version": "1.5.0",
            "_model_name": "DescriptionStyleModel",
            "_view_count": null,
            "_view_module": "@jupyter-widgets/base",
            "_view_module_version": "1.2.0",
            "_view_name": "StyleView",
            "description_width": ""
          }
        }
      }
    },
    "accelerator": "GPU"
  },
  "nbformat": 4,
  "nbformat_minor": 0
}