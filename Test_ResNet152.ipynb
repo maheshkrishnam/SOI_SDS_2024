{
  "nbformat": 4,
  "nbformat_minor": 0,
  "metadata": {
    "colab": {
      "provenance": [],
      "gpuType": "T4",
      "authorship_tag": "ABX9TyNfXSj4sR5Ilqr1sKZj0FFe",
      "include_colab_link": true
    },
    "kernelspec": {
      "name": "python3",
      "display_name": "Python 3"
    },
    "language_info": {
      "name": "python"
    },
    "accelerator": "GPU"
  },
  "cells": [
    {
      "cell_type": "markdown",
      "metadata": {
        "id": "view-in-github",
        "colab_type": "text"
      },
      "source": [
        "<a href=\"https://colab.research.google.com/github/hackerpranavpandey/SOI_Mission_Mars_Terrain/blob/main/Test_ResNet152.ipynb\" target=\"_parent\"><img src=\"https://colab.research.google.com/assets/colab-badge.svg\" alt=\"Open In Colab\"/></a>"
      ]
    },
    {
      "cell_type": "code",
      "execution_count": 58,
      "metadata": {
        "colab": {
          "base_uri": "https://localhost:8080/"
        },
        "id": "LQRKtwevZbTI",
        "outputId": "3548d510-6a00-4cee-8a6f-0ca0f548f1c3"
      },
      "outputs": [
        {
          "output_type": "stream",
          "name": "stdout",
          "text": [
            "Drive already mounted at /content/drive; to attempt to forcibly remount, call drive.mount(\"/content/drive\", force_remount=True).\n"
          ]
        }
      ],
      "source": [
        "from google.colab import drive\n",
        "drive.mount('/content/drive')"
      ]
    },
    {
      "cell_type": "code",
      "source": [
        "import os\n",
        "path='/content/drive/MyDrive/Mission_Mars'\n",
        "os.listdir(path)"
      ],
      "metadata": {
        "colab": {
          "base_uri": "https://localhost:8080/"
        },
        "id": "GBk7pUTQaYr0",
        "outputId": "78ec5215-ed32-4e72-98fe-dcc7577c0848"
      },
      "execution_count": 59,
      "outputs": [
        {
          "output_type": "execute_result",
          "data": {
            "text/plain": [
              "['train.csv',\n",
              " 'train_dataset',\n",
              " 'test_dataset',\n",
              " 'pred_resnet152.csv',\n",
              " 'MissionMarsTerrain_submission.csv']"
            ]
          },
          "metadata": {},
          "execution_count": 59
        }
      ]
    },
    {
      "cell_type": "code",
      "source": [
        "import os\n",
        "import cv2\n",
        "import numpy as np\n",
        "from sklearn.preprocessing import LabelEncoder\n",
        "import matplotlib.pyplot as plt\n",
        "import seaborn as sns\n",
        "from sklearn.model_selection import train_test_split\n",
        "import matplotlib.image as mpimg\n",
        "images=[]\n",
        "image_filenames=[]\n",
        "def image_process(images_path):\n",
        "    for image_path in os.listdir(images_path):\n",
        "        image_name = os.path.join(images_path, image_path)\n",
        "        image_array = cv2.imread(image_name, cv2.IMREAD_COLOR)\n",
        "        image_array = cv2.resize(image_array, (224, 224))\n",
        "        image_array = cv2.cvtColor(image_array, cv2.COLOR_BGR2RGB)\n",
        "        images.append(image_array)\n",
        "        image_filenames.append(image_path)\n",
        "image_process('/content/drive/MyDrive/Mission_Mars/test_dataset')"
      ],
      "metadata": {
        "id": "kWMCo-Qvn4Is"
      },
      "execution_count": 60,
      "outputs": []
    },
    {
      "cell_type": "code",
      "source": [
        "import torch\n",
        "from torch.utils.data import Dataset\n",
        "from PIL import Image\n",
        "class CustomDataset(Dataset):\n",
        "    def __init__(self,images,transform=None):\n",
        "        self.images = images\n",
        "        self.transform = transform\n",
        "    def __len__(self):\n",
        "        return len(self.images)\n",
        "    def __getitem__(self, idx):\n",
        "        image = self.images[idx]\n",
        "        image = Image.fromarray(image)\n",
        "        if self.transform:\n",
        "            image = self.transform(image)\n",
        "        return image"
      ],
      "metadata": {
        "id": "7qkfpAfgn4Op"
      },
      "execution_count": 61,
      "outputs": []
    },
    {
      "cell_type": "code",
      "source": [
        "from torchvision import transforms\n",
        "data_transforms = transforms.Compose([\n",
        "    transforms.Resize((256, 256)),\n",
        "    transforms.ToTensor(),\n",
        "    transforms.Normalize(mean=[0.485, 0.456, 0.406], std=[0.229, 0.224, 0.225])\n",
        "                                     ])"
      ],
      "metadata": {
        "id": "TUR49ET0n4RU"
      },
      "execution_count": 62,
      "outputs": []
    },
    {
      "cell_type": "code",
      "source": [
        "from torch.utils.data import DataLoader\n",
        "test_dataset = CustomDataset(images, transform=data_transforms)\n",
        "test_loader = DataLoader(test_dataset, batch_size=32, shuffle=False, num_workers=2)"
      ],
      "metadata": {
        "id": "3UPoT28bn4T5"
      },
      "execution_count": 63,
      "outputs": []
    },
    {
      "cell_type": "code",
      "source": [
        "import torch\n",
        "import torchvision.models as models\n",
        "from torch import nn\n",
        "num_classes = 8\n",
        "model = models.resnet152(pretrained=True)\n",
        "model.fc = nn.Linear(model.fc.in_features, num_classes)\n",
        "device = torch.device(\"cuda\" if torch.cuda.is_available() else \"cpu\")\n",
        "model = model.to(device)\n",
        "model_path = '/content/drive/MyDrive/model.pth'\n",
        "model.load_state_dict(torch.load(model_path))"
      ],
      "metadata": {
        "id": "B3v4LgKMa239",
        "colab": {
          "base_uri": "https://localhost:8080/"
        },
        "outputId": "3da0604f-f24b-4f5e-faf3-89b6f063cf0f"
      },
      "execution_count": 64,
      "outputs": [
        {
          "output_type": "stream",
          "name": "stderr",
          "text": [
            "/usr/local/lib/python3.10/dist-packages/torchvision/models/_utils.py:208: UserWarning: The parameter 'pretrained' is deprecated since 0.13 and may be removed in the future, please use 'weights' instead.\n",
            "  warnings.warn(\n",
            "/usr/local/lib/python3.10/dist-packages/torchvision/models/_utils.py:223: UserWarning: Arguments other than a weight enum or `None` for 'weights' are deprecated since 0.13 and may be removed in the future. The current behavior is equivalent to passing `weights=ResNet152_Weights.IMAGENET1K_V1`. You can also use `weights=ResNet152_Weights.DEFAULT` to get the most up-to-date weights.\n",
            "  warnings.warn(msg)\n"
          ]
        },
        {
          "output_type": "execute_result",
          "data": {
            "text/plain": [
              "<All keys matched successfully>"
            ]
          },
          "metadata": {},
          "execution_count": 64
        }
      ]
    },
    {
      "cell_type": "code",
      "source": [
        "def get_predictions(model, test_loader):\n",
        "    model.eval()\n",
        "    all_outputs = []\n",
        "    with torch.no_grad():\n",
        "        for inputs in test_loader:\n",
        "            inputs = inputs.to(device)\n",
        "            outputs = model(inputs)\n",
        "            _, predicted = torch.max(outputs, 1)\n",
        "            all_outputs.extend(predicted.cpu().numpy())\n",
        "    return all_outputs"
      ],
      "metadata": {
        "id": "Ow5Ib88rsojQ"
      },
      "execution_count": 65,
      "outputs": []
    },
    {
      "cell_type": "code",
      "source": [
        "label_mapping = {\n",
        "    0: 'bright dune',\n",
        "    1: 'crater',\n",
        "    2: 'dark dune',\n",
        "    3: 'impact ejecta',\n",
        "    4: 'other',\n",
        "    5: 'slope streak',\n",
        "    6: 'spider',\n",
        "    7: 'swiss cheese'\n",
        "}\n",
        "pred_labels = get_predictions(model, test_loader)\n",
        "decoded_labels=[label_mapping[label] for label in pred_labels]\n",
        "import pandas as pd\n",
        "results = pd.DataFrame({\n",
        "    'File Name': image_filenames,\n",
        "    'Class': decoded_labels\n",
        "})\n",
        "results.to_csv('/content/drive/MyDrive/Mission_Mars/MissionMarsTerrain_submission.csv', index=False)\n",
        "print(\"Predictions saved to CSV file.\")"
      ],
      "metadata": {
        "colab": {
          "base_uri": "https://localhost:8080/"
        },
        "id": "JS_pgZY1stye",
        "outputId": "b25b5380-b69c-47ba-a19f-9fc6f2c585a4"
      },
      "execution_count": 66,
      "outputs": [
        {
          "output_type": "stream",
          "name": "stdout",
          "text": [
            "Predictions saved to CSV file.\n"
          ]
        }
      ]
    },
    {
      "cell_type": "code",
      "source": [
        "import pandas as pd\n",
        "file_path = '/content/drive/MyDrive/Mission_Mars/MissionMarsTerrain_submission.csv'\n",
        "results = pd.read_csv(file_path)\n",
        "final_class=[]\n",
        "for i in range(2000):\n",
        "  final_class.append(0)"
      ],
      "metadata": {
        "id": "5qVFlLXW3zjD"
      },
      "execution_count": 70,
      "outputs": []
    },
    {
      "cell_type": "code",
      "source": [
        "index=results.iloc[:,0]"
      ],
      "metadata": {
        "id": "QEcu6swC7nNk"
      },
      "execution_count": 71,
      "outputs": []
    },
    {
      "cell_type": "code",
      "source": [
        "for i in range(0,len(index)):\n",
        "  t=index[i].split('.')[0]\n",
        "  if len(t)>4:\n",
        "    continue\n",
        "  t=int(t)\n",
        "  final_class[t-1]=results.iloc[i,1]"
      ],
      "metadata": {
        "id": "v5CAK8TS7rtv"
      },
      "execution_count": 72,
      "outputs": []
    },
    {
      "cell_type": "code",
      "source": [
        "len(final_class)"
      ],
      "metadata": {
        "colab": {
          "base_uri": "https://localhost:8080/"
        },
        "id": "e6ZMHqAX7stD",
        "outputId": "d6757135-8092-4dfb-ac6d-8b875654c3ef"
      },
      "execution_count": 73,
      "outputs": [
        {
          "output_type": "execute_result",
          "data": {
            "text/plain": [
              "2000"
            ]
          },
          "metadata": {},
          "execution_count": 73
        }
      ]
    },
    {
      "cell_type": "code",
      "source": [
        "for i in range(0,20):\n",
        "  print(final_class[i])"
      ],
      "metadata": {
        "colab": {
          "base_uri": "https://localhost:8080/"
        },
        "id": "WKdprNAw95Qn",
        "outputId": "fe348a61-5c2e-4540-f6fe-98facb7eedab"
      },
      "execution_count": 76,
      "outputs": [
        {
          "output_type": "stream",
          "name": "stdout",
          "text": [
            "slope streak\n",
            "other\n",
            "crater\n",
            "other\n",
            "other\n",
            "other\n",
            "bright dune\n",
            "other\n",
            "other\n",
            "crater\n",
            "crater\n",
            "crater\n",
            "crater\n",
            "crater\n",
            "bright dune\n",
            "other\n",
            "crater\n",
            "bright dune\n",
            "other\n",
            "other\n"
          ]
        }
      ]
    },
    {
      "cell_type": "code",
      "source": [
        "image_name=[]\n",
        "for i in range(0,2000):\n",
        "  image_name.append(str(i+1)+'.jpg')"
      ],
      "metadata": {
        "id": "T7PsmGnB-C-s"
      },
      "execution_count": 77,
      "outputs": []
    },
    {
      "cell_type": "code",
      "source": [
        "predicted_csv = pd.DataFrame({\n",
        "    'File Name': image_name,\n",
        "    'Class': final_class\n",
        "})\n",
        "predicted_csv.to_csv('/content/drive/MyDrive/Mission_Mars/MissionMarsTerrain_submission.csv', index=False)\n",
        "print(\"Predictions saved to CSV file.\")"
      ],
      "metadata": {
        "colab": {
          "base_uri": "https://localhost:8080/"
        },
        "id": "n7QlEIQi-jE0",
        "outputId": "0bed17e2-e75c-4b7c-bf7b-9ef52a8826a7"
      },
      "execution_count": 78,
      "outputs": [
        {
          "output_type": "stream",
          "name": "stdout",
          "text": [
            "Predictions saved to CSV file.\n"
          ]
        }
      ]
    }
  ]
}